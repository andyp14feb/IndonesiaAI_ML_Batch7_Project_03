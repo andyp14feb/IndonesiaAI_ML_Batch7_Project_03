{
 "cells": [
  {
   "cell_type": "markdown",
   "id": "bc656645",
   "metadata": {},
   "source": [
    "# INTRODUCTION"
   ]
  },
  {
   "cell_type": "markdown",
   "id": "ac7febaa",
   "metadata": {},
   "source": [
    "## Data Definition\n",
    "please refer to :\n",
    "- dataDefinision.md\n",
    "- data_description.txt\n",
    "- CategoricalEncodingnyaPakaiApa.xlsx"
   ]
  },
  {
   "cell_type": "markdown",
   "id": "3e284c4d",
   "metadata": {},
   "source": [
    "## Data fields\n",
    "\n",
    "Here's a brief version of what you'll find in the data description file.\n",
    "\n",
    "- **SalePrice** - the property's sale price in dollars. This is the target variable that you're trying to predict.\n",
    "- **MSSubClass**: The building class\n",
    "- **MSZoning**: The general zoning classification\n",
    "- **LotFrontage**: Linear feet of street connected to property\n",
    "- **LotArea**: Lot size in square feet\n",
    "- **Street**: Type of road access\n",
    "- **Alley**: Type of alley access\n",
    "- **LotShape**: General shape of property\n",
    "- **LandContour**: Flatness of the property\n",
    "- **Utilities**: Type of utilities available\n",
    "- **LotConfig**: Lot configuration\n",
    "- **LandSlope**: Slope of property\n",
    "- **Neighborhood**: Physical locations within Ames city limits\n",
    "- **Condition1**: Proximity to main road or railroad\n",
    "- **Condition2**: Proximity to main road or railroad (if a second is present)\n",
    "- **BldgType**: Type of dwelling\n",
    "- **HouseStyle**: Style of dwelling\n",
    "- **OverallQual**: Overall material and finish quality\n",
    "- **OverallCond**: Overall condition rating\n",
    "- **YearBuilt**: Original construction date\n",
    "- **YearRemodAdd**: Remodel date\n",
    "- **RoofStyle**: Type of roof\n",
    "- **RoofMatl**: Roof material\n",
    "- **Exterior1st**: Exterior covering on house\n",
    "- **Exterior2nd**: Exterior covering on house (if more than one material)\n",
    "- **MasVnrType**: Masonry veneer type\n",
    "- **MasVnrArea**: Masonry veneer area in square feet\n",
    "- **ExterQual**: Exterior material quality\n",
    "- **ExterCond**: Present condition of the material on the exterior\n",
    "- **Foundation**: Type of foundation\n",
    "- **BsmtQual**: Height of the basement\n",
    "- **BsmtCond**: General condition of the basement\n",
    "- **BsmtExposure**: Walkout or garden level basement walls\n",
    "- **BsmtFinType1**: Quality of basement finished area\n",
    "- **BsmtFinSF1**: Type 1 finished square feet\n",
    "- **BsmtFinType2**: Quality of second finished area (if present)\n",
    "- **BsmtFinSF2**: Type 2 finished square feet\n",
    "- **BsmtUnfSF**: Unfinished square feet of basement area\n",
    "- **TotalBsmtSF**: Total square feet of basement area\n",
    "- **Heating**: Type of heating\n",
    "- **HeatingQC**: Heating quality and condition\n",
    "- **CentralAir**: Central air conditioning\n",
    "- **Electrical**: Electrical system\n",
    "- **1stFlrSF**: First Floor square feet\n",
    "- **2ndFlrSF**: Second floor square feet\n",
    "- **LowQualFinSF**: Low quality finished square feet (all floors)\n",
    "- **GrLivArea**: Above grade (ground) living area square feet\n",
    "- **BsmtFullBath**: Basement full bathrooms\n",
    "- **BsmtHalfBath**: Basement half bathrooms\n",
    "- **FullBath**: Full bathrooms above grade\n",
    "- **HalfBath**: Half baths above grade\n",
    "- **Bedroom**: Number of bedrooms above basement level\n",
    "- **Kitchen**: Number of kitchens\n",
    "- **KitchenQual**: Kitchen quality\n",
    "- **TotRmsAbvGrd**: Total rooms above grade (does not include bathrooms)\n",
    "- **Functional**: Home functionality rating\n",
    "- **Fireplaces**: Number of fireplaces\n",
    "- **FireplaceQu**: Fireplace quality\n",
    "- **GarageType**: Garage location\n",
    "- **GarageYrBlt**: Year garage was built\n",
    "- **GarageFinish**: Interior finish of the garage\n",
    "- **GarageCars**: Size of garage in car capacity\n",
    "- **GarageArea**: Size of garage in square feet\n",
    "- **GarageQual**: Garage quality\n",
    "- **GarageCond**: Garage condition\n",
    "- **PavedDrive**: Paved driveway\n",
    "- **WoodDeckSF**: Wood deck area in square feet\n",
    "- **OpenPorchSF**: Open porch area in square feet\n",
    "- **EnclosedPorch**: Enclosed porch area in square feet\n",
    "- **3SsnPorch**: Three season porch area in square feet\n",
    "- **ScreenPorch**: Screen porch area in square feet\n",
    "- **PoolArea**: Pool area in square feet\n",
    "- **PoolQC**: Pool quality\n",
    "- **Fence**: Fence quality\n",
    "- **MiscFeature**: Miscellaneous feature not covered in other categories\n",
    "- **MiscVal**: $Value of miscellaneous feature\n",
    "- **MoSold**: Month Sold\n",
    "- **YrSold**: Year Sold\n",
    "- **SaleType**: Type of sale\n",
    "- **SaleCondition**: Condition of sale"
   ]
  },
  {
   "cell_type": "markdown",
   "id": "be935496",
   "metadata": {},
   "source": [
    "# IMPORTS"
   ]
  },
  {
   "cell_type": "code",
   "execution_count": 669,
   "id": "8ed0406f",
   "metadata": {},
   "outputs": [],
   "source": [
    "# ============================ GENERAL ============================\n",
    "import os\n",
    "import re\n",
    "import pickle\n",
    "import numpy as np\n",
    "import pandas as pd\n",
    "from datetime import datetime\n",
    "\n",
    "# ============================ PLOTTING ============================\n",
    "import matplotlib.pyplot as plt\n",
    "import seaborn as sns\n",
    "\n",
    "# ============================ PREPROCESSING & ENCODING ============================\n",
    "from sklearn.model_selection import train_test_split\n",
    "from sklearn.preprocessing import StandardScaler\n",
    "from category_encoders import TargetEncoder\n",
    "\n",
    "# ============================ MODELLING ============================\n",
    "from sklearn.linear_model import LinearRegression\n",
    "from sklearn.ensemble import RandomForestRegressor\n",
    "from xgboost import XGBRegressor\n",
    "\n",
    "# ============================ EVALUATION ============================\n",
    "from sklearn.metrics import mean_squared_error, mean_absolute_error, r2_score, make_scorer\n",
    "from statsmodels.stats.outliers_influence import variance_inflation_factor\n",
    "\n",
    "# ============================ HYPERPARAMETER TUNING ============================\n",
    "from sklearn.model_selection import RandomizedSearchCV, GridSearchCV\n",
    "from scipy.stats import uniform, randint\n",
    "\n"
   ]
  },
  {
   "cell_type": "markdown",
   "id": "f577de37",
   "metadata": {},
   "source": [
    "# Function Collection"
   ]
  },
  {
   "cell_type": "markdown",
   "id": "5b2e2921",
   "metadata": {},
   "source": [
    "#### get_current_datetime()"
   ]
  },
  {
   "cell_type": "code",
   "execution_count": 670,
   "id": "2f87555f",
   "metadata": {},
   "outputs": [],
   "source": [
    "\n",
    "def get_now_string(style = 1):\n",
    "    # Dapetin waktu skrg\n",
    "    current_datetime = datetime.now()\n",
    "    \n",
    "    # Cek style yang diminta\n",
    "    if style == 1:\n",
    "        # Format jadi format yang diminta 'yyyy-mm-dd_ddd_hhmm'\n",
    "        formatted_datetime = current_datetime.strftime('%Y-%m-%d_%a_%H%M_%S')\n",
    "    elif style == 2:\n",
    "        # Format ke 'yyyy-mm-dd_hhmm'\n",
    "        formatted_datetime = current_datetime.strftime('%Y-%m-%d_%H%M_%S')\n",
    "    elif style == 3:\n",
    "        # Format jadi format yang diminta 'yyyy-mm-dd_ddd_hhmm'\n",
    "        formatted_datetime = current_datetime.strftime('%Y-%m-%d_%a_%H%M')\n",
    "    elif style == 4:\n",
    "        # Format ke 'yyyy-mm-dd_hhmm'\n",
    "        formatted_datetime = current_datetime.strftime('%Y-%m-%d_%H%M')\n",
    "    else:\n",
    "        # Default format 'yyyy-mm-dd_ddd_hhmm'\n",
    "        formatted_datetime = current_datetime.strftime('%Y-%m-%d_%a_%H%M_%S')\n",
    "    \n",
    "    return formatted_datetime\n",
    "\n"
   ]
  },
  {
   "cell_type": "markdown",
   "id": "2bef5b2a",
   "metadata": {},
   "source": [
    "#### normalize_column_names()"
   ]
  },
  {
   "cell_type": "code",
   "execution_count": 671,
   "id": "0c6708cf",
   "metadata": {},
   "outputs": [],
   "source": [
    "def normalize_column_names(df):\n",
    "    # Normalisasi setiap kolom dalam dataframe agar enak dibaca\n",
    "    df.columns = [\n",
    "        # Menambahkan prefix berdasarkan tipe data kolom\n",
    "        ('num_' if pd.api.types.is_numeric_dtype(df[col]) else 'txt_') +\n",
    "        re.sub(r'[^a-zA-Z0-9\\s]', '_', col)  # Ganti simbol dengan '_'\n",
    "        .replace(' ', '_')  # Ganti spasi dengan '_'\n",
    "        .lower()  # Ubah ke lowercase\n",
    "        for col in df.columns\n",
    "    ]\n",
    "    \n",
    "    return df\n"
   ]
  },
  {
   "cell_type": "markdown",
   "id": "ddce0b15",
   "metadata": {},
   "source": [
    "#### printMissingInfo()"
   ]
  },
  {
   "cell_type": "code",
   "execution_count": 672,
   "id": "bfa4fe48",
   "metadata": {},
   "outputs": [],
   "source": [
    "def printMissingInfo(df):\n",
    "    missing_info =df.isnull().sum()\n",
    "    missing_info = missing_info[missing_info>0]\n",
    "    missing_info= missing_info.sort_values(ascending=False)\n",
    "    missing_info_percentage = (missing_info / len(df)) * 100\n",
    "\n",
    "    missing_summary = pd.DataFrame({\n",
    "        'Missing Count': missing_info,\n",
    "        'Missing Percentage': missing_info_percentage\n",
    "    })\n",
    "\n",
    "    return missing_summary.sort_values(by='Missing Count', ascending=False)"
   ]
  },
  {
   "cell_type": "markdown",
   "id": "5b0b8a3c",
   "metadata": {},
   "source": [
    "#### one_hot_encode_columns_general()"
   ]
  },
  {
   "cell_type": "code",
   "execution_count": 673,
   "id": "4e849b2e",
   "metadata": {},
   "outputs": [],
   "source": [
    "def one_hot_encode_columns_general(df, columns):\n",
    "    df_encoded = pd.get_dummies(df[columns], prefix=columns)\n",
    "    df = df.drop(columns=columns)\n",
    "    df = pd.concat([df, df_encoded], axis=1)\n",
    "    return df"
   ]
  },
  {
   "cell_type": "markdown",
   "id": "ae20f035",
   "metadata": {},
   "source": [
    "#### target_encode_columns_general"
   ]
  },
  {
   "cell_type": "code",
   "execution_count": 674,
   "id": "1dd944a8",
   "metadata": {},
   "outputs": [],
   "source": [
    "def target_encode_columns_general(df, target_col, columns):\n",
    "    te = TargetEncoder(cols=columns)\n",
    "    encoded = te.fit_transform(df[columns], df[target_col])\n",
    "    \n",
    "    df_transformed = df.drop(columns=columns)\n",
    "    df_transformed = pd.concat([df_transformed, encoded], axis=1)\n",
    "    \n",
    "    return df_transformed, te\n"
   ]
  },
  {
   "cell_type": "markdown",
   "id": "81e76508",
   "metadata": {},
   "source": [
    "#### save_model(model, filename)"
   ]
  },
  {
   "cell_type": "code",
   "execution_count": 675,
   "id": "65aa7dd4",
   "metadata": {},
   "outputs": [],
   "source": [
    "def save_model(model, filename):\n",
    "    with open(filename, 'wb') as file:\n",
    "        pickle.dump(model, file)\n",
    "    print(f\"Model saved to {filename}\")"
   ]
  },
  {
   "cell_type": "markdown",
   "id": "11444f69",
   "metadata": {},
   "source": [
    "#### load_model(filename)"
   ]
  },
  {
   "cell_type": "code",
   "execution_count": 676,
   "id": "9f9ba5dd",
   "metadata": {},
   "outputs": [],
   "source": [
    "def load_model(filename):\n",
    "    with open(filename, 'rb') as file:\n",
    "        model = pickle.load(file)\n",
    "    print(f\"Model loaded from {filename}\")\n",
    "    return model   "
   ]
  },
  {
   "cell_type": "markdown",
   "id": "bb9bb98e",
   "metadata": {},
   "source": [
    "#### show_corrMap(pandas_df, savedImageName)"
   ]
  },
  {
   "cell_type": "code",
   "execution_count": 677,
   "id": "fb380f43",
   "metadata": {},
   "outputs": [],
   "source": [
    "def show_corrMap(pandas_df, savedImageName):\n",
    "    df_corr = pandas_df.corr(numeric_only=True)\n",
    "    # --- create upper-triangle mask to avoid duplicates (optional) ---\n",
    "    mask = np.triu(np.ones_like(df_corr, dtype=bool))\n",
    "\n",
    "    plt.figure(figsize=(11, 9))\n",
    "    sns.heatmap(\n",
    "        df_corr,\n",
    "        # mask=mask,              # comment this line if you want full matrix\n",
    "        cmap='coolwarm',\n",
    "        center=0,\n",
    "        vmin=-1, vmax=1,\n",
    "        annot=True,             # <-- numbers on cells\n",
    "        fmt=\".2f\",              # 2-decimal format\n",
    "        annot_kws={\"size\": 8},  # font size for numbers\n",
    "        linewidths=.5,\n",
    "        square=True,\n",
    "        cbar_kws={\"shrink\": .8}\n",
    "    )\n",
    "    plt.title('Feature Correlation Matrix (annotated)', fontsize=14)\n",
    "    plt.xticks(rotation=45, ha='right')\n",
    "    plt.yticks(rotation=0)\n",
    "    plt.tight_layout()\n",
    "    plt.savefig(savedImageName, dpi=300)\n",
    "    plt.show()"
   ]
  },
  {
   "cell_type": "markdown",
   "id": "d57ea9fd",
   "metadata": {},
   "source": [
    "#### remove_highly_correlated_features(df, target_column, threshold=0.7)"
   ]
  },
  {
   "cell_type": "code",
   "execution_count": 678,
   "id": "02f96025",
   "metadata": {},
   "outputs": [],
   "source": [
    "def remove_highly_correlated_features(df, target_column, threshold=0.7):\n",
    "\n",
    "    dfx = df.copy() \n",
    "    removed = []\n",
    "\n",
    "    while True:\n",
    "        # Calculate correlation matrix\n",
    "        corr_matrix = dfx.corr()\n",
    "\n",
    "        # make absolute value then sort highest to lowest\n",
    "        high_corr_pairs = (\n",
    "            corr_matrix\n",
    "            .abs() \n",
    "            .where(~np.eye(len(corr_matrix), dtype=bool))  # mask diagonal\n",
    "            .stack() # dataframe 2D jadi 1D (semacam di pivot jadi panjang ke bawah feature1, feature2, value)\n",
    "            .sort_values(ascending=False)\n",
    "        )\n",
    "\n",
    "        # Filter corr that above threshold\n",
    "        high_corr_pairs = high_corr_pairs[high_corr_pairs > threshold]\n",
    "        if high_corr_pairs.empty:\n",
    "            break  #selesai\n",
    "\n",
    "        # Pick the highest correlation pair\n",
    "        feature1, feature2 = high_corr_pairs.index[0]\n",
    "\n",
    "        # Compare correlation to target\n",
    "        corr_to_target = corr_matrix[target_column]\n",
    "        corr1 = abs(corr_to_target.get(feature1, 0))\n",
    "        corr2 = abs(corr_to_target.get(feature2, 0))\n",
    "        # Remove the weaker one\n",
    "        if corr1 < corr2:\n",
    "            to_remove = feature1\n",
    "        else:\n",
    "            to_remove = feature2\n",
    "        print(f'will remove {to_remove}')\n",
    "        dfx.drop(columns=to_remove, inplace=True)\n",
    "        \n",
    "        removed.append(to_remove)\n",
    "\n",
    "    return dfx, removed   "
   ]
  },
  {
   "cell_type": "markdown",
   "id": "abf8521b",
   "metadata": {},
   "source": [
    "#### calculate_vif_v2(df, target_column, vif_threshold=5.0)"
   ]
  },
  {
   "cell_type": "code",
   "execution_count": 679,
   "id": "786e94ca",
   "metadata": {},
   "outputs": [],
   "source": [
    "def calculate_vif_v2(df, target_column, vif_threshold=5.0):\n",
    "   \n",
    "    print('entering calculate_vif()')\n",
    "    # Work on a copy of the feature set (drop the target column)\n",
    "    X = df.drop(columns=[target_column]).copy()\n",
    "    dropped_features = []\n",
    "\n",
    "    while True:\n",
    "        # Calculate VIF\n",
    "        print('Calculate VIF')\n",
    "        vif_data = pd.DataFrame()\n",
    "        vif_data['feature'] = X.columns\n",
    "        vif_data['VIF'] = [variance_inflation_factor(X.values, i) for i in range(X.shape[1])]\n",
    "\n",
    "        # Check the highest VIF\n",
    "        max_vif = vif_data['VIF'].max()\n",
    "        if max_vif > vif_threshold:\n",
    "            feature_to_drop = vif_data.sort_values('VIF', ascending=False).iloc[0]['feature']\n",
    "            print(f\"📉 Dropping '{feature_to_drop}' with VIF = {max_vif:.2f}\")\n",
    "            X.drop(columns=[feature_to_drop], inplace=True)\n",
    "            dropped_features.append(feature_to_drop)\n",
    "        else:\n",
    "            print(\"✅ All features now have VIF below threshold.\")\n",
    "            break\n",
    "\n",
    "    # Final VIF report\n",
    "    final_vif = pd.DataFrame()\n",
    "    final_vif['feature'] = X.columns\n",
    "    final_vif['VIF'] = [variance_inflation_factor(X.values, i) for i in range(X.shape[1])]\n",
    "\n",
    "    return pd.concat([X, df[[target_column]]], axis=1), dropped_features, final_vif"
   ]
  },
  {
   "cell_type": "markdown",
   "id": "f6529c17",
   "metadata": {},
   "source": [
    "#### calculate_mape(y_actual,y_pred)"
   ]
  },
  {
   "cell_type": "code",
   "execution_count": 680,
   "id": "ebdab96c",
   "metadata": {},
   "outputs": [],
   "source": [
    "def calculate_mape(y_actual, y_pred):\n",
    "    y_actual = np.array(y_actual)\n",
    "    y_pred = np.array(y_pred)\n",
    "\n",
    "    absolute_percentage_error = np.abs((y_actual - y_pred) / y_actual) * 100\n",
    "\n",
    "    mape = np.mean(absolute_percentage_error)\n",
    "    return mape"
   ]
  },
  {
   "cell_type": "markdown",
   "id": "3289a1ac",
   "metadata": {},
   "source": [
    "# EDA & Data Prep"
   ]
  },
  {
   "cell_type": "markdown",
   "id": "717eb5ee",
   "metadata": {},
   "source": [
    "## Load Data"
   ]
  },
  {
   "cell_type": "code",
   "execution_count": 681,
   "id": "42a81fa8",
   "metadata": {},
   "outputs": [],
   "source": [
    "# Load the sample data\n",
    "file_path = './data/train.csv'\n",
    "df = pd.read_csv(file_path)\n",
    "\n",
    "df_original = df.copy(deep=True)\n"
   ]
  },
  {
   "cell_type": "markdown",
   "id": "b8ee6440",
   "metadata": {},
   "source": [
    "## Feature Name Normalization"
   ]
  },
  {
   "cell_type": "code",
   "execution_count": 682,
   "id": "e985044d",
   "metadata": {},
   "outputs": [],
   "source": [
    "df_01_normalize = normalize_column_names(df_original.copy(deep=True))"
   ]
  },
  {
   "cell_type": "markdown",
   "id": "b4223bcf",
   "metadata": {
    "vscode": {
     "languageId": "raw"
    }
   },
   "source": [
    "**num_mssubclass** ,though the content is number, but I think it is only label (based on data description)\n",
    "so it should be handled as text / criteria\n"
   ]
  },
  {
   "cell_type": "code",
   "execution_count": 683,
   "id": "5b1fa0f5",
   "metadata": {},
   "outputs": [],
   "source": [
    "df_01_normalize=df_01_normalize.rename(columns={'num_mssubclass': 'txt_mssubclass'})"
   ]
  },
  {
   "cell_type": "code",
   "execution_count": 684,
   "id": "3bb8799f",
   "metadata": {},
   "outputs": [
    {
     "name": "stdout",
     "output_type": "stream",
     "text": [
      "Index(['num_id', 'txt_mssubclass', 'txt_mszoning', 'num_lotfrontage',\n",
      "       'num_lotarea', 'txt_street', 'txt_alley', 'txt_lotshape',\n",
      "       'txt_landcontour', 'txt_utilities', 'txt_lotconfig', 'txt_landslope',\n",
      "       'txt_neighborhood', 'txt_condition1', 'txt_condition2', 'txt_bldgtype',\n",
      "       'txt_housestyle', 'num_overallqual', 'num_overallcond', 'num_yearbuilt',\n",
      "       'num_yearremodadd', 'txt_roofstyle', 'txt_roofmatl', 'txt_exterior1st',\n",
      "       'txt_exterior2nd', 'txt_masvnrtype', 'num_masvnrarea', 'txt_exterqual',\n",
      "       'txt_extercond', 'txt_foundation', 'txt_bsmtqual', 'txt_bsmtcond',\n",
      "       'txt_bsmtexposure', 'txt_bsmtfintype1', 'num_bsmtfinsf1',\n",
      "       'txt_bsmtfintype2', 'num_bsmtfinsf2', 'num_bsmtunfsf',\n",
      "       'num_totalbsmtsf', 'txt_heating', 'txt_heatingqc', 'txt_centralair',\n",
      "       'txt_electrical', 'num_1stflrsf', 'num_2ndflrsf', 'num_lowqualfinsf',\n",
      "       'num_grlivarea', 'num_bsmtfullbath', 'num_bsmthalfbath', 'num_fullbath',\n",
      "       'num_halfbath', 'num_bedroomabvgr', 'num_kitchenabvgr',\n",
      "       'txt_kitchenqual', 'num_totrmsabvgrd', 'txt_functional',\n",
      "       'num_fireplaces', 'txt_fireplacequ', 'txt_garagetype',\n",
      "       'num_garageyrblt', 'txt_garagefinish', 'num_garagecars',\n",
      "       'num_garagearea', 'txt_garagequal', 'txt_garagecond', 'txt_paveddrive',\n",
      "       'num_wooddecksf', 'num_openporchsf', 'num_enclosedporch',\n",
      "       'num_3ssnporch', 'num_screenporch', 'num_poolarea', 'txt_poolqc',\n",
      "       'txt_fence', 'txt_miscfeature', 'num_miscval', 'num_mosold',\n",
      "       'num_yrsold', 'txt_saletype', 'txt_salecondition', 'num_saleprice'],\n",
      "      dtype='object')\n"
     ]
    }
   ],
   "source": [
    "df=df_01_normalize.copy(deep=True)\n",
    "print(df.columns)"
   ]
  },
  {
   "cell_type": "markdown",
   "id": "377e39a8",
   "metadata": {},
   "source": [
    "## mini EDA summary"
   ]
  },
  {
   "cell_type": "code",
   "execution_count": 685,
   "id": "5ac66e20",
   "metadata": {},
   "outputs": [
    {
     "name": "stdout",
     "output_type": "stream",
     "text": [
      "Summary ditulis ke output\\2025-06-11_Wed_1602_26_summary.txt\n"
     ]
    }
   ],
   "source": [
    "# Membuat ringkasan EDA\n",
    "eda_summary = {\n",
    "    \"Dataset Shape\": df.shape,\n",
    "    \"Column Names\": df.columns.tolist(),\n",
    "    \n",
    "    # Menampilkan hanya kolom dengan missing values dan jumlah missing values-nya\n",
    "    \"Missing Values\": df.isnull().sum()[df.isnull().sum() > 0].sort_values(ascending=False).apply(lambda x: f\"{x}\"),\n",
    "    \n",
    "    \"Numerical Features\": df.select_dtypes(include=['number']).columns.tolist(),\n",
    "    \"Categorical Features\": df.select_dtypes(include=['object']).columns.tolist(),\n",
    "    \"Sample Data\": df.head(15)\n",
    "}\n",
    "\n",
    "# Menyiapkan direktori dan nama file output\n",
    "output_dir = 'output'\n",
    "os.makedirs(output_dir, exist_ok=True)  # Membuat folder jika belum ada\n",
    "output_file = os.path.join(output_dir, f'{get_now_string()}_summary.txt')\n",
    "\n",
    "# Menulis ringkasan EDA ke dalam file teks\n",
    "with open(output_file, 'w') as f:\n",
    "    f.write(\"Exploratory Data Analysis Summary:\\n\\n\")\n",
    "    \n",
    "    # Menyusun data ringkasan dan menulis ke file\n",
    "    for key, value in eda_summary.items():\n",
    "        f.write(f\"{key}:\\n\")\n",
    "        \n",
    "        # Mengubah list atau DataFrame menjadi string\n",
    "        if isinstance(value, (list, pd.Series)):\n",
    "            value = '\\n'.join(map(str, value))  # Menyusun elemen list menjadi string\n",
    "        elif isinstance(value, pd.DataFrame):\n",
    "            value = value.to_string(index=False)  # Mengubah DataFrame menjadi string tanpa index\n",
    "\n",
    "        f.write(f\"{value}\\n\\n\")\n",
    "\n",
    "# Menampilkan pesan bahwa ringkasan telah ditulis\n",
    "print(f\"Summary ditulis ke {output_file}\")\n"
   ]
  },
  {
   "cell_type": "code",
   "execution_count": 686,
   "id": "98c659bf",
   "metadata": {},
   "outputs": [
    {
     "data": {
      "image/png": "[encoded data removed]",
      "text/plain": [
       "<Figure size 800x600 with 1 Axes>"
      ]
     },
     "metadata": {},
     "output_type": "display_data"
    },
    {
     "name": "stdout",
     "output_type": "stream",
     "text": [
      "Skewness of num_saleprice: 1.8828757597682129\n"
     ]
    }
   ],
   "source": [
    "feature = 'num_saleprice'\n",
    "\n",
    "# Plot distribution\n",
    "plt.figure(figsize=(8, 6))\n",
    "sns.histplot(df[feature], kde=True, color='blue', bins=30)\n",
    "plt.title(f'Distribution of {feature}')\n",
    "plt.xlabel(feature)\n",
    "plt.ylabel('Frequency')\n",
    "plt.show()\n",
    "\n",
    "# Calculate skewness\n",
    "skewness = df[feature].skew()\n",
    "\n",
    "# Display skewness\n",
    "print(f'Skewness of {feature}: {skewness}')"
   ]
  },
  {
   "cell_type": "markdown",
   "id": "dd6b545a",
   "metadata": {},
   "source": [
    "## Handling Missing Values"
   ]
  },
  {
   "cell_type": "code",
   "execution_count": 687,
   "id": "16beb72e",
   "metadata": {},
   "outputs": [
    {
     "data": {
      "application/vnd.microsoft.datawrangler.viewer.v0+json": {
       "columns": [
        {
         "name": "index",
         "rawType": "object",
         "type": "string"
        },
        {
         "name": "Missing Count",
         "rawType": "int64",
         "type": "integer"
        },
        {
         "name": "Missing Percentage",
         "rawType": "float64",
         "type": "float"
        }
       ],
       "ref": "8372712d-affa-408e-9048-0a7b38776149",
       "rows": [
        [
         "txt_poolqc",
         "1453",
         "99.52054794520548"
        ],
        [
         "txt_miscfeature",
         "1406",
         "96.30136986301369"
        ],
        [
         "txt_alley",
         "1369",
         "93.76712328767123"
        ],
        [
         "txt_fence",
         "1179",
         "80.75342465753424"
        ],
        [
         "txt_fireplacequ",
         "690",
         "47.26027397260274"
        ],
        [
         "num_lotfrontage",
         "259",
         "17.73972602739726"
        ],
        [
         "txt_garagefinish",
         "81",
         "5.5479452054794525"
        ],
        [
         "txt_garagecond",
         "81",
         "5.5479452054794525"
        ],
        [
         "txt_garagequal",
         "81",
         "5.5479452054794525"
        ],
        [
         "num_garageyrblt",
         "81",
         "5.5479452054794525"
        ],
        [
         "txt_garagetype",
         "81",
         "5.5479452054794525"
        ],
        [
         "txt_bsmtexposure",
         "38",
         "2.6027397260273974"
        ],
        [
         "txt_bsmtfintype2",
         "38",
         "2.6027397260273974"
        ],
        [
         "txt_bsmtfintype1",
         "37",
         "2.5342465753424657"
        ],
        [
         "txt_bsmtcond",
         "37",
         "2.5342465753424657"
        ],
        [
         "txt_bsmtqual",
         "37",
         "2.5342465753424657"
        ],
        [
         "num_masvnrarea",
         "8",
         "0.547945205479452"
        ],
        [
         "txt_masvnrtype",
         "8",
         "0.547945205479452"
        ],
        [
         "txt_electrical",
         "1",
         "0.0684931506849315"
        ]
       ],
       "shape": {
        "columns": 2,
        "rows": 19
       }
      },
      "text/html": [
       "<div>\n",
       "<style scoped>\n",
       "    .dataframe tbody tr th:only-of-type {\n",
       "        vertical-align: middle;\n",
       "    }\n",
       "\n",
       "    .dataframe tbody tr th {\n",
       "        vertical-align: top;\n",
       "    }\n",
       "\n",
       "    .dataframe thead th {\n",
       "        text-align: right;\n",
       "    }\n",
       "</style>\n",
       "<table border=\"1\" class=\"dataframe\">\n",
       "  <thead>\n",
       "    <tr style=\"text-align: right;\">\n",
       "      <th></th>\n",
       "      <th>Missing Count</th>\n",
       "      <th>Missing Percentage</th>\n",
       "    </tr>\n",
       "  </thead>\n",
       "  <tbody>\n",
       "    <tr>\n",
       "      <th>txt_poolqc</th>\n",
       "      <td>1453</td>\n",
       "      <td>99.520548</td>\n",
       "    </tr>\n",
       "    <tr>\n",
       "      <th>txt_miscfeature</th>\n",
       "      <td>1406</td>\n",
       "      <td>96.301370</td>\n",
       "    </tr>\n",
       "    <tr>\n",
       "      <th>txt_alley</th>\n",
       "      <td>1369</td>\n",
       "      <td>93.767123</td>\n",
       "    </tr>\n",
       "    <tr>\n",
       "      <th>txt_fence</th>\n",
       "      <td>1179</td>\n",
       "      <td>80.753425</td>\n",
       "    </tr>\n",
       "    <tr>\n",
       "      <th>txt_fireplacequ</th>\n",
       "      <td>690</td>\n",
       "      <td>47.260274</td>\n",
       "    </tr>\n",
       "    <tr>\n",
       "      <th>num_lotfrontage</th>\n",
       "      <td>259</td>\n",
       "      <td>17.739726</td>\n",
       "    </tr>\n",
       "    <tr>\n",
       "      <th>txt_garagefinish</th>\n",
       "      <td>81</td>\n",
       "      <td>5.547945</td>\n",
       "    </tr>\n",
       "    <tr>\n",
       "      <th>txt_garagecond</th>\n",
       "      <td>81</td>\n",
       "      <td>5.547945</td>\n",
       "    </tr>\n",
       "    <tr>\n",
       "      <th>txt_garagequal</th>\n",
       "      <td>81</td>\n",
       "      <td>5.547945</td>\n",
       "    </tr>\n",
       "    <tr>\n",
       "      <th>num_garageyrblt</th>\n",
       "      <td>81</td>\n",
       "      <td>5.547945</td>\n",
       "    </tr>\n",
       "    <tr>\n",
       "      <th>txt_garagetype</th>\n",
       "      <td>81</td>\n",
       "      <td>5.547945</td>\n",
       "    </tr>\n",
       "    <tr>\n",
       "      <th>txt_bsmtexposure</th>\n",
       "      <td>38</td>\n",
       "      <td>2.602740</td>\n",
       "    </tr>\n",
       "    <tr>\n",
       "      <th>txt_bsmtfintype2</th>\n",
       "      <td>38</td>\n",
       "      <td>2.602740</td>\n",
       "    </tr>\n",
       "    <tr>\n",
       "      <th>txt_bsmtfintype1</th>\n",
       "      <td>37</td>\n",
       "      <td>2.534247</td>\n",
       "    </tr>\n",
       "    <tr>\n",
       "      <th>txt_bsmtcond</th>\n",
       "      <td>37</td>\n",
       "      <td>2.534247</td>\n",
       "    </tr>\n",
       "    <tr>\n",
       "      <th>txt_bsmtqual</th>\n",
       "      <td>37</td>\n",
       "      <td>2.534247</td>\n",
       "    </tr>\n",
       "    <tr>\n",
       "      <th>num_masvnrarea</th>\n",
       "      <td>8</td>\n",
       "      <td>0.547945</td>\n",
       "    </tr>\n",
       "    <tr>\n",
       "      <th>txt_masvnrtype</th>\n",
       "      <td>8</td>\n",
       "      <td>0.547945</td>\n",
       "    </tr>\n",
       "    <tr>\n",
       "      <th>txt_electrical</th>\n",
       "      <td>1</td>\n",
       "      <td>0.068493</td>\n",
       "    </tr>\n",
       "  </tbody>\n",
       "</table>\n",
       "</div>"
      ],
      "text/plain": [
       "                  Missing Count  Missing Percentage\n",
       "txt_poolqc                 1453           99.520548\n",
       "txt_miscfeature            1406           96.301370\n",
       "txt_alley                  1369           93.767123\n",
       "txt_fence                  1179           80.753425\n",
       "txt_fireplacequ             690           47.260274\n",
       "num_lotfrontage             259           17.739726\n",
       "txt_garagefinish             81            5.547945\n",
       "txt_garagecond               81            5.547945\n",
       "txt_garagequal               81            5.547945\n",
       "num_garageyrblt              81            5.547945\n",
       "txt_garagetype               81            5.547945\n",
       "txt_bsmtexposure             38            2.602740\n",
       "txt_bsmtfintype2             38            2.602740\n",
       "txt_bsmtfintype1             37            2.534247\n",
       "txt_bsmtcond                 37            2.534247\n",
       "txt_bsmtqual                 37            2.534247\n",
       "num_masvnrarea                8            0.547945\n",
       "txt_masvnrtype                8            0.547945\n",
       "txt_electrical                1            0.068493"
      ]
     },
     "execution_count": 687,
     "metadata": {},
     "output_type": "execute_result"
    }
   ],
   "source": [
    "printMissingInfo(df)"
   ]
  },
  {
   "cell_type": "raw",
   "id": "96e98758",
   "metadata": {
    "vscode": {
     "languageId": "raw"
    }
   },
   "source": [
    "mostly are txt_ (categorical columns) that has missing values<br>"
   ]
  },
  {
   "cell_type": "markdown",
   "id": "a47b2471",
   "metadata": {},
   "source": [
    "### txt_poolqc"
   ]
  },
  {
   "cell_type": "code",
   "execution_count": 688,
   "id": "29327cc0",
   "metadata": {},
   "outputs": [
    {
     "name": "stdout",
     "output_type": "stream",
     "text": [
      "[nan 'Ex' 'Fa' 'Gd']\n",
      "      num_poolarea txt_poolqc\n",
      "0                0        NaN\n",
      "1                0        NaN\n",
      "2                0        NaN\n",
      "3                0        NaN\n",
      "4                0        NaN\n",
      "...            ...        ...\n",
      "1455             0        NaN\n",
      "1456             0        NaN\n",
      "1457             0        NaN\n",
      "1458             0        NaN\n",
      "1459             0        NaN\n",
      "\n",
      "[1453 rows x 2 columns]\n",
      "      num_poolarea txt_poolqc\n",
      "0                0        NaN\n",
      "1                0        NaN\n",
      "2                0        NaN\n",
      "3                0        NaN\n",
      "4                0        NaN\n",
      "...            ...        ...\n",
      "1455             0        NaN\n",
      "1456             0        NaN\n",
      "1457             0        NaN\n",
      "1458             0        NaN\n",
      "1459             0        NaN\n",
      "\n",
      "[1453 rows x 2 columns]\n"
     ]
    }
   ],
   "source": [
    "# =============================\n",
    "# Cek kolom txt_poolqc\n",
    "# =============================\n",
    "\n",
    "print(df['txt_poolqc'].unique())\n",
    "\n",
    "ygNull = df['txt_poolqc'].isnull()\n",
    "df_filtered = df[ygNull]\n",
    "df_result = df_filtered[['num_poolarea', 'txt_poolqc']]\n",
    "print(df_result)\n",
    "\n",
    "ygKosong = df_result['num_poolarea'] == 0\n",
    "df_result2 = df_result[ygKosong]\n",
    "print(df_result2)"
   ]
  },
  {
   "cell_type": "code",
   "execution_count": 689,
   "id": "6830df1e",
   "metadata": {},
   "outputs": [
    {
     "name": "stdout",
     "output_type": "stream",
     "text": [
      "['NA' 'Ex' 'Fa' 'Gd']\n"
     ]
    }
   ],
   "source": [
    "# =============================\n",
    "# Cek kolom txt_poolqc\n",
    "# =============================\n",
    "df.loc[df['num_poolarea'] == 0, 'txt_poolqc'] = \"NA\"\n",
    "\n",
    "print(df['txt_poolqc'].unique())\n"
   ]
  },
  {
   "cell_type": "code",
   "execution_count": 690,
   "id": "a6b3863c",
   "metadata": {},
   "outputs": [
    {
     "data": {
      "application/vnd.microsoft.datawrangler.viewer.v0+json": {
       "columns": [
        {
         "name": "index",
         "rawType": "object",
         "type": "string"
        },
        {
         "name": "Missing Count",
         "rawType": "int64",
         "type": "integer"
        },
        {
         "name": "Missing Percentage",
         "rawType": "float64",
         "type": "float"
        }
       ],
       "ref": "df9d2010-57c8-4c16-91f8-5eb0bda40901",
       "rows": [
        [
         "txt_miscfeature",
         "1406",
         "96.30136986301369"
        ],
        [
         "txt_alley",
         "1369",
         "93.76712328767123"
        ],
        [
         "txt_fence",
         "1179",
         "80.75342465753424"
        ],
        [
         "txt_fireplacequ",
         "690",
         "47.26027397260274"
        ],
        [
         "num_lotfrontage",
         "259",
         "17.73972602739726"
        ],
        [
         "txt_garagefinish",
         "81",
         "5.5479452054794525"
        ],
        [
         "txt_garagequal",
         "81",
         "5.5479452054794525"
        ],
        [
         "txt_garagecond",
         "81",
         "5.5479452054794525"
        ],
        [
         "num_garageyrblt",
         "81",
         "5.5479452054794525"
        ],
        [
         "txt_garagetype",
         "81",
         "5.5479452054794525"
        ],
        [
         "txt_bsmtexposure",
         "38",
         "2.6027397260273974"
        ],
        [
         "txt_bsmtfintype2",
         "38",
         "2.6027397260273974"
        ],
        [
         "txt_bsmtcond",
         "37",
         "2.5342465753424657"
        ],
        [
         "txt_bsmtfintype1",
         "37",
         "2.5342465753424657"
        ],
        [
         "txt_bsmtqual",
         "37",
         "2.5342465753424657"
        ],
        [
         "num_masvnrarea",
         "8",
         "0.547945205479452"
        ],
        [
         "txt_masvnrtype",
         "8",
         "0.547945205479452"
        ],
        [
         "txt_electrical",
         "1",
         "0.0684931506849315"
        ]
       ],
       "shape": {
        "columns": 2,
        "rows": 18
       }
      },
      "text/html": [
       "<div>\n",
       "<style scoped>\n",
       "    .dataframe tbody tr th:only-of-type {\n",
       "        vertical-align: middle;\n",
       "    }\n",
       "\n",
       "    .dataframe tbody tr th {\n",
       "        vertical-align: top;\n",
       "    }\n",
       "\n",
       "    .dataframe thead th {\n",
       "        text-align: right;\n",
       "    }\n",
       "</style>\n",
       "<table border=\"1\" class=\"dataframe\">\n",
       "  <thead>\n",
       "    <tr style=\"text-align: right;\">\n",
       "      <th></th>\n",
       "      <th>Missing Count</th>\n",
       "      <th>Missing Percentage</th>\n",
       "    </tr>\n",
       "  </thead>\n",
       "  <tbody>\n",
       "    <tr>\n",
       "      <th>txt_miscfeature</th>\n",
       "      <td>1406</td>\n",
       "      <td>96.301370</td>\n",
       "    </tr>\n",
       "    <tr>\n",
       "      <th>txt_alley</th>\n",
       "      <td>1369</td>\n",
       "      <td>93.767123</td>\n",
       "    </tr>\n",
       "    <tr>\n",
       "      <th>txt_fence</th>\n",
       "      <td>1179</td>\n",
       "      <td>80.753425</td>\n",
       "    </tr>\n",
       "    <tr>\n",
       "      <th>txt_fireplacequ</th>\n",
       "      <td>690</td>\n",
       "      <td>47.260274</td>\n",
       "    </tr>\n",
       "    <tr>\n",
       "      <th>num_lotfrontage</th>\n",
       "      <td>259</td>\n",
       "      <td>17.739726</td>\n",
       "    </tr>\n",
       "    <tr>\n",
       "      <th>txt_garagefinish</th>\n",
       "      <td>81</td>\n",
       "      <td>5.547945</td>\n",
       "    </tr>\n",
       "    <tr>\n",
       "      <th>txt_garagequal</th>\n",
       "      <td>81</td>\n",
       "      <td>5.547945</td>\n",
       "    </tr>\n",
       "    <tr>\n",
       "      <th>txt_garagecond</th>\n",
       "      <td>81</td>\n",
       "      <td>5.547945</td>\n",
       "    </tr>\n",
       "    <tr>\n",
       "      <th>num_garageyrblt</th>\n",
       "      <td>81</td>\n",
       "      <td>5.547945</td>\n",
       "    </tr>\n",
       "    <tr>\n",
       "      <th>txt_garagetype</th>\n",
       "      <td>81</td>\n",
       "      <td>5.547945</td>\n",
       "    </tr>\n",
       "    <tr>\n",
       "      <th>txt_bsmtexposure</th>\n",
       "      <td>38</td>\n",
       "      <td>2.602740</td>\n",
       "    </tr>\n",
       "    <tr>\n",
       "      <th>txt_bsmtfintype2</th>\n",
       "      <td>38</td>\n",
       "      <td>2.602740</td>\n",
       "    </tr>\n",
       "    <tr>\n",
       "      <th>txt_bsmtcond</th>\n",
       "      <td>37</td>\n",
       "      <td>2.534247</td>\n",
       "    </tr>\n",
       "    <tr>\n",
       "      <th>txt_bsmtfintype1</th>\n",
       "      <td>37</td>\n",
       "      <td>2.534247</td>\n",
       "    </tr>\n",
       "    <tr>\n",
       "      <th>txt_bsmtqual</th>\n",
       "      <td>37</td>\n",
       "      <td>2.534247</td>\n",
       "    </tr>\n",
       "    <tr>\n",
       "      <th>num_masvnrarea</th>\n",
       "      <td>8</td>\n",
       "      <td>0.547945</td>\n",
       "    </tr>\n",
       "    <tr>\n",
       "      <th>txt_masvnrtype</th>\n",
       "      <td>8</td>\n",
       "      <td>0.547945</td>\n",
       "    </tr>\n",
       "    <tr>\n",
       "      <th>txt_electrical</th>\n",
       "      <td>1</td>\n",
       "      <td>0.068493</td>\n",
       "    </tr>\n",
       "  </tbody>\n",
       "</table>\n",
       "</div>"
      ],
      "text/plain": [
       "                  Missing Count  Missing Percentage\n",
       "txt_miscfeature            1406           96.301370\n",
       "txt_alley                  1369           93.767123\n",
       "txt_fence                  1179           80.753425\n",
       "txt_fireplacequ             690           47.260274\n",
       "num_lotfrontage             259           17.739726\n",
       "txt_garagefinish             81            5.547945\n",
       "txt_garagequal               81            5.547945\n",
       "txt_garagecond               81            5.547945\n",
       "num_garageyrblt              81            5.547945\n",
       "txt_garagetype               81            5.547945\n",
       "txt_bsmtexposure             38            2.602740\n",
       "txt_bsmtfintype2             38            2.602740\n",
       "txt_bsmtcond                 37            2.534247\n",
       "txt_bsmtfintype1             37            2.534247\n",
       "txt_bsmtqual                 37            2.534247\n",
       "num_masvnrarea                8            0.547945\n",
       "txt_masvnrtype                8            0.547945\n",
       "txt_electrical                1            0.068493"
      ]
     },
     "execution_count": 690,
     "metadata": {},
     "output_type": "execute_result"
    }
   ],
   "source": [
    "printMissingInfo(df)"
   ]
  },
  {
   "cell_type": "markdown",
   "id": "48b7e854",
   "metadata": {},
   "source": [
    "### txt_miscfeature"
   ]
  },
  {
   "cell_type": "code",
   "execution_count": 691,
   "id": "6f563a51",
   "metadata": {},
   "outputs": [
    {
     "name": "stdout",
     "output_type": "stream",
     "text": [
      "['NA' 'Shed' 'Gar2' 'Othr' 'TenC']\n"
     ]
    }
   ],
   "source": [
    "# =============================\n",
    "# Cek kolom txt_miscfeature     \n",
    "# =============================\n",
    "df.loc[df['txt_miscfeature'].isnull() , 'txt_miscfeature'] = \"NA\"\n",
    "\n",
    "print(df['txt_miscfeature'].unique())\n"
   ]
  },
  {
   "cell_type": "code",
   "execution_count": 692,
   "id": "939d9517",
   "metadata": {},
   "outputs": [
    {
     "data": {
      "application/vnd.microsoft.datawrangler.viewer.v0+json": {
       "columns": [
        {
         "name": "index",
         "rawType": "object",
         "type": "string"
        },
        {
         "name": "Missing Count",
         "rawType": "int64",
         "type": "integer"
        },
        {
         "name": "Missing Percentage",
         "rawType": "float64",
         "type": "float"
        }
       ],
       "ref": "876e52e5-0e77-44b2-b5ab-ae204f4c11a6",
       "rows": [
        [
         "txt_alley",
         "1369",
         "93.76712328767123"
        ],
        [
         "txt_fence",
         "1179",
         "80.75342465753424"
        ],
        [
         "txt_fireplacequ",
         "690",
         "47.26027397260274"
        ],
        [
         "num_lotfrontage",
         "259",
         "17.73972602739726"
        ],
        [
         "txt_garagefinish",
         "81",
         "5.5479452054794525"
        ],
        [
         "txt_garagequal",
         "81",
         "5.5479452054794525"
        ],
        [
         "txt_garagecond",
         "81",
         "5.5479452054794525"
        ],
        [
         "num_garageyrblt",
         "81",
         "5.5479452054794525"
        ],
        [
         "txt_garagetype",
         "81",
         "5.5479452054794525"
        ],
        [
         "txt_bsmtexposure",
         "38",
         "2.6027397260273974"
        ],
        [
         "txt_bsmtfintype2",
         "38",
         "2.6027397260273974"
        ],
        [
         "txt_bsmtqual",
         "37",
         "2.5342465753424657"
        ],
        [
         "txt_bsmtcond",
         "37",
         "2.5342465753424657"
        ],
        [
         "txt_bsmtfintype1",
         "37",
         "2.5342465753424657"
        ],
        [
         "num_masvnrarea",
         "8",
         "0.547945205479452"
        ],
        [
         "txt_masvnrtype",
         "8",
         "0.547945205479452"
        ],
        [
         "txt_electrical",
         "1",
         "0.0684931506849315"
        ]
       ],
       "shape": {
        "columns": 2,
        "rows": 17
       }
      },
      "text/html": [
       "<div>\n",
       "<style scoped>\n",
       "    .dataframe tbody tr th:only-of-type {\n",
       "        vertical-align: middle;\n",
       "    }\n",
       "\n",
       "    .dataframe tbody tr th {\n",
       "        vertical-align: top;\n",
       "    }\n",
       "\n",
       "    .dataframe thead th {\n",
       "        text-align: right;\n",
       "    }\n",
       "</style>\n",
       "<table border=\"1\" class=\"dataframe\">\n",
       "  <thead>\n",
       "    <tr style=\"text-align: right;\">\n",
       "      <th></th>\n",
       "      <th>Missing Count</th>\n",
       "      <th>Missing Percentage</th>\n",
       "    </tr>\n",
       "  </thead>\n",
       "  <tbody>\n",
       "    <tr>\n",
       "      <th>txt_alley</th>\n",
       "      <td>1369</td>\n",
       "      <td>93.767123</td>\n",
       "    </tr>\n",
       "    <tr>\n",
       "      <th>txt_fence</th>\n",
       "      <td>1179</td>\n",
       "      <td>80.753425</td>\n",
       "    </tr>\n",
       "    <tr>\n",
       "      <th>txt_fireplacequ</th>\n",
       "      <td>690</td>\n",
       "      <td>47.260274</td>\n",
       "    </tr>\n",
       "    <tr>\n",
       "      <th>num_lotfrontage</th>\n",
       "      <td>259</td>\n",
       "      <td>17.739726</td>\n",
       "    </tr>\n",
       "    <tr>\n",
       "      <th>txt_garagefinish</th>\n",
       "      <td>81</td>\n",
       "      <td>5.547945</td>\n",
       "    </tr>\n",
       "    <tr>\n",
       "      <th>txt_garagequal</th>\n",
       "      <td>81</td>\n",
       "      <td>5.547945</td>\n",
       "    </tr>\n",
       "    <tr>\n",
       "      <th>txt_garagecond</th>\n",
       "      <td>81</td>\n",
       "      <td>5.547945</td>\n",
       "    </tr>\n",
       "    <tr>\n",
       "      <th>num_garageyrblt</th>\n",
       "      <td>81</td>\n",
       "      <td>5.547945</td>\n",
       "    </tr>\n",
       "    <tr>\n",
       "      <th>txt_garagetype</th>\n",
       "      <td>81</td>\n",
       "      <td>5.547945</td>\n",
       "    </tr>\n",
       "    <tr>\n",
       "      <th>txt_bsmtexposure</th>\n",
       "      <td>38</td>\n",
       "      <td>2.602740</td>\n",
       "    </tr>\n",
       "    <tr>\n",
       "      <th>txt_bsmtfintype2</th>\n",
       "      <td>38</td>\n",
       "      <td>2.602740</td>\n",
       "    </tr>\n",
       "    <tr>\n",
       "      <th>txt_bsmtqual</th>\n",
       "      <td>37</td>\n",
       "      <td>2.534247</td>\n",
       "    </tr>\n",
       "    <tr>\n",
       "      <th>txt_bsmtcond</th>\n",
       "      <td>37</td>\n",
       "      <td>2.534247</td>\n",
       "    </tr>\n",
       "    <tr>\n",
       "      <th>txt_bsmtfintype1</th>\n",
       "      <td>37</td>\n",
       "      <td>2.534247</td>\n",
       "    </tr>\n",
       "    <tr>\n",
       "      <th>num_masvnrarea</th>\n",
       "      <td>8</td>\n",
       "      <td>0.547945</td>\n",
       "    </tr>\n",
       "    <tr>\n",
       "      <th>txt_masvnrtype</th>\n",
       "      <td>8</td>\n",
       "      <td>0.547945</td>\n",
       "    </tr>\n",
       "    <tr>\n",
       "      <th>txt_electrical</th>\n",
       "      <td>1</td>\n",
       "      <td>0.068493</td>\n",
       "    </tr>\n",
       "  </tbody>\n",
       "</table>\n",
       "</div>"
      ],
      "text/plain": [
       "                  Missing Count  Missing Percentage\n",
       "txt_alley                  1369           93.767123\n",
       "txt_fence                  1179           80.753425\n",
       "txt_fireplacequ             690           47.260274\n",
       "num_lotfrontage             259           17.739726\n",
       "txt_garagefinish             81            5.547945\n",
       "txt_garagequal               81            5.547945\n",
       "txt_garagecond               81            5.547945\n",
       "num_garageyrblt              81            5.547945\n",
       "txt_garagetype               81            5.547945\n",
       "txt_bsmtexposure             38            2.602740\n",
       "txt_bsmtfintype2             38            2.602740\n",
       "txt_bsmtqual                 37            2.534247\n",
       "txt_bsmtcond                 37            2.534247\n",
       "txt_bsmtfintype1             37            2.534247\n",
       "num_masvnrarea                8            0.547945\n",
       "txt_masvnrtype                8            0.547945\n",
       "txt_electrical                1            0.068493"
      ]
     },
     "execution_count": 692,
     "metadata": {},
     "output_type": "execute_result"
    }
   ],
   "source": [
    "printMissingInfo(df)"
   ]
  },
  {
   "cell_type": "markdown",
   "id": "e20b47d6",
   "metadata": {},
   "source": [
    "### txt_alley"
   ]
  },
  {
   "cell_type": "code",
   "execution_count": 693,
   "id": "44be2ae7",
   "metadata": {},
   "outputs": [
    {
     "name": "stdout",
     "output_type": "stream",
     "text": [
      "[nan 'Grvl' 'Pave']\n"
     ]
    }
   ],
   "source": [
    "# =============================\n",
    "# Cek kolom txt_alley     \n",
    "# =============================\n",
    "print(df['txt_alley'].unique())\n",
    "\n",
    "df.loc[df['txt_alley'].isnull() , 'txt_alley'] = \"NA\"\n",
    "\n"
   ]
  },
  {
   "cell_type": "code",
   "execution_count": 694,
   "id": "d2d25dbb",
   "metadata": {},
   "outputs": [
    {
     "data": {
      "application/vnd.microsoft.datawrangler.viewer.v0+json": {
       "columns": [
        {
         "name": "index",
         "rawType": "object",
         "type": "string"
        },
        {
         "name": "Missing Count",
         "rawType": "int64",
         "type": "integer"
        },
        {
         "name": "Missing Percentage",
         "rawType": "float64",
         "type": "float"
        }
       ],
       "ref": "1bddbd0f-c6ef-4c63-b0f8-540d82beaec0",
       "rows": [
        [
         "txt_fence",
         "1179",
         "80.75342465753424"
        ],
        [
         "txt_fireplacequ",
         "690",
         "47.26027397260274"
        ],
        [
         "num_lotfrontage",
         "259",
         "17.73972602739726"
        ],
        [
         "txt_garagetype",
         "81",
         "5.5479452054794525"
        ],
        [
         "num_garageyrblt",
         "81",
         "5.5479452054794525"
        ],
        [
         "txt_garagefinish",
         "81",
         "5.5479452054794525"
        ],
        [
         "txt_garagequal",
         "81",
         "5.5479452054794525"
        ],
        [
         "txt_garagecond",
         "81",
         "5.5479452054794525"
        ],
        [
         "txt_bsmtexposure",
         "38",
         "2.6027397260273974"
        ],
        [
         "txt_bsmtfintype2",
         "38",
         "2.6027397260273974"
        ],
        [
         "txt_bsmtqual",
         "37",
         "2.5342465753424657"
        ],
        [
         "txt_bsmtcond",
         "37",
         "2.5342465753424657"
        ],
        [
         "txt_bsmtfintype1",
         "37",
         "2.5342465753424657"
        ],
        [
         "txt_masvnrtype",
         "8",
         "0.547945205479452"
        ],
        [
         "num_masvnrarea",
         "8",
         "0.547945205479452"
        ],
        [
         "txt_electrical",
         "1",
         "0.0684931506849315"
        ]
       ],
       "shape": {
        "columns": 2,
        "rows": 16
       }
      },
      "text/html": [
       "<div>\n",
       "<style scoped>\n",
       "    .dataframe tbody tr th:only-of-type {\n",
       "        vertical-align: middle;\n",
       "    }\n",
       "\n",
       "    .dataframe tbody tr th {\n",
       "        vertical-align: top;\n",
       "    }\n",
       "\n",
       "    .dataframe thead th {\n",
       "        text-align: right;\n",
       "    }\n",
       "</style>\n",
       "<table border=\"1\" class=\"dataframe\">\n",
       "  <thead>\n",
       "    <tr style=\"text-align: right;\">\n",
       "      <th></th>\n",
       "      <th>Missing Count</th>\n",
       "      <th>Missing Percentage</th>\n",
       "    </tr>\n",
       "  </thead>\n",
       "  <tbody>\n",
       "    <tr>\n",
       "      <th>txt_fence</th>\n",
       "      <td>1179</td>\n",
       "      <td>80.753425</td>\n",
       "    </tr>\n",
       "    <tr>\n",
       "      <th>txt_fireplacequ</th>\n",
       "      <td>690</td>\n",
       "      <td>47.260274</td>\n",
       "    </tr>\n",
       "    <tr>\n",
       "      <th>num_lotfrontage</th>\n",
       "      <td>259</td>\n",
       "      <td>17.739726</td>\n",
       "    </tr>\n",
       "    <tr>\n",
       "      <th>txt_garagetype</th>\n",
       "      <td>81</td>\n",
       "      <td>5.547945</td>\n",
       "    </tr>\n",
       "    <tr>\n",
       "      <th>num_garageyrblt</th>\n",
       "      <td>81</td>\n",
       "      <td>5.547945</td>\n",
       "    </tr>\n",
       "    <tr>\n",
       "      <th>txt_garagefinish</th>\n",
       "      <td>81</td>\n",
       "      <td>5.547945</td>\n",
       "    </tr>\n",
       "    <tr>\n",
       "      <th>txt_garagequal</th>\n",
       "      <td>81</td>\n",
       "      <td>5.547945</td>\n",
       "    </tr>\n",
       "    <tr>\n",
       "      <th>txt_garagecond</th>\n",
       "      <td>81</td>\n",
       "      <td>5.547945</td>\n",
       "    </tr>\n",
       "    <tr>\n",
       "      <th>txt_bsmtexposure</th>\n",
       "      <td>38</td>\n",
       "      <td>2.602740</td>\n",
       "    </tr>\n",
       "    <tr>\n",
       "      <th>txt_bsmtfintype2</th>\n",
       "      <td>38</td>\n",
       "      <td>2.602740</td>\n",
       "    </tr>\n",
       "    <tr>\n",
       "      <th>txt_bsmtqual</th>\n",
       "      <td>37</td>\n",
       "      <td>2.534247</td>\n",
       "    </tr>\n",
       "    <tr>\n",
       "      <th>txt_bsmtcond</th>\n",
       "      <td>37</td>\n",
       "      <td>2.534247</td>\n",
       "    </tr>\n",
       "    <tr>\n",
       "      <th>txt_bsmtfintype1</th>\n",
       "      <td>37</td>\n",
       "      <td>2.534247</td>\n",
       "    </tr>\n",
       "    <tr>\n",
       "      <th>txt_masvnrtype</th>\n",
       "      <td>8</td>\n",
       "      <td>0.547945</td>\n",
       "    </tr>\n",
       "    <tr>\n",
       "      <th>num_masvnrarea</th>\n",
       "      <td>8</td>\n",
       "      <td>0.547945</td>\n",
       "    </tr>\n",
       "    <tr>\n",
       "      <th>txt_electrical</th>\n",
       "      <td>1</td>\n",
       "      <td>0.068493</td>\n",
       "    </tr>\n",
       "  </tbody>\n",
       "</table>\n",
       "</div>"
      ],
      "text/plain": [
       "                  Missing Count  Missing Percentage\n",
       "txt_fence                  1179           80.753425\n",
       "txt_fireplacequ             690           47.260274\n",
       "num_lotfrontage             259           17.739726\n",
       "txt_garagetype               81            5.547945\n",
       "num_garageyrblt              81            5.547945\n",
       "txt_garagefinish             81            5.547945\n",
       "txt_garagequal               81            5.547945\n",
       "txt_garagecond               81            5.547945\n",
       "txt_bsmtexposure             38            2.602740\n",
       "txt_bsmtfintype2             38            2.602740\n",
       "txt_bsmtqual                 37            2.534247\n",
       "txt_bsmtcond                 37            2.534247\n",
       "txt_bsmtfintype1             37            2.534247\n",
       "txt_masvnrtype                8            0.547945\n",
       "num_masvnrarea                8            0.547945\n",
       "txt_electrical                1            0.068493"
      ]
     },
     "execution_count": 694,
     "metadata": {},
     "output_type": "execute_result"
    }
   ],
   "source": [
    "printMissingInfo(df)"
   ]
  },
  {
   "cell_type": "markdown",
   "id": "bde91122",
   "metadata": {},
   "source": [
    "### Cek kolom txt_fence     "
   ]
  },
  {
   "cell_type": "code",
   "execution_count": 695,
   "id": "8d2399f8",
   "metadata": {},
   "outputs": [
    {
     "name": "stdout",
     "output_type": "stream",
     "text": [
      "[nan 'MnPrv' 'GdWo' 'GdPrv' 'MnWw']\n"
     ]
    }
   ],
   "source": [
    "# =============================\n",
    "# Cek kolom txt_fence     \n",
    "# =============================\n",
    "print(df['txt_fence'].unique())\n",
    "\n",
    "df.loc[df['txt_fence'].isnull() , 'txt_fence'] = \"NA\"\n",
    "\n"
   ]
  },
  {
   "cell_type": "code",
   "execution_count": 696,
   "id": "10d5d147",
   "metadata": {},
   "outputs": [
    {
     "data": {
      "application/vnd.microsoft.datawrangler.viewer.v0+json": {
       "columns": [
        {
         "name": "index",
         "rawType": "object",
         "type": "string"
        },
        {
         "name": "Missing Count",
         "rawType": "int64",
         "type": "integer"
        },
        {
         "name": "Missing Percentage",
         "rawType": "float64",
         "type": "float"
        }
       ],
       "ref": "043bf228-6291-433d-9cbe-788fac9a64a8",
       "rows": [
        [
         "txt_fireplacequ",
         "690",
         "47.26027397260274"
        ],
        [
         "num_lotfrontage",
         "259",
         "17.73972602739726"
        ],
        [
         "txt_garagetype",
         "81",
         "5.5479452054794525"
        ],
        [
         "num_garageyrblt",
         "81",
         "5.5479452054794525"
        ],
        [
         "txt_garagefinish",
         "81",
         "5.5479452054794525"
        ],
        [
         "txt_garagequal",
         "81",
         "5.5479452054794525"
        ],
        [
         "txt_garagecond",
         "81",
         "5.5479452054794525"
        ],
        [
         "txt_bsmtexposure",
         "38",
         "2.6027397260273974"
        ],
        [
         "txt_bsmtfintype2",
         "38",
         "2.6027397260273974"
        ],
        [
         "txt_bsmtqual",
         "37",
         "2.5342465753424657"
        ],
        [
         "txt_bsmtcond",
         "37",
         "2.5342465753424657"
        ],
        [
         "txt_bsmtfintype1",
         "37",
         "2.5342465753424657"
        ],
        [
         "txt_masvnrtype",
         "8",
         "0.547945205479452"
        ],
        [
         "num_masvnrarea",
         "8",
         "0.547945205479452"
        ],
        [
         "txt_electrical",
         "1",
         "0.0684931506849315"
        ]
       ],
       "shape": {
        "columns": 2,
        "rows": 15
       }
      },
      "text/html": [
       "<div>\n",
       "<style scoped>\n",
       "    .dataframe tbody tr th:only-of-type {\n",
       "        vertical-align: middle;\n",
       "    }\n",
       "\n",
       "    .dataframe tbody tr th {\n",
       "        vertical-align: top;\n",
       "    }\n",
       "\n",
       "    .dataframe thead th {\n",
       "        text-align: right;\n",
       "    }\n",
       "</style>\n",
       "<table border=\"1\" class=\"dataframe\">\n",
       "  <thead>\n",
       "    <tr style=\"text-align: right;\">\n",
       "      <th></th>\n",
       "      <th>Missing Count</th>\n",
       "      <th>Missing Percentage</th>\n",
       "    </tr>\n",
       "  </thead>\n",
       "  <tbody>\n",
       "    <tr>\n",
       "      <th>txt_fireplacequ</th>\n",
       "      <td>690</td>\n",
       "      <td>47.260274</td>\n",
       "    </tr>\n",
       "    <tr>\n",
       "      <th>num_lotfrontage</th>\n",
       "      <td>259</td>\n",
       "      <td>17.739726</td>\n",
       "    </tr>\n",
       "    <tr>\n",
       "      <th>txt_garagetype</th>\n",
       "      <td>81</td>\n",
       "      <td>5.547945</td>\n",
       "    </tr>\n",
       "    <tr>\n",
       "      <th>num_garageyrblt</th>\n",
       "      <td>81</td>\n",
       "      <td>5.547945</td>\n",
       "    </tr>\n",
       "    <tr>\n",
       "      <th>txt_garagefinish</th>\n",
       "      <td>81</td>\n",
       "      <td>5.547945</td>\n",
       "    </tr>\n",
       "    <tr>\n",
       "      <th>txt_garagequal</th>\n",
       "      <td>81</td>\n",
       "      <td>5.547945</td>\n",
       "    </tr>\n",
       "    <tr>\n",
       "      <th>txt_garagecond</th>\n",
       "      <td>81</td>\n",
       "      <td>5.547945</td>\n",
       "    </tr>\n",
       "    <tr>\n",
       "      <th>txt_bsmtexposure</th>\n",
       "      <td>38</td>\n",
       "      <td>2.602740</td>\n",
       "    </tr>\n",
       "    <tr>\n",
       "      <th>txt_bsmtfintype2</th>\n",
       "      <td>38</td>\n",
       "      <td>2.602740</td>\n",
       "    </tr>\n",
       "    <tr>\n",
       "      <th>txt_bsmtqual</th>\n",
       "      <td>37</td>\n",
       "      <td>2.534247</td>\n",
       "    </tr>\n",
       "    <tr>\n",
       "      <th>txt_bsmtcond</th>\n",
       "      <td>37</td>\n",
       "      <td>2.534247</td>\n",
       "    </tr>\n",
       "    <tr>\n",
       "      <th>txt_bsmtfintype1</th>\n",
       "      <td>37</td>\n",
       "      <td>2.534247</td>\n",
       "    </tr>\n",
       "    <tr>\n",
       "      <th>txt_masvnrtype</th>\n",
       "      <td>8</td>\n",
       "      <td>0.547945</td>\n",
       "    </tr>\n",
       "    <tr>\n",
       "      <th>num_masvnrarea</th>\n",
       "      <td>8</td>\n",
       "      <td>0.547945</td>\n",
       "    </tr>\n",
       "    <tr>\n",
       "      <th>txt_electrical</th>\n",
       "      <td>1</td>\n",
       "      <td>0.068493</td>\n",
       "    </tr>\n",
       "  </tbody>\n",
       "</table>\n",
       "</div>"
      ],
      "text/plain": [
       "                  Missing Count  Missing Percentage\n",
       "txt_fireplacequ             690           47.260274\n",
       "num_lotfrontage             259           17.739726\n",
       "txt_garagetype               81            5.547945\n",
       "num_garageyrblt              81            5.547945\n",
       "txt_garagefinish             81            5.547945\n",
       "txt_garagequal               81            5.547945\n",
       "txt_garagecond               81            5.547945\n",
       "txt_bsmtexposure             38            2.602740\n",
       "txt_bsmtfintype2             38            2.602740\n",
       "txt_bsmtqual                 37            2.534247\n",
       "txt_bsmtcond                 37            2.534247\n",
       "txt_bsmtfintype1             37            2.534247\n",
       "txt_masvnrtype                8            0.547945\n",
       "num_masvnrarea                8            0.547945\n",
       "txt_electrical                1            0.068493"
      ]
     },
     "execution_count": 696,
     "metadata": {},
     "output_type": "execute_result"
    }
   ],
   "source": [
    "printMissingInfo(df)"
   ]
  },
  {
   "cell_type": "markdown",
   "id": "f3a956a9",
   "metadata": {},
   "source": [
    "### txt_fireplacequ"
   ]
  },
  {
   "cell_type": "code",
   "execution_count": 697,
   "id": "14947811",
   "metadata": {},
   "outputs": [
    {
     "name": "stdout",
     "output_type": "stream",
     "text": [
      "[nan 'TA' 'Gd' 'Fa' 'Ex' 'Po']\n",
      "      num_fireplaces txt_fireplacequ\n",
      "0                  0             NaN\n",
      "5                  0             NaN\n",
      "10                 0             NaN\n",
      "12                 0             NaN\n",
      "15                 0             NaN\n",
      "...              ...             ...\n",
      "1452               0             NaN\n",
      "1453               0             NaN\n",
      "1454               0             NaN\n",
      "1458               0             NaN\n",
      "1459               0             NaN\n",
      "\n",
      "[690 rows x 2 columns]\n",
      "      num_fireplaces txt_fireplacequ\n",
      "0                  0             NaN\n",
      "5                  0             NaN\n",
      "10                 0             NaN\n",
      "12                 0             NaN\n",
      "15                 0             NaN\n",
      "...              ...             ...\n",
      "1452               0             NaN\n",
      "1453               0             NaN\n",
      "1454               0             NaN\n",
      "1458               0             NaN\n",
      "1459               0             NaN\n",
      "\n",
      "[690 rows x 2 columns]\n"
     ]
    }
   ],
   "source": [
    "# =============================\n",
    "# Cek kolom txt_fireplacequ\n",
    "# =============================\n",
    "\n",
    "print(df['txt_fireplacequ'].unique())\n",
    "\n",
    "ygNull = df['txt_fireplacequ'].isnull()\n",
    "df_filtered = df[ygNull]\n",
    "df_result = df_filtered[['num_fireplaces', 'txt_fireplacequ']]\n",
    "print(df_result)\n",
    "\n",
    "ygKosong = df_result['num_fireplaces'] == 0\n",
    "df_result2 = df_result[ygKosong]\n",
    "print(df_result2)"
   ]
  },
  {
   "cell_type": "code",
   "execution_count": 698,
   "id": "7a35b195",
   "metadata": {},
   "outputs": [
    {
     "name": "stdout",
     "output_type": "stream",
     "text": [
      "[nan 'TA' 'Gd' 'Fa' 'Ex' 'Po']\n"
     ]
    }
   ],
   "source": [
    "# =============================\n",
    "# Cek kolom txt_fireplacequ\n",
    "# =============================\n",
    "print(df['txt_fireplacequ'].unique())\n",
    "\n",
    "df.loc[df['num_fireplaces'] == 0, 'txt_fireplacequ'] = \"NA\"\n",
    "\n"
   ]
  },
  {
   "cell_type": "code",
   "execution_count": 699,
   "id": "efed9077",
   "metadata": {},
   "outputs": [
    {
     "data": {
      "application/vnd.microsoft.datawrangler.viewer.v0+json": {
       "columns": [
        {
         "name": "index",
         "rawType": "object",
         "type": "string"
        },
        {
         "name": "Missing Count",
         "rawType": "int64",
         "type": "integer"
        },
        {
         "name": "Missing Percentage",
         "rawType": "float64",
         "type": "float"
        }
       ],
       "ref": "0f86cce1-bafc-4c93-9938-9728c35a8866",
       "rows": [
        [
         "num_lotfrontage",
         "259",
         "17.73972602739726"
        ],
        [
         "txt_garagetype",
         "81",
         "5.5479452054794525"
        ],
        [
         "num_garageyrblt",
         "81",
         "5.5479452054794525"
        ],
        [
         "txt_garagefinish",
         "81",
         "5.5479452054794525"
        ],
        [
         "txt_garagequal",
         "81",
         "5.5479452054794525"
        ],
        [
         "txt_garagecond",
         "81",
         "5.5479452054794525"
        ],
        [
         "txt_bsmtexposure",
         "38",
         "2.6027397260273974"
        ],
        [
         "txt_bsmtfintype2",
         "38",
         "2.6027397260273974"
        ],
        [
         "txt_bsmtqual",
         "37",
         "2.5342465753424657"
        ],
        [
         "txt_bsmtcond",
         "37",
         "2.5342465753424657"
        ],
        [
         "txt_bsmtfintype1",
         "37",
         "2.5342465753424657"
        ],
        [
         "txt_masvnrtype",
         "8",
         "0.547945205479452"
        ],
        [
         "num_masvnrarea",
         "8",
         "0.547945205479452"
        ],
        [
         "txt_electrical",
         "1",
         "0.0684931506849315"
        ]
       ],
       "shape": {
        "columns": 2,
        "rows": 14
       }
      },
      "text/html": [
       "<div>\n",
       "<style scoped>\n",
       "    .dataframe tbody tr th:only-of-type {\n",
       "        vertical-align: middle;\n",
       "    }\n",
       "\n",
       "    .dataframe tbody tr th {\n",
       "        vertical-align: top;\n",
       "    }\n",
       "\n",
       "    .dataframe thead th {\n",
       "        text-align: right;\n",
       "    }\n",
       "</style>\n",
       "<table border=\"1\" class=\"dataframe\">\n",
       "  <thead>\n",
       "    <tr style=\"text-align: right;\">\n",
       "      <th></th>\n",
       "      <th>Missing Count</th>\n",
       "      <th>Missing Percentage</th>\n",
       "    </tr>\n",
       "  </thead>\n",
       "  <tbody>\n",
       "    <tr>\n",
       "      <th>num_lotfrontage</th>\n",
       "      <td>259</td>\n",
       "      <td>17.739726</td>\n",
       "    </tr>\n",
       "    <tr>\n",
       "      <th>txt_garagetype</th>\n",
       "      <td>81</td>\n",
       "      <td>5.547945</td>\n",
       "    </tr>\n",
       "    <tr>\n",
       "      <th>num_garageyrblt</th>\n",
       "      <td>81</td>\n",
       "      <td>5.547945</td>\n",
       "    </tr>\n",
       "    <tr>\n",
       "      <th>txt_garagefinish</th>\n",
       "      <td>81</td>\n",
       "      <td>5.547945</td>\n",
       "    </tr>\n",
       "    <tr>\n",
       "      <th>txt_garagequal</th>\n",
       "      <td>81</td>\n",
       "      <td>5.547945</td>\n",
       "    </tr>\n",
       "    <tr>\n",
       "      <th>txt_garagecond</th>\n",
       "      <td>81</td>\n",
       "      <td>5.547945</td>\n",
       "    </tr>\n",
       "    <tr>\n",
       "      <th>txt_bsmtexposure</th>\n",
       "      <td>38</td>\n",
       "      <td>2.602740</td>\n",
       "    </tr>\n",
       "    <tr>\n",
       "      <th>txt_bsmtfintype2</th>\n",
       "      <td>38</td>\n",
       "      <td>2.602740</td>\n",
       "    </tr>\n",
       "    <tr>\n",
       "      <th>txt_bsmtqual</th>\n",
       "      <td>37</td>\n",
       "      <td>2.534247</td>\n",
       "    </tr>\n",
       "    <tr>\n",
       "      <th>txt_bsmtcond</th>\n",
       "      <td>37</td>\n",
       "      <td>2.534247</td>\n",
       "    </tr>\n",
       "    <tr>\n",
       "      <th>txt_bsmtfintype1</th>\n",
       "      <td>37</td>\n",
       "      <td>2.534247</td>\n",
       "    </tr>\n",
       "    <tr>\n",
       "      <th>txt_masvnrtype</th>\n",
       "      <td>8</td>\n",
       "      <td>0.547945</td>\n",
       "    </tr>\n",
       "    <tr>\n",
       "      <th>num_masvnrarea</th>\n",
       "      <td>8</td>\n",
       "      <td>0.547945</td>\n",
       "    </tr>\n",
       "    <tr>\n",
       "      <th>txt_electrical</th>\n",
       "      <td>1</td>\n",
       "      <td>0.068493</td>\n",
       "    </tr>\n",
       "  </tbody>\n",
       "</table>\n",
       "</div>"
      ],
      "text/plain": [
       "                  Missing Count  Missing Percentage\n",
       "num_lotfrontage             259           17.739726\n",
       "txt_garagetype               81            5.547945\n",
       "num_garageyrblt              81            5.547945\n",
       "txt_garagefinish             81            5.547945\n",
       "txt_garagequal               81            5.547945\n",
       "txt_garagecond               81            5.547945\n",
       "txt_bsmtexposure             38            2.602740\n",
       "txt_bsmtfintype2             38            2.602740\n",
       "txt_bsmtqual                 37            2.534247\n",
       "txt_bsmtcond                 37            2.534247\n",
       "txt_bsmtfintype1             37            2.534247\n",
       "txt_masvnrtype                8            0.547945\n",
       "num_masvnrarea                8            0.547945\n",
       "txt_electrical                1            0.068493"
      ]
     },
     "execution_count": 699,
     "metadata": {},
     "output_type": "execute_result"
    }
   ],
   "source": [
    "printMissingInfo(df)"
   ]
  },
  {
   "cell_type": "markdown",
   "id": "e7e46ec6",
   "metadata": {},
   "source": [
    "### txt_garagetype , txt_garagefinish,  txt_garagequal,txt_garagecond,num_garageyrblt"
   ]
  },
  {
   "cell_type": "code",
   "execution_count": 700,
   "id": "2d944c64",
   "metadata": {},
   "outputs": [
    {
     "name": "stdout",
     "output_type": "stream",
     "text": [
      "['Attchd' 'Detchd' 'BuiltIn' 'CarPort' nan 'Basment' '2Types']\n",
      "      num_garageyrblt txt_garagetype txt_garagefinish txt_garagequal  \\\n",
      "39                NaN            NaN              NaN            NaN   \n",
      "48                NaN            NaN              NaN            NaN   \n",
      "78                NaN            NaN              NaN            NaN   \n",
      "88                NaN            NaN              NaN            NaN   \n",
      "89                NaN            NaN              NaN            NaN   \n",
      "...               ...            ...              ...            ...   \n",
      "1349              NaN            NaN              NaN            NaN   \n",
      "1407              NaN            NaN              NaN            NaN   \n",
      "1449              NaN            NaN              NaN            NaN   \n",
      "1450              NaN            NaN              NaN            NaN   \n",
      "1453              NaN            NaN              NaN            NaN   \n",
      "\n",
      "     txt_garagecond  \n",
      "39              NaN  \n",
      "48              NaN  \n",
      "78              NaN  \n",
      "88              NaN  \n",
      "89              NaN  \n",
      "...             ...  \n",
      "1349            NaN  \n",
      "1407            NaN  \n",
      "1449            NaN  \n",
      "1450            NaN  \n",
      "1453            NaN  \n",
      "\n",
      "[81 rows x 5 columns]\n",
      "Empty DataFrame\n",
      "Columns: [num_garageyrblt, txt_garagetype, txt_garagefinish, txt_garagequal, txt_garagecond]\n",
      "Index: []\n"
     ]
    }
   ],
   "source": [
    "# =============================\n",
    "# Cek kolom txt_garagetype\n",
    "# =============================\n",
    "\n",
    "print(df['txt_garagetype'].unique())\n",
    "\n",
    "ygNull = df['txt_garagetype'].isnull()\n",
    "df_filtered = df[ygNull]\n",
    "df_result = df_filtered[['num_garageyrblt', 'txt_garagetype','txt_garagefinish','txt_garagequal','txt_garagecond']]\n",
    "print(df_result)\n",
    "\n",
    "ygKosong = df_result['num_garageyrblt'] == 0\n",
    "df_result2 = df_result[ygKosong]\n",
    "print(df_result2)"
   ]
  },
  {
   "cell_type": "code",
   "execution_count": 701,
   "id": "4f68b2fb",
   "metadata": {},
   "outputs": [
    {
     "name": "stdout",
     "output_type": "stream",
     "text": [
      "['Attchd' 'Detchd' 'BuiltIn' 'CarPort' nan 'Basment' '2Types']\n"
     ]
    }
   ],
   "source": [
    "# =============================\n",
    "# Cek kolom txt_garagetype\n",
    "# =============================\n",
    "print(df['txt_garagetype'].unique())\n",
    "\n",
    "df.loc[df['num_garageyrblt'].isnull(), 'txt_garagetype'] = \"NA\"\n",
    "df.loc[df['num_garageyrblt'].isnull(), 'txt_garagefinish'] = \"NA\"\n",
    "df.loc[df['num_garageyrblt'].isnull(), 'txt_garagequal'] = \"NA\"\n",
    "df.loc[df['num_garageyrblt'].isnull(), 'txt_garagecond'] = \"NA\"\n",
    "df.loc[df['num_garageyrblt'].isnull(), 'num_garageyrblt'] = 0\n"
   ]
  },
  {
   "cell_type": "code",
   "execution_count": 702,
   "id": "c0628737",
   "metadata": {},
   "outputs": [
    {
     "name": "stdout",
     "output_type": "stream",
     "text": [
      "[2003. 1976. 2001. 1998. 2000. 1993. 2004. 1973. 1931. 1939. 1965. 2005.\n",
      " 1962. 2006. 1960. 1991. 1970. 1967. 1958. 1930. 2002. 1968. 2007. 2008.\n",
      " 1957. 1920. 1966. 1959. 1995. 1954. 1953.    0. 1983. 1977. 1997. 1985.\n",
      " 1963. 1981. 1964. 1999. 1935. 1990. 1945. 1987. 1989. 1915. 1956. 1948.\n",
      " 1974. 2009. 1950. 1961. 1921. 1900. 1979. 1951. 1969. 1936. 1975. 1971.\n",
      " 1923. 1984. 1926. 1955. 1986. 1988. 1916. 1932. 1972. 1918. 1980. 1924.\n",
      " 1996. 1940. 1949. 1994. 1910. 1978. 1982. 1992. 1925. 1941. 2010. 1927.\n",
      " 1947. 1937. 1942. 1938. 1952. 1928. 1922. 1934. 1906. 1914. 1946. 1908.\n",
      " 1929. 1933.]\n"
     ]
    }
   ],
   "source": [
    "print(df['num_garageyrblt'].unique())"
   ]
  },
  {
   "cell_type": "code",
   "execution_count": 703,
   "id": "d42392f6",
   "metadata": {},
   "outputs": [
    {
     "data": {
      "application/vnd.microsoft.datawrangler.viewer.v0+json": {
       "columns": [
        {
         "name": "index",
         "rawType": "object",
         "type": "string"
        },
        {
         "name": "Missing Count",
         "rawType": "int64",
         "type": "integer"
        },
        {
         "name": "Missing Percentage",
         "rawType": "float64",
         "type": "float"
        }
       ],
       "ref": "1dd96b4c-7b8c-4408-9519-2555c7f20cbe",
       "rows": [
        [
         "num_lotfrontage",
         "259",
         "17.73972602739726"
        ],
        [
         "txt_bsmtexposure",
         "38",
         "2.6027397260273974"
        ],
        [
         "txt_bsmtfintype2",
         "38",
         "2.6027397260273974"
        ],
        [
         "txt_bsmtqual",
         "37",
         "2.5342465753424657"
        ],
        [
         "txt_bsmtcond",
         "37",
         "2.5342465753424657"
        ],
        [
         "txt_bsmtfintype1",
         "37",
         "2.5342465753424657"
        ],
        [
         "txt_masvnrtype",
         "8",
         "0.547945205479452"
        ],
        [
         "num_masvnrarea",
         "8",
         "0.547945205479452"
        ],
        [
         "txt_electrical",
         "1",
         "0.0684931506849315"
        ]
       ],
       "shape": {
        "columns": 2,
        "rows": 9
       }
      },
      "text/html": [
       "<div>\n",
       "<style scoped>\n",
       "    .dataframe tbody tr th:only-of-type {\n",
       "        vertical-align: middle;\n",
       "    }\n",
       "\n",
       "    .dataframe tbody tr th {\n",
       "        vertical-align: top;\n",
       "    }\n",
       "\n",
       "    .dataframe thead th {\n",
       "        text-align: right;\n",
       "    }\n",
       "</style>\n",
       "<table border=\"1\" class=\"dataframe\">\n",
       "  <thead>\n",
       "    <tr style=\"text-align: right;\">\n",
       "      <th></th>\n",
       "      <th>Missing Count</th>\n",
       "      <th>Missing Percentage</th>\n",
       "    </tr>\n",
       "  </thead>\n",
       "  <tbody>\n",
       "    <tr>\n",
       "      <th>num_lotfrontage</th>\n",
       "      <td>259</td>\n",
       "      <td>17.739726</td>\n",
       "    </tr>\n",
       "    <tr>\n",
       "      <th>txt_bsmtexposure</th>\n",
       "      <td>38</td>\n",
       "      <td>2.602740</td>\n",
       "    </tr>\n",
       "    <tr>\n",
       "      <th>txt_bsmtfintype2</th>\n",
       "      <td>38</td>\n",
       "      <td>2.602740</td>\n",
       "    </tr>\n",
       "    <tr>\n",
       "      <th>txt_bsmtqual</th>\n",
       "      <td>37</td>\n",
       "      <td>2.534247</td>\n",
       "    </tr>\n",
       "    <tr>\n",
       "      <th>txt_bsmtcond</th>\n",
       "      <td>37</td>\n",
       "      <td>2.534247</td>\n",
       "    </tr>\n",
       "    <tr>\n",
       "      <th>txt_bsmtfintype1</th>\n",
       "      <td>37</td>\n",
       "      <td>2.534247</td>\n",
       "    </tr>\n",
       "    <tr>\n",
       "      <th>txt_masvnrtype</th>\n",
       "      <td>8</td>\n",
       "      <td>0.547945</td>\n",
       "    </tr>\n",
       "    <tr>\n",
       "      <th>num_masvnrarea</th>\n",
       "      <td>8</td>\n",
       "      <td>0.547945</td>\n",
       "    </tr>\n",
       "    <tr>\n",
       "      <th>txt_electrical</th>\n",
       "      <td>1</td>\n",
       "      <td>0.068493</td>\n",
       "    </tr>\n",
       "  </tbody>\n",
       "</table>\n",
       "</div>"
      ],
      "text/plain": [
       "                  Missing Count  Missing Percentage\n",
       "num_lotfrontage             259           17.739726\n",
       "txt_bsmtexposure             38            2.602740\n",
       "txt_bsmtfintype2             38            2.602740\n",
       "txt_bsmtqual                 37            2.534247\n",
       "txt_bsmtcond                 37            2.534247\n",
       "txt_bsmtfintype1             37            2.534247\n",
       "txt_masvnrtype                8            0.547945\n",
       "num_masvnrarea                8            0.547945\n",
       "txt_electrical                1            0.068493"
      ]
     },
     "execution_count": 703,
     "metadata": {},
     "output_type": "execute_result"
    }
   ],
   "source": [
    "printMissingInfo(df)"
   ]
  },
  {
   "cell_type": "markdown",
   "id": "47d70d5f",
   "metadata": {},
   "source": [
    "### txt_bsmtexposure,txt_bsmtfintype2,txt_bsmtqual,txt_bsmtcond,txt_bsmtfintype1"
   ]
  },
  {
   "cell_type": "code",
   "execution_count": 704,
   "id": "9557d0a9",
   "metadata": {},
   "outputs": [
    {
     "name": "stdout",
     "output_type": "stream",
     "text": [
      "      num_totalbsmtsf txt_bsmtexposure txt_bsmtfintype2 txt_bsmtqual  \\\n",
      "17                  0              NaN              NaN          NaN   \n",
      "39                  0              NaN              NaN          NaN   \n",
      "90                  0              NaN              NaN          NaN   \n",
      "102                 0              NaN              NaN          NaN   \n",
      "156                 0              NaN              NaN          NaN   \n",
      "182                 0              NaN              NaN          NaN   \n",
      "259                 0              NaN              NaN          NaN   \n",
      "342                 0              NaN              NaN          NaN   \n",
      "362                 0              NaN              NaN          NaN   \n",
      "371                 0              NaN              NaN          NaN   \n",
      "392                 0              NaN              NaN          NaN   \n",
      "520                 0              NaN              NaN          NaN   \n",
      "532                 0              NaN              NaN          NaN   \n",
      "533                 0              NaN              NaN          NaN   \n",
      "553                 0              NaN              NaN          NaN   \n",
      "646                 0              NaN              NaN          NaN   \n",
      "705                 0              NaN              NaN          NaN   \n",
      "736                 0              NaN              NaN          NaN   \n",
      "749                 0              NaN              NaN          NaN   \n",
      "778                 0              NaN              NaN          NaN   \n",
      "868                 0              NaN              NaN          NaN   \n",
      "894                 0              NaN              NaN          NaN   \n",
      "897                 0              NaN              NaN          NaN   \n",
      "948               936              NaN              Unf           Gd   \n",
      "984                 0              NaN              NaN          NaN   \n",
      "1000                0              NaN              NaN          NaN   \n",
      "1011                0              NaN              NaN          NaN   \n",
      "1035                0              NaN              NaN          NaN   \n",
      "1045                0              NaN              NaN          NaN   \n",
      "1048                0              NaN              NaN          NaN   \n",
      "1049                0              NaN              NaN          NaN   \n",
      "1090                0              NaN              NaN          NaN   \n",
      "1179                0              NaN              NaN          NaN   \n",
      "1216                0              NaN              NaN          NaN   \n",
      "1218                0              NaN              NaN          NaN   \n",
      "1232                0              NaN              NaN          NaN   \n",
      "1321                0              NaN              NaN          NaN   \n",
      "1412                0              NaN              NaN          NaN   \n",
      "\n",
      "     txt_bsmtcond txt_bsmtfintype1  \n",
      "17            NaN              NaN  \n",
      "39            NaN              NaN  \n",
      "90            NaN              NaN  \n",
      "102           NaN              NaN  \n",
      "156           NaN              NaN  \n",
      "182           NaN              NaN  \n",
      "259           NaN              NaN  \n",
      "342           NaN              NaN  \n",
      "362           NaN              NaN  \n",
      "371           NaN              NaN  \n",
      "392           NaN              NaN  \n",
      "520           NaN              NaN  \n",
      "532           NaN              NaN  \n",
      "533           NaN              NaN  \n",
      "553           NaN              NaN  \n",
      "646           NaN              NaN  \n",
      "705           NaN              NaN  \n",
      "736           NaN              NaN  \n",
      "749           NaN              NaN  \n",
      "778           NaN              NaN  \n",
      "868           NaN              NaN  \n",
      "894           NaN              NaN  \n",
      "897           NaN              NaN  \n",
      "948            TA              Unf  \n",
      "984           NaN              NaN  \n",
      "1000          NaN              NaN  \n",
      "1011          NaN              NaN  \n",
      "1035          NaN              NaN  \n",
      "1045          NaN              NaN  \n",
      "1048          NaN              NaN  \n",
      "1049          NaN              NaN  \n",
      "1090          NaN              NaN  \n",
      "1179          NaN              NaN  \n",
      "1216          NaN              NaN  \n",
      "1218          NaN              NaN  \n",
      "1232          NaN              NaN  \n",
      "1321          NaN              NaN  \n",
      "1412          NaN              NaN  \n",
      "      num_totalbsmtsf txt_bsmtexposure txt_bsmtfintype2 txt_bsmtqual  \\\n",
      "17                  0              NaN              NaN          NaN   \n",
      "39                  0              NaN              NaN          NaN   \n",
      "90                  0              NaN              NaN          NaN   \n",
      "102                 0              NaN              NaN          NaN   \n",
      "156                 0              NaN              NaN          NaN   \n",
      "182                 0              NaN              NaN          NaN   \n",
      "259                 0              NaN              NaN          NaN   \n",
      "342                 0              NaN              NaN          NaN   \n",
      "362                 0              NaN              NaN          NaN   \n",
      "371                 0              NaN              NaN          NaN   \n",
      "392                 0              NaN              NaN          NaN   \n",
      "520                 0              NaN              NaN          NaN   \n",
      "532                 0              NaN              NaN          NaN   \n",
      "533                 0              NaN              NaN          NaN   \n",
      "553                 0              NaN              NaN          NaN   \n",
      "646                 0              NaN              NaN          NaN   \n",
      "705                 0              NaN              NaN          NaN   \n",
      "736                 0              NaN              NaN          NaN   \n",
      "749                 0              NaN              NaN          NaN   \n",
      "778                 0              NaN              NaN          NaN   \n",
      "868                 0              NaN              NaN          NaN   \n",
      "894                 0              NaN              NaN          NaN   \n",
      "897                 0              NaN              NaN          NaN   \n",
      "984                 0              NaN              NaN          NaN   \n",
      "1000                0              NaN              NaN          NaN   \n",
      "1011                0              NaN              NaN          NaN   \n",
      "1035                0              NaN              NaN          NaN   \n",
      "1045                0              NaN              NaN          NaN   \n",
      "1048                0              NaN              NaN          NaN   \n",
      "1049                0              NaN              NaN          NaN   \n",
      "1090                0              NaN              NaN          NaN   \n",
      "1179                0              NaN              NaN          NaN   \n",
      "1216                0              NaN              NaN          NaN   \n",
      "1218                0              NaN              NaN          NaN   \n",
      "1232                0              NaN              NaN          NaN   \n",
      "1321                0              NaN              NaN          NaN   \n",
      "1412                0              NaN              NaN          NaN   \n",
      "\n",
      "     txt_bsmtcond txt_bsmtfintype1  \n",
      "17            NaN              NaN  \n",
      "39            NaN              NaN  \n",
      "90            NaN              NaN  \n",
      "102           NaN              NaN  \n",
      "156           NaN              NaN  \n",
      "182           NaN              NaN  \n",
      "259           NaN              NaN  \n",
      "342           NaN              NaN  \n",
      "362           NaN              NaN  \n",
      "371           NaN              NaN  \n",
      "392           NaN              NaN  \n",
      "520           NaN              NaN  \n",
      "532           NaN              NaN  \n",
      "533           NaN              NaN  \n",
      "553           NaN              NaN  \n",
      "646           NaN              NaN  \n",
      "705           NaN              NaN  \n",
      "736           NaN              NaN  \n",
      "749           NaN              NaN  \n",
      "778           NaN              NaN  \n",
      "868           NaN              NaN  \n",
      "894           NaN              NaN  \n",
      "897           NaN              NaN  \n",
      "984           NaN              NaN  \n",
      "1000          NaN              NaN  \n",
      "1011          NaN              NaN  \n",
      "1035          NaN              NaN  \n",
      "1045          NaN              NaN  \n",
      "1048          NaN              NaN  \n",
      "1049          NaN              NaN  \n",
      "1090          NaN              NaN  \n",
      "1179          NaN              NaN  \n",
      "1216          NaN              NaN  \n",
      "1218          NaN              NaN  \n",
      "1232          NaN              NaN  \n",
      "1321          NaN              NaN  \n",
      "1412          NaN              NaN  \n"
     ]
    }
   ],
   "source": [
    "# =============================\n",
    "# Cek kolom txt_bsmtexposure\n",
    "# =============================\n",
    "\n",
    "# print(df['num_totalbsmtsf'].unique())\n",
    "# print(df['txt_bsmtexposure'].unique())\n",
    "# print(df['txt_bsmtfintype2'].unique())\n",
    "# print(df['txt_bsmtqual'].unique())\n",
    "# print(df['txt_bsmtcond'].unique())\n",
    "# print(df['txt_bsmtfintype1'].unique())\n",
    "\n",
    "ygNull = df['txt_bsmtexposure'].isnull()\n",
    "df_filtered = df[ygNull]\n",
    "df_result = df_filtered[['num_totalbsmtsf', 'txt_bsmtexposure','txt_bsmtfintype2','txt_bsmtqual','txt_bsmtcond','txt_bsmtfintype1']]\n",
    "print(df_result)\n",
    "\n",
    "ygKosong = df_result['num_totalbsmtsf'] == 0\n",
    "df_result2 = df_result[ygKosong]\n",
    "print(df_result2)"
   ]
  },
  {
   "cell_type": "code",
   "execution_count": 705,
   "id": "b298f32b",
   "metadata": {},
   "outputs": [
    {
     "name": "stdout",
     "output_type": "stream",
     "text": [
      "['No' 'Gd' 'Mn' 'Av' nan]\n",
      "['No' 'Gd' 'Mn' 'Av' 'NA' nan]\n"
     ]
    }
   ],
   "source": [
    "# =============================\n",
    "# Cek kolom txt_bsmtexposure\n",
    "# =============================\n",
    "print(df['txt_bsmtexposure'].unique())\n",
    "df.loc[df['num_totalbsmtsf']==0, 'txt_bsmtexposure'] = \"NA\"\n",
    "print(df['txt_bsmtexposure'].unique())"
   ]
  },
  {
   "cell_type": "code",
   "execution_count": 706,
   "id": "6c1a6b22",
   "metadata": {},
   "outputs": [
    {
     "name": "stdout",
     "output_type": "stream",
     "text": [
      "['Unf' 'BLQ' nan 'ALQ' 'Rec' 'LwQ' 'GLQ']\n",
      "['Unf' 'BLQ' 'NA' 'ALQ' 'Rec' 'LwQ' 'GLQ' nan]\n"
     ]
    }
   ],
   "source": [
    "# =============================\n",
    "# Cek kolom txt_bsmtfintype2\n",
    "# =============================\n",
    "print(df['txt_bsmtfintype2'].unique())\n",
    "df.loc[df['num_totalbsmtsf']==0, 'txt_bsmtfintype2'] = \"NA\"\n",
    "print(df['txt_bsmtfintype2'].unique())"
   ]
  },
  {
   "cell_type": "code",
   "execution_count": 707,
   "id": "e5911704",
   "metadata": {},
   "outputs": [
    {
     "name": "stdout",
     "output_type": "stream",
     "text": [
      "['Gd' 'TA' 'Ex' nan 'Fa']\n",
      "['Gd' 'TA' 'Ex' 'NA' 'Fa']\n"
     ]
    }
   ],
   "source": [
    "# =============================\n",
    "# Cek kolom txt_bsmtqual\n",
    "# =============================\n",
    "print(df['txt_bsmtqual'].unique())\n",
    "df.loc[df['num_totalbsmtsf']==0, 'txt_bsmtqual'] = \"NA\"\n",
    "print(df['txt_bsmtqual'].unique())"
   ]
  },
  {
   "cell_type": "code",
   "execution_count": 708,
   "id": "037d538f",
   "metadata": {},
   "outputs": [
    {
     "name": "stdout",
     "output_type": "stream",
     "text": [
      "['TA' 'Gd' nan 'Fa' 'Po']\n",
      "['TA' 'Gd' 'NA' 'Fa' 'Po']\n"
     ]
    }
   ],
   "source": [
    "# =============================\n",
    "# Cek kolom txt_bsmtcond\n",
    "# =============================\n",
    "print(df['txt_bsmtcond'].unique())\n",
    "df.loc[df['num_totalbsmtsf']==0, 'txt_bsmtcond'] = \"NA\"\n",
    "print(df['txt_bsmtcond'].unique())"
   ]
  },
  {
   "cell_type": "code",
   "execution_count": 709,
   "id": "ef7152b9",
   "metadata": {},
   "outputs": [
    {
     "name": "stdout",
     "output_type": "stream",
     "text": [
      "['GLQ' 'ALQ' 'Unf' 'Rec' 'BLQ' nan 'LwQ']\n",
      "['GLQ' 'ALQ' 'Unf' 'Rec' 'BLQ' 'NA' 'LwQ']\n"
     ]
    }
   ],
   "source": [
    "# =============================\n",
    "# Cek kolom txt_bsmtfintype1\n",
    "# =============================\n",
    "print(df['txt_bsmtfintype1'].unique())\n",
    "df.loc[df['num_totalbsmtsf']==0, 'txt_bsmtfintype1'] = \"NA\"\n",
    "print(df['txt_bsmtfintype1'].unique())"
   ]
  },
  {
   "cell_type": "code",
   "execution_count": 710,
   "id": "782c5282",
   "metadata": {},
   "outputs": [
    {
     "data": {
      "application/vnd.microsoft.datawrangler.viewer.v0+json": {
       "columns": [
        {
         "name": "index",
         "rawType": "object",
         "type": "string"
        },
        {
         "name": "Missing Count",
         "rawType": "int64",
         "type": "integer"
        },
        {
         "name": "Missing Percentage",
         "rawType": "float64",
         "type": "float"
        }
       ],
       "ref": "4e0b1513-be61-47de-90d7-5f07fd40a805",
       "rows": [
        [
         "num_lotfrontage",
         "259",
         "17.73972602739726"
        ],
        [
         "txt_masvnrtype",
         "8",
         "0.547945205479452"
        ],
        [
         "num_masvnrarea",
         "8",
         "0.547945205479452"
        ],
        [
         "txt_bsmtexposure",
         "1",
         "0.0684931506849315"
        ],
        [
         "txt_bsmtfintype2",
         "1",
         "0.0684931506849315"
        ],
        [
         "txt_electrical",
         "1",
         "0.0684931506849315"
        ]
       ],
       "shape": {
        "columns": 2,
        "rows": 6
       }
      },
      "text/html": [
       "<div>\n",
       "<style scoped>\n",
       "    .dataframe tbody tr th:only-of-type {\n",
       "        vertical-align: middle;\n",
       "    }\n",
       "\n",
       "    .dataframe tbody tr th {\n",
       "        vertical-align: top;\n",
       "    }\n",
       "\n",
       "    .dataframe thead th {\n",
       "        text-align: right;\n",
       "    }\n",
       "</style>\n",
       "<table border=\"1\" class=\"dataframe\">\n",
       "  <thead>\n",
       "    <tr style=\"text-align: right;\">\n",
       "      <th></th>\n",
       "      <th>Missing Count</th>\n",
       "      <th>Missing Percentage</th>\n",
       "    </tr>\n",
       "  </thead>\n",
       "  <tbody>\n",
       "    <tr>\n",
       "      <th>num_lotfrontage</th>\n",
       "      <td>259</td>\n",
       "      <td>17.739726</td>\n",
       "    </tr>\n",
       "    <tr>\n",
       "      <th>txt_masvnrtype</th>\n",
       "      <td>8</td>\n",
       "      <td>0.547945</td>\n",
       "    </tr>\n",
       "    <tr>\n",
       "      <th>num_masvnrarea</th>\n",
       "      <td>8</td>\n",
       "      <td>0.547945</td>\n",
       "    </tr>\n",
       "    <tr>\n",
       "      <th>txt_bsmtexposure</th>\n",
       "      <td>1</td>\n",
       "      <td>0.068493</td>\n",
       "    </tr>\n",
       "    <tr>\n",
       "      <th>txt_bsmtfintype2</th>\n",
       "      <td>1</td>\n",
       "      <td>0.068493</td>\n",
       "    </tr>\n",
       "    <tr>\n",
       "      <th>txt_electrical</th>\n",
       "      <td>1</td>\n",
       "      <td>0.068493</td>\n",
       "    </tr>\n",
       "  </tbody>\n",
       "</table>\n",
       "</div>"
      ],
      "text/plain": [
       "                  Missing Count  Missing Percentage\n",
       "num_lotfrontage             259           17.739726\n",
       "txt_masvnrtype                8            0.547945\n",
       "num_masvnrarea                8            0.547945\n",
       "txt_bsmtexposure              1            0.068493\n",
       "txt_bsmtfintype2              1            0.068493\n",
       "txt_electrical                1            0.068493"
      ]
     },
     "execution_count": 710,
     "metadata": {},
     "output_type": "execute_result"
    }
   ],
   "source": [
    "printMissingInfo(df)\n"
   ]
  },
  {
   "cell_type": "code",
   "execution_count": 711,
   "id": "e998955e",
   "metadata": {},
   "outputs": [
    {
     "name": "stdout",
     "output_type": "stream",
     "text": [
      "['No' 'Gd' 'Mn' 'Av' 'NA' nan]\n",
      "['Unf' 'BLQ' 'NA' 'ALQ' 'Rec' 'LwQ' 'GLQ' nan]\n",
      "---------------------------------------\n",
      "     num_totalbsmtsf txt_bsmtexposure txt_bsmtfintype2\n",
      "948              936              NaN              Unf\n",
      "---------------------------------------\n",
      "     num_totalbsmtsf txt_bsmtexposure txt_bsmtfintype2\n",
      "332             3206               No              NaN\n",
      "---------------------------------------\n",
      "Empty DataFrame\n",
      "Columns: [num_totalbsmtsf, txt_bsmtexposure, txt_bsmtfintype2]\n",
      "Index: []\n"
     ]
    }
   ],
   "source": [
    "# =============================\n",
    "# Cek kolom txt_bsmtexposure\n",
    "# =============================\n",
    "\n",
    "print(df['txt_bsmtexposure'].unique())\n",
    "print(df['txt_bsmtfintype2'].unique())\n",
    "\n",
    "print('---------------------------------------')\n",
    "\n",
    "ygNull = df['txt_bsmtexposure'].isnull()\n",
    "df_filtered = df[ygNull]\n",
    "df_result = df_filtered[['num_totalbsmtsf', 'txt_bsmtexposure','txt_bsmtfintype2']]\n",
    "print(df_result)\n",
    "\n",
    "print('---------------------------------------')\n",
    "\n",
    "ygNull = df['txt_bsmtfintype2'].isnull()\n",
    "df_filtered = df[ygNull]\n",
    "df_result = df_filtered[['num_totalbsmtsf', 'txt_bsmtexposure','txt_bsmtfintype2']]\n",
    "print(df_result)\n",
    "\n",
    "print('---------------------------------------')\n",
    "\n",
    "ygKosong = df_result['num_totalbsmtsf'] == 0\n",
    "df_result2 = df_result[ygKosong]\n",
    "print(df_result2)"
   ]
  },
  {
   "cell_type": "code",
   "execution_count": 712,
   "id": "844cd3b5",
   "metadata": {},
   "outputs": [
    {
     "name": "stdout",
     "output_type": "stream",
     "text": [
      "['No' 'Gd' 'Mn' 'Av' 'NA' nan]\n",
      "['No' 'Gd' 'Mn' 'Av' 'NA']\n"
     ]
    }
   ],
   "source": [
    "# =============================\n",
    "# Cek kolom txt_bsmtexposure\n",
    "# =============================\n",
    "print(df['txt_bsmtexposure'].unique())\n",
    "df.loc[df['txt_bsmtexposure'].isnull(), 'txt_bsmtexposure'] = \"NA\"\n",
    "print(df['txt_bsmtexposure'].unique())"
   ]
  },
  {
   "cell_type": "code",
   "execution_count": 713,
   "id": "30751e1a",
   "metadata": {},
   "outputs": [
    {
     "name": "stdout",
     "output_type": "stream",
     "text": [
      "['Unf' 'BLQ' 'NA' 'ALQ' 'Rec' 'LwQ' 'GLQ' nan]\n",
      "['Unf' 'BLQ' 'NA' 'ALQ' 'Rec' 'LwQ' 'GLQ']\n"
     ]
    }
   ],
   "source": [
    "# =============================\n",
    "# Cek kolom txt_bsmtfintype2\n",
    "# =============================\n",
    "print(df['txt_bsmtfintype2'].unique())\n",
    "df.loc[df['txt_bsmtfintype2'].isnull(), 'txt_bsmtfintype2'] = \"NA\"\n",
    "print(df['txt_bsmtfintype2'].unique())"
   ]
  },
  {
   "cell_type": "code",
   "execution_count": 714,
   "id": "373bc9e1",
   "metadata": {},
   "outputs": [
    {
     "data": {
      "application/vnd.microsoft.datawrangler.viewer.v0+json": {
       "columns": [
        {
         "name": "index",
         "rawType": "object",
         "type": "string"
        },
        {
         "name": "Missing Count",
         "rawType": "int64",
         "type": "integer"
        },
        {
         "name": "Missing Percentage",
         "rawType": "float64",
         "type": "float"
        }
       ],
       "ref": "bcf8cfd4-6863-455f-9985-13012cda28c3",
       "rows": [
        [
         "num_lotfrontage",
         "259",
         "17.73972602739726"
        ],
        [
         "txt_masvnrtype",
         "8",
         "0.547945205479452"
        ],
        [
         "num_masvnrarea",
         "8",
         "0.547945205479452"
        ],
        [
         "txt_electrical",
         "1",
         "0.0684931506849315"
        ]
       ],
       "shape": {
        "columns": 2,
        "rows": 4
       }
      },
      "text/html": [
       "<div>\n",
       "<style scoped>\n",
       "    .dataframe tbody tr th:only-of-type {\n",
       "        vertical-align: middle;\n",
       "    }\n",
       "\n",
       "    .dataframe tbody tr th {\n",
       "        vertical-align: top;\n",
       "    }\n",
       "\n",
       "    .dataframe thead th {\n",
       "        text-align: right;\n",
       "    }\n",
       "</style>\n",
       "<table border=\"1\" class=\"dataframe\">\n",
       "  <thead>\n",
       "    <tr style=\"text-align: right;\">\n",
       "      <th></th>\n",
       "      <th>Missing Count</th>\n",
       "      <th>Missing Percentage</th>\n",
       "    </tr>\n",
       "  </thead>\n",
       "  <tbody>\n",
       "    <tr>\n",
       "      <th>num_lotfrontage</th>\n",
       "      <td>259</td>\n",
       "      <td>17.739726</td>\n",
       "    </tr>\n",
       "    <tr>\n",
       "      <th>txt_masvnrtype</th>\n",
       "      <td>8</td>\n",
       "      <td>0.547945</td>\n",
       "    </tr>\n",
       "    <tr>\n",
       "      <th>num_masvnrarea</th>\n",
       "      <td>8</td>\n",
       "      <td>0.547945</td>\n",
       "    </tr>\n",
       "    <tr>\n",
       "      <th>txt_electrical</th>\n",
       "      <td>1</td>\n",
       "      <td>0.068493</td>\n",
       "    </tr>\n",
       "  </tbody>\n",
       "</table>\n",
       "</div>"
      ],
      "text/plain": [
       "                 Missing Count  Missing Percentage\n",
       "num_lotfrontage            259           17.739726\n",
       "txt_masvnrtype               8            0.547945\n",
       "num_masvnrarea               8            0.547945\n",
       "txt_electrical               1            0.068493"
      ]
     },
     "execution_count": 714,
     "metadata": {},
     "output_type": "execute_result"
    }
   ],
   "source": [
    "printMissingInfo(df)"
   ]
  },
  {
   "cell_type": "markdown",
   "id": "a667cd69",
   "metadata": {},
   "source": [
    "### txt_masvnrtype"
   ]
  },
  {
   "cell_type": "code",
   "execution_count": 715,
   "id": "0168662b",
   "metadata": {},
   "outputs": [
    {
     "name": "stdout",
     "output_type": "stream",
     "text": [
      "['BrkFace' 'None' 'Stone' 'BrkCmn' nan]\n",
      "      num_masvnrarea txt_masvnrtype\n",
      "234              NaN            NaN\n",
      "529              NaN            NaN\n",
      "650              NaN            NaN\n",
      "936              NaN            NaN\n",
      "973              NaN            NaN\n",
      "977              NaN            NaN\n",
      "1243             NaN            NaN\n",
      "1278             NaN            NaN\n",
      "Empty DataFrame\n",
      "Columns: [num_masvnrarea, txt_masvnrtype]\n",
      "Index: []\n"
     ]
    }
   ],
   "source": [
    "# =============================\n",
    "# Cek kolom txt_masvnrtype\n",
    "# =============================\n",
    "\n",
    "print(df['txt_masvnrtype'].unique())\n",
    "\n",
    "ygNull = df['txt_masvnrtype'].isnull()\n",
    "df_filtered = df[ygNull]\n",
    "df_result = df_filtered[['num_masvnrarea', 'txt_masvnrtype']]\n",
    "print(df_result)\n",
    "\n",
    "ygKosong = df_result['num_masvnrarea'] == 0\n",
    "df_result2 = df_result[ygKosong]\n",
    "print(df_result2)"
   ]
  },
  {
   "cell_type": "code",
   "execution_count": 716,
   "id": "2a8842b8",
   "metadata": {},
   "outputs": [
    {
     "name": "stdout",
     "output_type": "stream",
     "text": [
      "['BrkFace' 'None' 'Stone' 'BrkCmn' nan]\n",
      "['BrkFace' 'None' 'Stone' 'BrkCmn']\n"
     ]
    }
   ],
   "source": [
    "# =============================\n",
    "# Cek kolom txt_masvnrtype\n",
    "# =============================\n",
    "print(df['txt_masvnrtype'].unique())\n",
    "df.loc[df['num_masvnrarea'].isnull(), 'txt_masvnrtype'] = \"None\"\n",
    "print(df['txt_masvnrtype'].unique())"
   ]
  },
  {
   "cell_type": "code",
   "execution_count": 717,
   "id": "fc73ee89",
   "metadata": {},
   "outputs": [],
   "source": [
    "# =============================\n",
    "# Cek kolom txt_masvnrtype\n",
    "# =============================\n",
    "# print(df['num_masvnrarea'].unique())\n",
    "df.loc[df['num_masvnrarea'].isnull(), 'num_masvnrarea'] = 0\n",
    "# print(df['num_masvnrarea'].unique())"
   ]
  },
  {
   "cell_type": "code",
   "execution_count": 718,
   "id": "4af5edc2",
   "metadata": {},
   "outputs": [
    {
     "data": {
      "application/vnd.microsoft.datawrangler.viewer.v0+json": {
       "columns": [
        {
         "name": "index",
         "rawType": "object",
         "type": "string"
        },
        {
         "name": "Missing Count",
         "rawType": "int64",
         "type": "integer"
        },
        {
         "name": "Missing Percentage",
         "rawType": "float64",
         "type": "float"
        }
       ],
       "ref": "96afedc9-e1fe-45f4-b59a-8ba6c95ec63e",
       "rows": [
        [
         "num_lotfrontage",
         "259",
         "17.73972602739726"
        ],
        [
         "txt_electrical",
         "1",
         "0.0684931506849315"
        ]
       ],
       "shape": {
        "columns": 2,
        "rows": 2
       }
      },
      "text/html": [
       "<div>\n",
       "<style scoped>\n",
       "    .dataframe tbody tr th:only-of-type {\n",
       "        vertical-align: middle;\n",
       "    }\n",
       "\n",
       "    .dataframe tbody tr th {\n",
       "        vertical-align: top;\n",
       "    }\n",
       "\n",
       "    .dataframe thead th {\n",
       "        text-align: right;\n",
       "    }\n",
       "</style>\n",
       "<table border=\"1\" class=\"dataframe\">\n",
       "  <thead>\n",
       "    <tr style=\"text-align: right;\">\n",
       "      <th></th>\n",
       "      <th>Missing Count</th>\n",
       "      <th>Missing Percentage</th>\n",
       "    </tr>\n",
       "  </thead>\n",
       "  <tbody>\n",
       "    <tr>\n",
       "      <th>num_lotfrontage</th>\n",
       "      <td>259</td>\n",
       "      <td>17.739726</td>\n",
       "    </tr>\n",
       "    <tr>\n",
       "      <th>txt_electrical</th>\n",
       "      <td>1</td>\n",
       "      <td>0.068493</td>\n",
       "    </tr>\n",
       "  </tbody>\n",
       "</table>\n",
       "</div>"
      ],
      "text/plain": [
       "                 Missing Count  Missing Percentage\n",
       "num_lotfrontage            259           17.739726\n",
       "txt_electrical               1            0.068493"
      ]
     },
     "execution_count": 718,
     "metadata": {},
     "output_type": "execute_result"
    }
   ],
   "source": [
    "printMissingInfo(df)"
   ]
  },
  {
   "cell_type": "markdown",
   "id": "f8445ff9",
   "metadata": {},
   "source": [
    "### txt_electrical"
   ]
  },
  {
   "cell_type": "code",
   "execution_count": 719,
   "id": "9db93b3b",
   "metadata": {},
   "outputs": [
    {
     "name": "stdout",
     "output_type": "stream",
     "text": [
      "['SBrkr' 'FuseF' 'FuseA' 'FuseP' 'Mix' nan]\n",
      "     txt_electrical txt_heating txt_utilities\n",
      "1379            NaN        GasA        AllPub\n",
      "txt_electrical\n",
      "FuseA      93\n",
      "FuseF      27\n",
      "FuseP       3\n",
      "Mix         1\n",
      "SBrkr    1334\n",
      "dtype: int64\n"
     ]
    }
   ],
   "source": [
    "# =============================\n",
    "# Cek kolom txt_electrical\n",
    "# =============================\n",
    "\n",
    "print(df['txt_electrical'].unique())\n",
    "\n",
    "ygNull = df['txt_electrical'].isnull()\n",
    "df_filtered = df[ygNull]\n",
    "df_result =  df_filtered[['txt_electrical','txt_heating','txt_utilities']]\n",
    "print(df_result)\n",
    "\n",
    "electrical_counts_groupby = df[df['txt_utilities'] == 'AllPub'].groupby('txt_electrical').size()\n",
    "print(electrical_counts_groupby)\n"
   ]
  },
  {
   "cell_type": "code",
   "execution_count": 720,
   "id": "e17b0eeb",
   "metadata": {},
   "outputs": [
    {
     "name": "stdout",
     "output_type": "stream",
     "text": [
      "['SBrkr' 'FuseF' 'FuseA' 'FuseP' 'Mix' nan]\n",
      "['SBrkr' 'FuseF' 'FuseA' 'FuseP' 'Mix']\n"
     ]
    }
   ],
   "source": [
    "# =============================\n",
    "# Cek kolom txt_electrical\n",
    "# =============================\n",
    "print(df['txt_electrical'].unique())\n",
    "df.loc[df['txt_electrical'].isnull(), 'txt_electrical'] = 'FuseA'\n",
    "print(df['txt_electrical'].unique())"
   ]
  },
  {
   "cell_type": "code",
   "execution_count": 721,
   "id": "b812e99d",
   "metadata": {},
   "outputs": [
    {
     "data": {
      "application/vnd.microsoft.datawrangler.viewer.v0+json": {
       "columns": [
        {
         "name": "index",
         "rawType": "object",
         "type": "string"
        },
        {
         "name": "Missing Count",
         "rawType": "int64",
         "type": "integer"
        },
        {
         "name": "Missing Percentage",
         "rawType": "float64",
         "type": "float"
        }
       ],
       "ref": "893933b6-e8ad-4339-be13-0badecd1143f",
       "rows": [
        [
         "num_lotfrontage",
         "259",
         "17.73972602739726"
        ]
       ],
       "shape": {
        "columns": 2,
        "rows": 1
       }
      },
      "text/html": [
       "<div>\n",
       "<style scoped>\n",
       "    .dataframe tbody tr th:only-of-type {\n",
       "        vertical-align: middle;\n",
       "    }\n",
       "\n",
       "    .dataframe tbody tr th {\n",
       "        vertical-align: top;\n",
       "    }\n",
       "\n",
       "    .dataframe thead th {\n",
       "        text-align: right;\n",
       "    }\n",
       "</style>\n",
       "<table border=\"1\" class=\"dataframe\">\n",
       "  <thead>\n",
       "    <tr style=\"text-align: right;\">\n",
       "      <th></th>\n",
       "      <th>Missing Count</th>\n",
       "      <th>Missing Percentage</th>\n",
       "    </tr>\n",
       "  </thead>\n",
       "  <tbody>\n",
       "    <tr>\n",
       "      <th>num_lotfrontage</th>\n",
       "      <td>259</td>\n",
       "      <td>17.739726</td>\n",
       "    </tr>\n",
       "  </tbody>\n",
       "</table>\n",
       "</div>"
      ],
      "text/plain": [
       "                 Missing Count  Missing Percentage\n",
       "num_lotfrontage            259           17.739726"
      ]
     },
     "execution_count": 721,
     "metadata": {},
     "output_type": "execute_result"
    }
   ],
   "source": [
    "printMissingInfo(df)"
   ]
  },
  {
   "cell_type": "markdown",
   "id": "593943f4",
   "metadata": {},
   "source": [
    "### num_lotfrontage"
   ]
  },
  {
   "cell_type": "code",
   "execution_count": 722,
   "id": "7ba49ba7",
   "metadata": {},
   "outputs": [
    {
     "name": "stderr",
     "output_type": "stream",
     "text": [
      "C:\\Users\\andyp\\AppData\\Local\\Temp\\ipykernel_14532\\3975267678.py:1: FutureWarning: The default value of numeric_only in DataFrame.corr is deprecated. In a future version, it will default to False. Select only valid columns or specify the value of numeric_only to silence this warning.\n",
      "  df.corr()['num_saleprice']['num_lotfrontage']\n"
     ]
    },
    {
     "data": {
      "text/plain": [
       "0.35179909657067737"
      ]
     },
     "execution_count": 722,
     "metadata": {},
     "output_type": "execute_result"
    }
   ],
   "source": [
    "df.corr()['num_saleprice']['num_lotfrontage']"
   ]
  },
  {
   "cell_type": "code",
   "execution_count": 723,
   "id": "f5130814",
   "metadata": {},
   "outputs": [
    {
     "data": {
      "image/png": "[encoded data removed]",
      "text/plain": [
       "<Figure size 800x600 with 1 Axes>"
      ]
     },
     "metadata": {},
     "output_type": "display_data"
    },
    {
     "name": "stdout",
     "output_type": "stream",
     "text": [
      "Skewness of num_lotfrontage: 2.163569142324884\n"
     ]
    }
   ],
   "source": [
    "feature = 'num_lotfrontage'\n",
    "\n",
    "# Plot distribution\n",
    "plt.figure(figsize=(8, 6))\n",
    "sns.histplot(df[feature], kde=True, color='blue', bins=30)\n",
    "plt.title(f'Distribution of {feature}')\n",
    "plt.xlabel(feature)\n",
    "plt.ylabel('Frequency')\n",
    "plt.show()\n",
    "\n",
    "# Calculate skewness\n",
    "skewness = df[feature].skew()\n",
    "\n",
    "# Display skewness\n",
    "print(f'Skewness of {feature}: {skewness}')"
   ]
  },
  {
   "cell_type": "raw",
   "id": "36bf36d9",
   "metadata": {
    "vscode": {
     "languageId": "raw"
    }
   },
   "source": [
    "for 'num_lotfrontage' i got :\n",
    "correlation to target : 0.35179909657067737\n",
    "missing values : 259 (17.73972602739726%)\n",
    "right skew graph\n",
    "\n",
    "lets chek again with the neighbourhood"
   ]
  },
  {
   "cell_type": "code",
   "execution_count": 724,
   "id": "23545bb0",
   "metadata": {},
   "outputs": [
    {
     "name": "stdout",
     "output_type": "stream",
     "text": [
      "   txt_neighborhood  num_lotfrontage\n",
      "0           Blmngtn             43.0\n",
      "1           Blueste             24.0\n",
      "2            BrDale             21.0\n",
      "3           BrkSide             52.0\n",
      "4           ClearCr             80.0\n",
      "5           CollgCr             70.0\n",
      "6           Crawfor             74.0\n",
      "7           Edwards             65.5\n",
      "8           Gilbert             65.0\n",
      "9            IDOTRR             60.0\n",
      "10          MeadowV             21.0\n",
      "11          Mitchel             73.0\n",
      "12            NAmes             73.0\n",
      "13          NPkVill             24.0\n",
      "14           NWAmes             80.0\n",
      "15          NoRidge             91.0\n",
      "16          NridgHt             88.5\n",
      "17          OldTown             60.0\n",
      "18            SWISU             60.0\n",
      "19           Sawyer             71.0\n",
      "20          SawyerW             66.5\n",
      "21          Somerst             73.5\n",
      "22          StoneBr             61.5\n",
      "23           Timber             85.0\n",
      "24          Veenker             68.0\n"
     ]
    }
   ],
   "source": [
    "num_lotfrontage_median_by_txt_neighborhood = df.groupby('txt_neighborhood')['num_lotfrontage'].median().reset_index()\n",
    "print(num_lotfrontage_median_by_txt_neighborhood)\n"
   ]
  },
  {
   "cell_type": "code",
   "execution_count": 725,
   "id": "8414af75",
   "metadata": {},
   "outputs": [
    {
     "name": "stdout",
     "output_type": "stream",
     "text": [
      "   txt_neighborhood  num_medianlotfrontage_by_neighborhood\n",
      "0           Blmngtn                                   43.0\n",
      "1           Blueste                                   24.0\n",
      "2            BrDale                                   21.0\n",
      "3           BrkSide                                   52.0\n",
      "4           ClearCr                                   80.0\n",
      "5           CollgCr                                   70.0\n",
      "6           Crawfor                                   74.0\n",
      "7           Edwards                                   65.5\n",
      "8           Gilbert                                   65.0\n",
      "9            IDOTRR                                   60.0\n",
      "10          MeadowV                                   21.0\n",
      "11          Mitchel                                   73.0\n",
      "12            NAmes                                   73.0\n",
      "13          NPkVill                                   24.0\n",
      "14           NWAmes                                   80.0\n",
      "15          NoRidge                                   91.0\n",
      "16          NridgHt                                   88.5\n",
      "17          OldTown                                   60.0\n",
      "18            SWISU                                   60.0\n",
      "19           Sawyer                                   71.0\n",
      "20          SawyerW                                   66.5\n",
      "21          Somerst                                   73.5\n",
      "22          StoneBr                                   61.5\n",
      "23           Timber                                   85.0\n",
      "24          Veenker                                   68.0\n"
     ]
    }
   ],
   "source": [
    "num_lotfrontage_median_by_txt_neighborhood.rename(columns={'num_lotfrontage': 'num_medianlotfrontage_by_neighborhood'}, inplace=True)\n",
    "print(num_lotfrontage_median_by_txt_neighborhood)\n"
   ]
  },
  {
   "cell_type": "code",
   "execution_count": 726,
   "id": "68db1352",
   "metadata": {},
   "outputs": [
    {
     "name": "stdout",
     "output_type": "stream",
     "text": [
      "     txt_neighborhood  num_lotfrontage  num_medianlotfrontage_by_neighborhood\n",
      "7              NWAmes              NaN                                   80.0\n",
      "12             Sawyer              NaN                                   71.0\n",
      "14              NAmes              NaN                                   73.0\n",
      "16              NAmes              NaN                                   73.0\n",
      "24             Sawyer              NaN                                   71.0\n",
      "...               ...              ...                                    ...\n",
      "1429           NWAmes              NaN                                   80.0\n",
      "1431          NPkVill              NaN                                   24.0\n",
      "1441          CollgCr              NaN                                   70.0\n",
      "1443          BrkSide              NaN                                   52.0\n",
      "1446          Mitchel              NaN                                   73.0\n",
      "\n",
      "[259 rows x 3 columns]\n"
     ]
    }
   ],
   "source": [
    "df_merged = pd.merge(\n",
    "    df,\n",
    "    num_lotfrontage_median_by_txt_neighborhood,\n",
    "    on='txt_neighborhood',  # Join key\n",
    "    how='left'          # Keep all rows from df\n",
    ")\n",
    "print(df_merged[df_merged['num_lotfrontage'].isnull()][['txt_neighborhood', 'num_lotfrontage', 'num_medianlotfrontage_by_neighborhood']])\n"
   ]
  },
  {
   "cell_type": "code",
   "execution_count": 727,
   "id": "ee3a5967",
   "metadata": {},
   "outputs": [],
   "source": [
    "df_merged['num_lotfrontage2'] = np.where(df_merged['num_lotfrontage'].notnull(), \n",
    "                                          df_merged['num_lotfrontage'], \n",
    "                                          df_merged['num_medianlotfrontage_by_neighborhood'])\n",
    "df_merged.drop(columns=['num_lotfrontage', 'num_medianlotfrontage_by_neighborhood'], inplace=True)\n",
    "df_merged.rename(columns={'num_lotfrontage2': 'num_lotfrontage'}, inplace=True)\n",
    "df=df_merged.copy(deep=True)\n"
   ]
  },
  {
   "cell_type": "code",
   "execution_count": 728,
   "id": "0f5a8c29",
   "metadata": {},
   "outputs": [
    {
     "data": {
      "application/vnd.microsoft.datawrangler.viewer.v0+json": {
       "columns": [
        {
         "name": "index",
         "rawType": "object",
         "type": "string"
        },
        {
         "name": "Missing Count",
         "rawType": "int64",
         "type": "integer"
        },
        {
         "name": "Missing Percentage",
         "rawType": "float64",
         "type": "float"
        }
       ],
       "ref": "b2e459cd-829f-426f-9070-004ce13d5607",
       "rows": [],
       "shape": {
        "columns": 2,
        "rows": 0
       }
      },
      "text/html": [
       "<div>\n",
       "<style scoped>\n",
       "    .dataframe tbody tr th:only-of-type {\n",
       "        vertical-align: middle;\n",
       "    }\n",
       "\n",
       "    .dataframe tbody tr th {\n",
       "        vertical-align: top;\n",
       "    }\n",
       "\n",
       "    .dataframe thead th {\n",
       "        text-align: right;\n",
       "    }\n",
       "</style>\n",
       "<table border=\"1\" class=\"dataframe\">\n",
       "  <thead>\n",
       "    <tr style=\"text-align: right;\">\n",
       "      <th></th>\n",
       "      <th>Missing Count</th>\n",
       "      <th>Missing Percentage</th>\n",
       "    </tr>\n",
       "  </thead>\n",
       "  <tbody>\n",
       "  </tbody>\n",
       "</table>\n",
       "</div>"
      ],
      "text/plain": [
       "Empty DataFrame\n",
       "Columns: [Missing Count, Missing Percentage]\n",
       "Index: []"
      ]
     },
     "execution_count": 728,
     "metadata": {},
     "output_type": "execute_result"
    }
   ],
   "source": [
    "printMissingInfo(df)"
   ]
  },
  {
   "cell_type": "code",
   "execution_count": 729,
   "id": "d90c8b3b",
   "metadata": {},
   "outputs": [
    {
     "name": "stdout",
     "output_type": "stream",
     "text": [
      "{'txt_mssubclass': 15, 'txt_mszoning': 5, 'txt_street': 2, 'txt_alley': 3, 'txt_lotshape': 4, 'txt_landcontour': 4, 'txt_utilities': 2, 'txt_lotconfig': 5, 'txt_landslope': 3, 'txt_neighborhood': 25, 'txt_condition1': 9, 'txt_condition2': 8, 'txt_bldgtype': 5, 'txt_housestyle': 8, 'txt_roofstyle': 6, 'txt_roofmatl': 8, 'txt_exterior1st': 15, 'txt_exterior2nd': 16, 'txt_masvnrtype': 4, 'txt_exterqual': 4, 'txt_extercond': 5, 'txt_foundation': 6, 'txt_bsmtqual': 5, 'txt_bsmtcond': 5, 'txt_bsmtexposure': 5, 'txt_bsmtfintype1': 7, 'txt_bsmtfintype2': 7, 'txt_heating': 6, 'txt_heatingqc': 5, 'txt_centralair': 2, 'txt_electrical': 5, 'txt_kitchenqual': 4, 'txt_functional': 7, 'txt_fireplacequ': 6, 'txt_garagetype': 7, 'txt_garagefinish': 4, 'txt_garagequal': 6, 'txt_garagecond': 6, 'txt_paveddrive': 3, 'txt_poolqc': 4, 'txt_fence': 5, 'txt_miscfeature': 5, 'txt_saletype': 9, 'txt_salecondition': 6}\n",
      "               Column  UniqueValueCount\n",
      "0      txt_mssubclass                15\n",
      "1        txt_mszoning                 5\n",
      "2          txt_street                 2\n",
      "3           txt_alley                 3\n",
      "4        txt_lotshape                 4\n",
      "5     txt_landcontour                 4\n",
      "6       txt_utilities                 2\n",
      "7       txt_lotconfig                 5\n",
      "8       txt_landslope                 3\n",
      "9    txt_neighborhood                25\n",
      "10     txt_condition1                 9\n",
      "11     txt_condition2                 8\n",
      "12       txt_bldgtype                 5\n",
      "13     txt_housestyle                 8\n",
      "14      txt_roofstyle                 6\n",
      "15       txt_roofmatl                 8\n",
      "16    txt_exterior1st                15\n",
      "17    txt_exterior2nd                16\n",
      "18     txt_masvnrtype                 4\n",
      "19      txt_exterqual                 4\n",
      "20      txt_extercond                 5\n",
      "21     txt_foundation                 6\n",
      "22       txt_bsmtqual                 5\n",
      "23       txt_bsmtcond                 5\n",
      "24   txt_bsmtexposure                 5\n",
      "25   txt_bsmtfintype1                 7\n",
      "26   txt_bsmtfintype2                 7\n",
      "27        txt_heating                 6\n",
      "28      txt_heatingqc                 5\n",
      "29     txt_centralair                 2\n",
      "30     txt_electrical                 5\n",
      "31    txt_kitchenqual                 4\n",
      "32     txt_functional                 7\n",
      "33    txt_fireplacequ                 6\n",
      "34     txt_garagetype                 7\n",
      "35   txt_garagefinish                 4\n",
      "36     txt_garagequal                 6\n",
      "37     txt_garagecond                 6\n",
      "38     txt_paveddrive                 3\n",
      "39         txt_poolqc                 4\n",
      "40          txt_fence                 5\n",
      "41    txt_miscfeature                 5\n",
      "42       txt_saletype                 9\n",
      "43  txt_salecondition                 6\n"
     ]
    }
   ],
   "source": [
    "txt_columns = [col for col in df.columns if col.startswith('txt_')]\n",
    "unique_values = {}\n",
    "for col in txt_columns:\n",
    "    # Get the unique values for the current column and add it to the dictionary\n",
    "    unique_values[col] = df[col].nunique()\n",
    "\n",
    "print(unique_values)\n",
    "\n",
    "listnya=list(unique_values.items())\n",
    "unique_values_df=pd.DataFrame(listnya, columns=['Column', 'UniqueValueCount'])\n",
    "\n",
    "print(unique_values_df)\n",
    "unique_values_df.to_csv(f'./output/{get_now_string()}_unique_values_df.csv', index=False)\n"
   ]
  },
  {
   "cell_type": "markdown",
   "id": "213f81aa",
   "metadata": {},
   "source": [
    "based on checking (see : CategoricalEncodingnyaPakaiApa.xlsx)\n",
    "<br>\n",
    "######################\n",
    "<br>\n",
    "**no need encoding** <br>\n",
    "'txt_overallqual', 'txt_overallcond',\n",
    "\n",
    "**OHE** <br>\n",
    "'txt_street','txt_alley','txt_landslope','txt_centralair','txt_paveddrive',\n",
    "\n",
    "**Target Encoding** <br>\n",
    "'txt_mssubclass','txt_mszoning','txt_lotshape','txt_landcontour','txt_utilities',<br>\n",
    "'txt_lotconfig','txt_neighborhood','txt_condition1','txt_condition2','txt_bldgtype',<br>\n",
    "'txt_housestyle','txt_roofstyle','txt_roofmatl','txt_exterior1st','txt_exterior2nd',<br>\n",
    "'txt_masvnrtype','txt_exterqual','txt_extercond','txt_foundation','txt_bsmtqual',<br>\n",
    "'txt_bsmtcond','txt_bsmtexposure','txt_bsmtfintype1','txt_bsmtfintype2','txt_heating',<br>\n",
    "'txt_heatingqc','txt_electrical','txt_kitchenqual','txt_functional','txt_fireplacequ',<br>\n",
    "'txt_garagetype','txt_garagefinish','txt_garagequal','txt_garagecond','txt_poolqc',<br>\n",
    "'txt_fence','txt_miscfeature','txt_saletype','txt_salecondition',"
   ]
  },
  {
   "cell_type": "markdown",
   "id": "b15d00f4",
   "metadata": {},
   "source": [
    "untuk :\n",
    "- 'txt_mssubclass',\n",
    "- 'txt_mszoning',\n",
    "- 'txt_utilities',\n",
    "- 'txt_condition2',\n",
    "- 'txt_exterior1st',\n",
    "- 'txt_exterior2nd',\n",
    "- 'txt_masvnrtype',\n",
    "- 'txt_exterqual',\n",
    "- 'txt_bsmtqual',\n",
    "- 'txt_bsmtcond',\n",
    "- 'txt_kitchenqual',\n",
    "- 'txt_functional',\n",
    "- 'txt_poolqc',\n",
    "- 'txt_miscfeature',\n",
    "- 'txt_saletype',\n",
    "<br>\n",
    "\n",
    "jumlah unique value pada data is less than what is listed in data description / definition .<br>\n",
    "but for the simplicity of this project (and we don't have new data that might have <br>\n",
    "categorical values other than that already listed in the curren data ), <br>\n",
    "i decided not to include any categorical value that is listed in the data description / definition but<br>\n",
    "not listed in the training/test data\n",
    "\n"
   ]
  },
  {
   "cell_type": "markdown",
   "id": "2b339a49",
   "metadata": {},
   "source": [
    "## One Hot Encoding"
   ]
  },
  {
   "cell_type": "code",
   "execution_count": 730,
   "id": "37a5a354",
   "metadata": {},
   "outputs": [
    {
     "data": {
      "text/plain": [
       "Index(['num_id', 'txt_mssubclass', 'txt_mszoning', 'num_lotarea',\n",
       "       'txt_lotshape', 'txt_landcontour', 'txt_utilities', 'txt_lotconfig',\n",
       "       'txt_neighborhood', 'txt_condition1', 'txt_condition2', 'txt_bldgtype',\n",
       "       'txt_housestyle', 'num_overallqual', 'num_overallcond', 'num_yearbuilt',\n",
       "       'num_yearremodadd', 'txt_roofstyle', 'txt_roofmatl', 'txt_exterior1st',\n",
       "       'txt_exterior2nd', 'txt_masvnrtype', 'num_masvnrarea', 'txt_exterqual',\n",
       "       'txt_extercond', 'txt_foundation', 'txt_bsmtqual', 'txt_bsmtcond',\n",
       "       'txt_bsmtexposure', 'txt_bsmtfintype1', 'num_bsmtfinsf1',\n",
       "       'txt_bsmtfintype2', 'num_bsmtfinsf2', 'num_bsmtunfsf',\n",
       "       'num_totalbsmtsf', 'txt_heating', 'txt_heatingqc', 'txt_electrical',\n",
       "       'num_1stflrsf', 'num_2ndflrsf', 'num_lowqualfinsf', 'num_grlivarea',\n",
       "       'num_bsmtfullbath', 'num_bsmthalfbath', 'num_fullbath', 'num_halfbath',\n",
       "       'num_bedroomabvgr', 'num_kitchenabvgr', 'txt_kitchenqual',\n",
       "       'num_totrmsabvgrd', 'txt_functional', 'num_fireplaces',\n",
       "       'txt_fireplacequ', 'txt_garagetype', 'num_garageyrblt',\n",
       "       'txt_garagefinish', 'num_garagecars', 'num_garagearea',\n",
       "       'txt_garagequal', 'txt_garagecond', 'num_wooddecksf', 'num_openporchsf',\n",
       "       'num_enclosedporch', 'num_3ssnporch', 'num_screenporch', 'num_poolarea',\n",
       "       'txt_poolqc', 'txt_fence', 'txt_miscfeature', 'num_miscval',\n",
       "       'num_mosold', 'num_yrsold', 'txt_saletype', 'txt_salecondition',\n",
       "       'num_saleprice', 'num_lotfrontage', 'txt_street_Grvl',\n",
       "       'txt_street_Pave', 'txt_alley_Grvl', 'txt_alley_NA', 'txt_alley_Pave',\n",
       "       'txt_landslope_Gtl', 'txt_landslope_Mod', 'txt_landslope_Sev',\n",
       "       'txt_centralair_N', 'txt_centralair_Y', 'txt_paveddrive_N',\n",
       "       'txt_paveddrive_P', 'txt_paveddrive_Y'],\n",
       "      dtype='object')"
      ]
     },
     "execution_count": 730,
     "metadata": {},
     "output_type": "execute_result"
    }
   ],
   "source": [
    "df = one_hot_encode_columns_general(df, ['txt_street','txt_alley','txt_landslope','txt_centralair','txt_paveddrive'])\n",
    "df.columns"
   ]
  },
  {
   "cell_type": "markdown",
   "id": "8e0f9a23",
   "metadata": {},
   "source": [
    "## Data Splitting"
   ]
  },
  {
   "cell_type": "code",
   "execution_count": 731,
   "id": "e6bcd763",
   "metadata": {},
   "outputs": [],
   "source": [
    "from sklearn.model_selection import train_test_split\n",
    "\n",
    "X = df.drop(\"num_saleprice\", axis=1)\n",
    "y = df[\"num_saleprice\"]\n",
    "\n",
    "X_train, X_test, y_train, y_test = train_test_split(\n",
    "    X, y, test_size=0.2, random_state=42\n",
    ")\n",
    "\n",
    "df_train = pd.concat([X_train, y_train], axis=1)\n",
    "df_test = pd.concat([X_test, y_test], axis=1)\n",
    "\n",
    "#create backup as usual \n",
    "df_train.to_csv(f'./output/{get_now_string()}_df_train.csv', index=False)\n",
    "df_test.to_csv(f'./output/{get_now_string()}_df_test.csv', index=False)\n"
   ]
  },
  {
   "cell_type": "code",
   "execution_count": 732,
   "id": "46d7634d",
   "metadata": {},
   "outputs": [
    {
     "name": "stdout",
     "output_type": "stream",
     "text": [
      "df_train.shape=(1168, 89)\n",
      "df_test.shape=(292, 89)\n"
     ]
    }
   ],
   "source": [
    "print(f'df_train.shape={df_train.shape}')\n",
    "print(f'df_test.shape={df_test.shape}')"
   ]
  },
  {
   "cell_type": "markdown",
   "id": "c74935f0",
   "metadata": {},
   "source": [
    "## Target Encoding after Splitting"
   ]
  },
  {
   "cell_type": "code",
   "execution_count": 733,
   "id": "13c1170a",
   "metadata": {},
   "outputs": [],
   "source": [
    "df_train, encodernya = target_encode_columns_general(df_train, target_col='num_saleprice'\n",
    "                                               , columns=['txt_mssubclass','txt_mszoning','txt_lotshape','txt_landcontour','txt_utilities','txt_lotconfig',\n",
    "                                                          'txt_neighborhood','txt_condition1','txt_condition2','txt_bldgtype','txt_housestyle',\n",
    "                                                          'txt_roofstyle','txt_roofmatl','txt_exterior1st','txt_exterior2nd','txt_masvnrtype',\n",
    "                                                          'txt_exterqual','txt_extercond','txt_foundation','txt_bsmtqual','txt_bsmtcond',\n",
    "                                                          'txt_bsmtexposure','txt_bsmtfintype1','txt_bsmtfintype2','txt_heating','txt_heatingqc',\n",
    "                                                          'txt_electrical','txt_kitchenqual','txt_functional','txt_fireplacequ','txt_garagetype',\n",
    "                                                          'txt_garagefinish','txt_garagequal','txt_garagecond','txt_poolqc','txt_fence',\n",
    "                                                          'txt_miscfeature','txt_saletype','txt_salecondition'])\n"
   ]
  },
  {
   "cell_type": "code",
   "execution_count": 734,
   "id": "cdedc03a",
   "metadata": {},
   "outputs": [],
   "source": [
    "df_test_full = df_test.copy()\n",
    "\n",
    "#endcoder only process the feature that need to be target encoded so does the encoding result\n",
    "#so we need to copy the full df , DROP the features being encoded, and ADD the encoded result back\n",
    "\n",
    "df_transformed_cols = encodernya.transform(df_test[['txt_mssubclass','txt_mszoning','txt_lotshape','txt_landcontour','txt_utilities','txt_lotconfig',\n",
    "                                                          'txt_neighborhood','txt_condition1','txt_condition2','txt_bldgtype','txt_housestyle',\n",
    "                                                          'txt_roofstyle','txt_roofmatl','txt_exterior1st','txt_exterior2nd','txt_masvnrtype',\n",
    "                                                          'txt_exterqual','txt_extercond','txt_foundation','txt_bsmtqual','txt_bsmtcond',\n",
    "                                                          'txt_bsmtexposure','txt_bsmtfintype1','txt_bsmtfintype2','txt_heating','txt_heatingqc',\n",
    "                                                          'txt_electrical','txt_kitchenqual','txt_functional','txt_fireplacequ','txt_garagetype',\n",
    "                                                          'txt_garagefinish','txt_garagequal','txt_garagecond','txt_poolqc','txt_fence',\n",
    "                                                          'txt_miscfeature','txt_saletype','txt_salecondition']])\n",
    "\n",
    "\n",
    "df_test_full = df_test_full.drop(columns=['txt_mssubclass','txt_mszoning','txt_lotshape','txt_landcontour','txt_utilities','txt_lotconfig',\n",
    "                                                          'txt_neighborhood','txt_condition1','txt_condition2','txt_bldgtype','txt_housestyle',\n",
    "                                                          'txt_roofstyle','txt_roofmatl','txt_exterior1st','txt_exterior2nd','txt_masvnrtype',\n",
    "                                                          'txt_exterqual','txt_extercond','txt_foundation','txt_bsmtqual','txt_bsmtcond',\n",
    "                                                          'txt_bsmtexposure','txt_bsmtfintype1','txt_bsmtfintype2','txt_heating','txt_heatingqc',\n",
    "                                                          'txt_electrical','txt_kitchenqual','txt_functional','txt_fireplacequ','txt_garagetype',\n",
    "                                                          'txt_garagefinish','txt_garagequal','txt_garagecond','txt_poolqc','txt_fence',\n",
    "                                                          'txt_miscfeature','txt_saletype','txt_salecondition'])\n",
    "\n",
    "df_test = pd.concat([df_test_full, df_transformed_cols], axis=1)\n"
   ]
  },
  {
   "cell_type": "code",
   "execution_count": 735,
   "id": "7753b61c",
   "metadata": {},
   "outputs": [
    {
     "name": "stdout",
     "output_type": "stream",
     "text": [
      "df_train.shape=(1168, 89)\n",
      "df_test.shape=(292, 89)\n"
     ]
    }
   ],
   "source": [
    "print(f'df_train.shape={df_train.shape}')\n",
    "print(f'df_test.shape={df_test.shape}')"
   ]
  },
  {
   "cell_type": "markdown",
   "id": "290933b3",
   "metadata": {},
   "source": [
    "## Steps summary for data prepreprocessing:\n",
    "- normalize column names\n",
    "- handle missing values\n",
    "- doing OHE before splitting\n",
    "- doing Target Encoding after splitting\n"
   ]
  },
  {
   "cell_type": "markdown",
   "id": "3d2f61f6",
   "metadata": {},
   "source": [
    "# MODELING"
   ]
  },
  {
   "cell_type": "markdown",
   "id": "a6f8b71d",
   "metadata": {},
   "source": [
    "## Baseline Model"
   ]
  },
  {
   "cell_type": "markdown",
   "id": "ee63c6ef",
   "metadata": {},
   "source": []
  },
  {
   "cell_type": "code",
   "execution_count": 736,
   "id": "95bad239",
   "metadata": {},
   "outputs": [],
   "source": [
    "results_df = pd.DataFrame([{\n",
    "    \"Model\": '-',\n",
    "    \"RMSE\": 0,\n",
    "    \"MAE\": 0,\n",
    "    \"MAPE\": 0,    \n",
    "    \"R2\": 0,\n",
    "    \"Model File\": '',\n",
    "    \"df_train\": '',\n",
    "    \"df_test\":'',\n",
    "    \"Scaler File\":''\n",
    "}])\n"
   ]
  },
  {
   "cell_type": "code",
   "execution_count": 737,
   "id": "48586aa0",
   "metadata": {},
   "outputs": [],
   "source": [
    "X_train = df_train.drop(columns=['num_saleprice'])\n",
    "y_train = df_train['num_saleprice']\n",
    "X_test = df_test.drop(columns=['num_saleprice'])\n",
    "y_test = df_test['num_saleprice']"
   ]
  },
  {
   "cell_type": "markdown",
   "id": "ba7fe77b",
   "metadata": {},
   "source": [
    "### Baseline Linear Regression"
   ]
  },
  {
   "cell_type": "code",
   "execution_count": 738,
   "id": "1e0c35d5",
   "metadata": {},
   "outputs": [
    {
     "name": "stdout",
     "output_type": "stream",
     "text": [
      "Model saved to ./output/2025-06-11_Wed_1602_34_baseline_model_linear_regression.pkl\n",
      "                              Model          RMSE           MAE      MAPE  \\\n",
      "0                                 -      0.000000      0.000000   0.00000   \n",
      "1  baseline_model_linear_regression  32170.161993  20080.659064  11.82033   \n",
      "\n",
      "         R2  \n",
      "0  0.000000  \n",
      "1  0.865075  \n"
     ]
    }
   ],
   "source": [
    "model = LinearRegression()\n",
    "model.fit(X_train, y_train)\n",
    "y_pred = model.predict(X_test)\n",
    "\n",
    "\n",
    "rmse = np.sqrt(mean_squared_error(y_test, y_pred))\n",
    "mae = mean_absolute_error(y_test, y_pred)\n",
    "r2 = r2_score(y_test, y_pred)\n",
    "mape = calculate_mape(y_test,y_pred)\n",
    "\n",
    "sekarang = f'./output/{get_now_string()}'\n",
    "model_name = 'baseline_model_linear_regression'\n",
    "model_file_name = f'{sekarang}_{model_name}.pkl'\n",
    "df_train_filename= f'{sekarang}_{model_name}_df_train.csv'\n",
    "df_test_filename= f'{sekarang}_{model_name}_df_test.csv'\n",
    "\n",
    "save_model(model, model_file_name)\n",
    "df_train.to_csv(df_train_filename)\n",
    "df_test.to_csv(df_test_filename)\n",
    "\n",
    "\n",
    "resultnya = pd.DataFrame([{\n",
    "    \"Model\": model_name,\n",
    "    \"RMSE\": rmse,\n",
    "    \"MAE\": mae,\n",
    "    \"MAPE\": mape,\n",
    "    \"R2\": r2,\n",
    "    \"Model File\": model_file_name,\n",
    "    \"df_train\": df_train_filename,\n",
    "    \"df_test\": df_test_filename,\n",
    "    \"Scaler File\":''\n",
    "}])\n",
    "\n",
    "results_df = pd.concat([results_df, resultnya], ignore_index=True)\n",
    "\n",
    "print(results_df[['Model','RMSE','MAE','MAPE','R2']])"
   ]
  },
  {
   "cell_type": "markdown",
   "id": "5a54f1fa",
   "metadata": {},
   "source": [
    "### Random Forest"
   ]
  },
  {
   "cell_type": "code",
   "execution_count": 739,
   "id": "b0fa3b3e",
   "metadata": {},
   "outputs": [
    {
     "name": "stdout",
     "output_type": "stream",
     "text": [
      "Model saved to ./output/2025-06-11_Wed_1602_43_baseline_model_random_Forest.pkl\n",
      "                              Model          RMSE           MAE       MAPE  \\\n",
      "0                                 -      0.000000      0.000000   0.000000   \n",
      "1  baseline_model_linear_regression  32170.161993  20080.659064  11.820330   \n",
      "2      baseline_model_random_Forest  28636.283593  17416.832671  10.520635   \n",
      "\n",
      "         R2  \n",
      "0  0.000000  \n",
      "1  0.865075  \n",
      "2  0.893090  \n"
     ]
    }
   ],
   "source": [
    "model = RandomForestRegressor(random_state=42)\n",
    "model.fit(X_train, y_train)\n",
    "y_pred = model.predict(X_test)\n",
    "\n",
    "\n",
    "rmse = np.sqrt(mean_squared_error(y_test, y_pred))\n",
    "mae = mean_absolute_error(y_test, y_pred)\n",
    "r2 = r2_score(y_test, y_pred)\n",
    "mape = calculate_mape(y_test,y_pred)\n",
    "\n",
    "sekarang = f'./output/{get_now_string()}'\n",
    "model_name = 'baseline_model_random_Forest'\n",
    "model_file_name = f'{sekarang}_{model_name}.pkl'\n",
    "df_train_filename= f'{sekarang}_{model_name}_df_train.csv'\n",
    "df_test_filename= f'{sekarang}_{model_name}_df_test.csv'\n",
    "\n",
    "save_model(model, model_file_name)\n",
    "df_train.to_csv(df_train_filename)\n",
    "df_test.to_csv(df_test_filename)\n",
    "\n",
    "\n",
    "resultnya = pd.DataFrame([{\n",
    "    \"Model\": model_name,\n",
    "    \"RMSE\": rmse,\n",
    "    \"MAE\": mae,\n",
    "    \"MAPE\": mape,\n",
    "    \"R2\": r2,\n",
    "    \"Model File\": model_file_name,\n",
    "    \"df_train\": df_train_filename,\n",
    "    \"df_test\": df_test_filename,\n",
    "    \"Scaler File\":''\n",
    "}])\n",
    "\n",
    "results_df = pd.concat([results_df, resultnya], ignore_index=True)\n",
    "\n",
    "print(results_df[['Model','RMSE','MAE','MAPE','R2']])"
   ]
  },
  {
   "cell_type": "markdown",
   "id": "28784bd5",
   "metadata": {},
   "source": [
    "### XGBoost"
   ]
  },
  {
   "cell_type": "code",
   "execution_count": 740,
   "id": "0ad9fa81",
   "metadata": {},
   "outputs": [
    {
     "name": "stdout",
     "output_type": "stream",
     "text": [
      "Model saved to ./output/2025-06-11_Wed_1602_44_baseline_model_XGB.pkl\n",
      "                              Model          RMSE           MAE       MAPE  \\\n",
      "0                                 -      0.000000      0.000000   0.000000   \n",
      "1  baseline_model_linear_regression  32170.161993  20080.659064  11.820330   \n",
      "2      baseline_model_random_Forest  28636.283593  17416.832671  10.520635   \n",
      "3                baseline_model_XGB  29502.500001  16806.905982  10.269786   \n",
      "\n",
      "         R2  \n",
      "0  0.000000  \n",
      "1  0.865075  \n",
      "2  0.893090  \n",
      "3  0.886524  \n"
     ]
    }
   ],
   "source": [
    "model = XGBRegressor(random_state=42)\n",
    "model.fit(X_train, y_train)\n",
    "y_pred = model.predict(X_test)\n",
    "\n",
    "\n",
    "rmse = np.sqrt(mean_squared_error(y_test, y_pred))\n",
    "mae = mean_absolute_error(y_test, y_pred)\n",
    "r2 = r2_score(y_test, y_pred)\n",
    "mape = calculate_mape(y_test,y_pred)\n",
    "\n",
    "sekarang = f'./output/{get_now_string()}'\n",
    "model_name = 'baseline_model_XGB'\n",
    "model_file_name = f'{sekarang}_{model_name}.pkl'\n",
    "df_train_filename= f'{sekarang}_{model_name}_df_train.csv'\n",
    "df_test_filename= f'{sekarang}_{model_name}_df_test.csv'\n",
    "\n",
    "save_model(model, model_file_name)\n",
    "df_train.to_csv(df_train_filename)\n",
    "df_test.to_csv(df_test_filename)\n",
    "\n",
    "\n",
    "resultnya = pd.DataFrame([{\n",
    "    \"Model\": model_name,\n",
    "    \"RMSE\": rmse,\n",
    "    \"MAE\": mae,\n",
    "    \"MAPE\": mape,\n",
    "    \"R2\": r2,\n",
    "    \"Model File\": model_file_name,\n",
    "    \"df_train\": df_train_filename,\n",
    "    \"df_test\": df_test_filename,\n",
    "    \"Scaler File\":''\n",
    "}])\n",
    "\n",
    "results_df = pd.concat([results_df, resultnya], ignore_index=True)\n",
    "\n",
    "print(results_df[['Model','RMSE','MAE','MAPE','R2']])"
   ]
  },
  {
   "cell_type": "code",
   "execution_count": 741,
   "id": "21d474cf",
   "metadata": {},
   "outputs": [
    {
     "data": {
      "application/vnd.microsoft.datawrangler.viewer.v0+json": {
       "columns": [
        {
         "name": "index",
         "rawType": "int64",
         "type": "integer"
        },
        {
         "name": "Model",
         "rawType": "object",
         "type": "string"
        },
        {
         "name": "RMSE",
         "rawType": "float64",
         "type": "float"
        },
        {
         "name": "MAE",
         "rawType": "float64",
         "type": "float"
        },
        {
         "name": "MAPE",
         "rawType": "float64",
         "type": "float"
        },
        {
         "name": "R2",
         "rawType": "float64",
         "type": "float"
        },
        {
         "name": "Model File",
         "rawType": "object",
         "type": "string"
        },
        {
         "name": "df_train",
         "rawType": "object",
         "type": "string"
        },
        {
         "name": "df_test",
         "rawType": "object",
         "type": "string"
        },
        {
         "name": "Scaler File",
         "rawType": "object",
         "type": "string"
        }
       ],
       "ref": "366540fb-2a3f-4d1d-99de-cbe80d7ae95e",
       "rows": [
        [
         "0",
         "-",
         "0.0",
         "0.0",
         "0.0",
         "0.0",
         "",
         "",
         "",
         ""
        ],
        [
         "1",
         "baseline_model_linear_regression",
         "32170.16199264107",
         "20080.65906364246",
         "11.820329982934373",
         "0.86507492710505",
         "./output/2025-06-11_Wed_1602_34_baseline_model_linear_regression.pkl",
         "./output/2025-06-11_Wed_1602_34_baseline_model_linear_regression_df_train.csv",
         "./output/2025-06-11_Wed_1602_34_baseline_model_linear_regression_df_test.csv",
         ""
        ],
        [
         "2",
         "baseline_model_random_Forest",
         "28636.283592974698",
         "17416.83267123287",
         "10.520634941837901",
         "0.893089717977197",
         "./output/2025-06-11_Wed_1602_43_baseline_model_random_Forest.pkl",
         "./output/2025-06-11_Wed_1602_43_baseline_model_random_Forest_df_train.csv",
         "./output/2025-06-11_Wed_1602_43_baseline_model_random_Forest_df_test.csv",
         ""
        ],
        [
         "3",
         "baseline_model_XGB",
         "29502.50000135622",
         "16806.90598244863",
         "10.26978639957796",
         "0.8865240561067067",
         "./output/2025-06-11_Wed_1602_44_baseline_model_XGB.pkl",
         "./output/2025-06-11_Wed_1602_44_baseline_model_XGB_df_train.csv",
         "./output/2025-06-11_Wed_1602_44_baseline_model_XGB_df_test.csv",
         ""
        ]
       ],
       "shape": {
        "columns": 9,
        "rows": 4
       }
      },
      "text/html": [
       "<div>\n",
       "<style scoped>\n",
       "    .dataframe tbody tr th:only-of-type {\n",
       "        vertical-align: middle;\n",
       "    }\n",
       "\n",
       "    .dataframe tbody tr th {\n",
       "        vertical-align: top;\n",
       "    }\n",
       "\n",
       "    .dataframe thead th {\n",
       "        text-align: right;\n",
       "    }\n",
       "</style>\n",
       "<table border=\"1\" class=\"dataframe\">\n",
       "  <thead>\n",
       "    <tr style=\"text-align: right;\">\n",
       "      <th></th>\n",
       "      <th>Model</th>\n",
       "      <th>RMSE</th>\n",
       "      <th>MAE</th>\n",
       "      <th>MAPE</th>\n",
       "      <th>R2</th>\n",
       "      <th>Model File</th>\n",
       "      <th>df_train</th>\n",
       "      <th>df_test</th>\n",
       "      <th>Scaler File</th>\n",
       "    </tr>\n",
       "  </thead>\n",
       "  <tbody>\n",
       "    <tr>\n",
       "      <th>0</th>\n",
       "      <td>-</td>\n",
       "      <td>0.000000</td>\n",
       "      <td>0.000000</td>\n",
       "      <td>0.000000</td>\n",
       "      <td>0.000000</td>\n",
       "      <td></td>\n",
       "      <td></td>\n",
       "      <td></td>\n",
       "      <td></td>\n",
       "    </tr>\n",
       "    <tr>\n",
       "      <th>1</th>\n",
       "      <td>baseline_model_linear_regression</td>\n",
       "      <td>32170.161993</td>\n",
       "      <td>20080.659064</td>\n",
       "      <td>11.820330</td>\n",
       "      <td>0.865075</td>\n",
       "      <td>./output/2025-06-11_Wed_1602_34_baseline_model...</td>\n",
       "      <td>./output/2025-06-11_Wed_1602_34_baseline_model...</td>\n",
       "      <td>./output/2025-06-11_Wed_1602_34_baseline_model...</td>\n",
       "      <td></td>\n",
       "    </tr>\n",
       "    <tr>\n",
       "      <th>2</th>\n",
       "      <td>baseline_model_random_Forest</td>\n",
       "      <td>28636.283593</td>\n",
       "      <td>17416.832671</td>\n",
       "      <td>10.520635</td>\n",
       "      <td>0.893090</td>\n",
       "      <td>./output/2025-06-11_Wed_1602_43_baseline_model...</td>\n",
       "      <td>./output/2025-06-11_Wed_1602_43_baseline_model...</td>\n",
       "      <td>./output/2025-06-11_Wed_1602_43_baseline_model...</td>\n",
       "      <td></td>\n",
       "    </tr>\n",
       "    <tr>\n",
       "      <th>3</th>\n",
       "      <td>baseline_model_XGB</td>\n",
       "      <td>29502.500001</td>\n",
       "      <td>16806.905982</td>\n",
       "      <td>10.269786</td>\n",
       "      <td>0.886524</td>\n",
       "      <td>./output/2025-06-11_Wed_1602_44_baseline_model...</td>\n",
       "      <td>./output/2025-06-11_Wed_1602_44_baseline_model...</td>\n",
       "      <td>./output/2025-06-11_Wed_1602_44_baseline_model...</td>\n",
       "      <td></td>\n",
       "    </tr>\n",
       "  </tbody>\n",
       "</table>\n",
       "</div>"
      ],
      "text/plain": [
       "                              Model          RMSE           MAE       MAPE  \\\n",
       "0                                 -      0.000000      0.000000   0.000000   \n",
       "1  baseline_model_linear_regression  32170.161993  20080.659064  11.820330   \n",
       "2      baseline_model_random_Forest  28636.283593  17416.832671  10.520635   \n",
       "3                baseline_model_XGB  29502.500001  16806.905982  10.269786   \n",
       "\n",
       "         R2                                         Model File  \\\n",
       "0  0.000000                                                      \n",
       "1  0.865075  ./output/2025-06-11_Wed_1602_34_baseline_model...   \n",
       "2  0.893090  ./output/2025-06-11_Wed_1602_43_baseline_model...   \n",
       "3  0.886524  ./output/2025-06-11_Wed_1602_44_baseline_model...   \n",
       "\n",
       "                                            df_train  \\\n",
       "0                                                      \n",
       "1  ./output/2025-06-11_Wed_1602_34_baseline_model...   \n",
       "2  ./output/2025-06-11_Wed_1602_43_baseline_model...   \n",
       "3  ./output/2025-06-11_Wed_1602_44_baseline_model...   \n",
       "\n",
       "                                             df_test Scaler File  \n",
       "0                                                                 \n",
       "1  ./output/2025-06-11_Wed_1602_34_baseline_model...              \n",
       "2  ./output/2025-06-11_Wed_1602_43_baseline_model...              \n",
       "3  ./output/2025-06-11_Wed_1602_44_baseline_model...              "
      ]
     },
     "execution_count": 741,
     "metadata": {},
     "output_type": "execute_result"
    }
   ],
   "source": [
    "results_df"
   ]
  },
  {
   "cell_type": "markdown",
   "id": "2b1aade1",
   "metadata": {},
   "source": [
    "## Feature Engineering\n"
   ]
  },
  {
   "cell_type": "code",
   "execution_count": 742,
   "id": "c43e1b3c",
   "metadata": {},
   "outputs": [
    {
     "name": "stdout",
     "output_type": "stream",
     "text": [
      "df_train = (1168, 89)\n",
      "df_test = (292, 89)\n"
     ]
    }
   ],
   "source": [
    "df_train_ori = df_train.copy(deep=True)\n",
    "df_test_ori = df_test.copy(deep=True)\n",
    "\n",
    "print(f'df_train = {df_train.shape}')\n",
    "print(f'df_test = {df_test.shape}')"
   ]
  },
  {
   "cell_type": "code",
   "execution_count": 743,
   "id": "03e0ded0",
   "metadata": {},
   "outputs": [],
   "source": [
    "df_train=df_train_ori.copy(deep=True)\n",
    "df_test=df_test_ori.copy(deep=True)"
   ]
  },
  {
   "cell_type": "code",
   "execution_count": 744,
   "id": "c96536cb",
   "metadata": {},
   "outputs": [
    {
     "data": {
      "text/plain": [
       "Index(['num_id', 'num_lotarea', 'num_overallqual', 'num_overallcond',\n",
       "       'num_yearbuilt', 'num_yearremodadd', 'num_masvnrarea', 'num_bsmtfinsf1',\n",
       "       'num_bsmtfinsf2', 'num_bsmtunfsf', 'num_totalbsmtsf', 'num_1stflrsf',\n",
       "       'num_2ndflrsf', 'num_lowqualfinsf', 'num_grlivarea', 'num_bsmtfullbath',\n",
       "       'num_bsmthalfbath', 'num_fullbath', 'num_halfbath', 'num_bedroomabvgr',\n",
       "       'num_kitchenabvgr', 'num_totrmsabvgrd', 'num_fireplaces',\n",
       "       'num_garageyrblt', 'num_garagecars', 'num_garagearea', 'num_wooddecksf',\n",
       "       'num_openporchsf', 'num_enclosedporch', 'num_3ssnporch',\n",
       "       'num_screenporch', 'num_poolarea', 'num_miscval', 'num_mosold',\n",
       "       'num_yrsold', 'num_lotfrontage', 'txt_street_Grvl', 'txt_street_Pave',\n",
       "       'txt_alley_Grvl', 'txt_alley_NA', 'txt_alley_Pave', 'txt_landslope_Gtl',\n",
       "       'txt_landslope_Mod', 'txt_landslope_Sev', 'txt_centralair_N',\n",
       "       'txt_centralair_Y', 'txt_paveddrive_N', 'txt_paveddrive_P',\n",
       "       'txt_paveddrive_Y', 'num_saleprice', 'txt_mssubclass', 'txt_mszoning',\n",
       "       'txt_lotshape', 'txt_landcontour', 'txt_utilities', 'txt_lotconfig',\n",
       "       'txt_neighborhood', 'txt_condition1', 'txt_condition2', 'txt_bldgtype',\n",
       "       'txt_housestyle', 'txt_roofstyle', 'txt_roofmatl', 'txt_exterior1st',\n",
       "       'txt_exterior2nd', 'txt_masvnrtype', 'txt_exterqual', 'txt_extercond',\n",
       "       'txt_foundation', 'txt_bsmtqual', 'txt_bsmtcond', 'txt_bsmtexposure',\n",
       "       'txt_bsmtfintype1', 'txt_bsmtfintype2', 'txt_heating', 'txt_heatingqc',\n",
       "       'txt_electrical', 'txt_kitchenqual', 'txt_functional',\n",
       "       'txt_fireplacequ', 'txt_garagetype', 'txt_garagefinish',\n",
       "       'txt_garagequal', 'txt_garagecond', 'txt_poolqc', 'txt_fence',\n",
       "       'txt_miscfeature', 'txt_saletype', 'txt_salecondition'],\n",
       "      dtype='object')"
      ]
     },
     "execution_count": 744,
     "metadata": {},
     "output_type": "execute_result"
    }
   ],
   "source": [
    "df_train.columns"
   ]
  },
  {
   "cell_type": "markdown",
   "id": "bcd5d856",
   "metadata": {},
   "source": [
    "karena nanti we will using Linear regression too (plan : Linear Regression, Random Forest, XGBoost)\n",
    "we need to do scaling on the data <br>\n",
    "but scaling is only for the Linear Regression Steps\n",
    "\n"
   ]
  },
  {
   "cell_type": "markdown",
   "id": "21d0edfe",
   "metadata": {},
   "source": [
    "### combined features"
   ]
  },
  {
   "cell_type": "code",
   "execution_count": 745,
   "id": "583e1f34",
   "metadata": {},
   "outputs": [],
   "source": [
    "def add_combined_features(dfnya):\n",
    "\n",
    "    #custom feature ini dibuat as simple as grouping some feature that have similarity on their characteristics on supporting the house price\n",
    "    #you can find the process of the grouping in supportind document \"CategoricalEncodingnyaPakaiApa.xlsx\"\n",
    "    \n",
    "    dfnya['new_qualities'] = \tdfnya['num_overallqual'] + dfnya['txt_exterqual'] + dfnya['txt_bsmtqual'] + dfnya['txt_heatingqc'] + dfnya['num_lowqualfinsf'] + dfnya['num_halfbath'] + dfnya['num_kitchenabvgr'] + dfnya['txt_kitchenqual'] + dfnya['txt_fireplacequ'] + dfnya['txt_garagequal'] + dfnya['txt_poolqc'] + dfnya['txt_fence']\n",
    "    dfnya['new_condition'] = \tdfnya['txt_condition1'] + dfnya['txt_condition2'] + dfnya['num_overallcond'] + dfnya['txt_extercond'] + dfnya['txt_bsmtcond'] + dfnya['txt_heatingqc'] + dfnya['txt_centralair_Y'] + dfnya['num_2ndflrsf'] + dfnya['txt_garagecond'] + dfnya['txt_salecondition']\n",
    "    dfnya['new_square'] = \tdfnya['num_lotarea'] + dfnya['num_masvnrarea'] + dfnya['num_bsmtfinsf1'] + dfnya['num_bsmtfinsf2'] + dfnya['num_bsmtunfsf'] + dfnya['num_totalbsmtsf'] + dfnya['num_1stflrsf'] + dfnya['num_2ndflrsf'] + dfnya['num_lowqualfinsf'] + dfnya['num_grlivarea'] + dfnya['num_garagecars'] + dfnya['num_garagearea'] + dfnya['num_wooddecksf'] + dfnya['num_openporchsf'] + dfnya['num_enclosedporch'] + dfnya['num_3ssnporch'] + dfnya['num_screenporch'] + dfnya['num_poolarea']\n",
    "    dfnya['new_counts'] = \tdfnya['num_totalbsmtsf'] + dfnya['num_bsmtfullbath'] + dfnya['num_bsmthalfbath'] + dfnya['num_fullbath'] + dfnya['num_bedroomabvgr'] + dfnya['num_totrmsabvgrd'] + dfnya['num_fireplaces'] + dfnya['num_garagecars']\n",
    "    dfnya['new_types'] = \tdfnya['txt_mssubclass'] + (dfnya['txt_street_Grvl']*1)+ (dfnya['txt_street_Pave']*2)+(dfnya['txt_alley_NA'] *0) + (dfnya['txt_alley_Grvl'] *1) + (dfnya['txt_alley_Pave'] *2) + dfnya['txt_utilities'] + dfnya['txt_bldgtype'] + dfnya['txt_housestyle'] + dfnya['txt_roofstyle'] + dfnya['txt_masvnrtype'] + dfnya['txt_foundation'] + dfnya['txt_bsmtfintype1'] + dfnya['txt_bsmtfintype2'] + dfnya['txt_heating'] + dfnya['txt_functional'] + dfnya['txt_saletype']\n",
    "    dfnya['new_interiorexterior'] = \tdfnya['num_overallqual'] + dfnya['txt_roofstyle'] + dfnya['txt_roofmatl'] + dfnya['txt_exterior1st'] + dfnya['txt_exterior2nd'] + dfnya['txt_masvnrtype'] + dfnya['txt_bsmtfintype1'] + dfnya['num_bsmtfinsf1'] + dfnya['txt_bsmtfintype2'] + dfnya['num_bsmtfinsf2'] + dfnya['num_bsmtunfsf'] + dfnya['num_lowqualfinsf'] + dfnya['txt_garagefinish']\n",
    "    dfnya['new_neighbour'] = \tdfnya['txt_mssubclass'] + dfnya['txt_mszoning'] + dfnya['num_lotfrontage'] + (dfnya['txt_street_Grvl']*1)+ (dfnya['txt_street_Pave']*2) + (dfnya['txt_alley_NA'] *0) + (dfnya['txt_alley_Grvl'] *1) + (dfnya['txt_alley_Pave'] *2)  + dfnya['txt_landcontour'] + (dfnya['txt_landslope_Gtl'] *1) + (dfnya['txt_landslope_Mod'] *2) + (dfnya['txt_landslope_Sev'] *3)  + dfnya['txt_neighborhood'] + dfnya['txt_bsmtexposure'] + dfnya['txt_garagetype'] + (dfnya['txt_paveddrive_N'] *1) + (dfnya['txt_paveddrive_P'] *2) + (dfnya['txt_paveddrive_Y'] *3)  + dfnya['txt_fence']\n",
    "    dfnya['new_facilities'] = \tdfnya['txt_utilities'] + dfnya['txt_heating'] + dfnya['txt_electrical'] + dfnya['num_fireplaces'] + dfnya['txt_miscfeature'] + dfnya['num_miscval']\n",
    "    dfnya['new_shapes'] = \tdfnya['txt_lotshape'] + dfnya['txt_lotconfig'] + dfnya['txt_housestyle'] + dfnya['txt_bsmtexposure']\n",
    "    dfnya['new_time'] = \t((dfnya['num_yrsold']- ((dfnya['num_yearbuilt'] + dfnya['num_yearremodadd'])/2))+(dfnya['num_yrsold']- dfnya['num_garageyrblt']))/2\n",
    "    return dfnya"
   ]
  },
  {
   "cell_type": "code",
   "execution_count": 746,
   "id": "a6c6fc0f",
   "metadata": {},
   "outputs": [],
   "source": [
    "df_train = add_combined_features(df_train)\n",
    "df_test = add_combined_features(df_test)"
   ]
  },
  {
   "cell_type": "code",
   "execution_count": 747,
   "id": "e3bd6da3",
   "metadata": {},
   "outputs": [],
   "source": [
    "df_train_corr = df_train.corr(numeric_only=True)\n",
    "# show_corrMap(df_train_corr,f'./output/{sekarang}_df_train_corr.jpg')"
   ]
  },
  {
   "cell_type": "markdown",
   "id": "e7efdea5",
   "metadata": {},
   "source": [
    "### drop feature yang correlation lemah <= 0.05"
   ]
  },
  {
   "cell_type": "code",
   "execution_count": 748,
   "id": "ea57fb59",
   "metadata": {},
   "outputs": [
    {
     "name": "stdout",
     "output_type": "stream",
     "text": [
      "sebelum dipilih=\n",
      "num_id                 -0.019643\n",
      "num_lotarea             0.266204\n",
      "num_overallqual         0.785555\n",
      "num_overallcond        -0.074391\n",
      "num_yearbuilt           0.516501\n",
      "                          ...   \n",
      "new_interiorexterior    0.648828\n",
      "new_neighbour           0.729466\n",
      "new_facilities          0.248124\n",
      "new_shapes              0.494898\n",
      "new_time               -0.297257\n",
      "Name: num_saleprice, Length: 99, dtype: float64\n"
     ]
    }
   ],
   "source": [
    "selection_threshold = 0.05 # correlation threshold\n",
    "selected_features_prep=df_train_corr['num_saleprice']\n",
    "print(f'sebelum dipilih=\\n{selected_features_prep}')"
   ]
  },
  {
   "cell_type": "code",
   "execution_count": 749,
   "id": "b920e251",
   "metadata": {},
   "outputs": [
    {
     "name": "stdout",
     "output_type": "stream",
     "text": [
      "\n",
      "selected_featres=\n",
      "num_lotarea             0.266204\n",
      "num_overallqual         0.785555\n",
      "num_overallcond        -0.074391\n",
      "num_yearbuilt           0.516501\n",
      "num_yearremodadd        0.508593\n",
      "                          ...   \n",
      "new_interiorexterior    0.648828\n",
      "new_neighbour           0.729466\n",
      "new_facilities          0.248124\n",
      "new_shapes              0.494898\n",
      "new_time               -0.297257\n",
      "Name: num_saleprice, Length: 87, dtype: float64\n"
     ]
    }
   ],
   "source": [
    "selected_features = selected_features_prep[abs(selected_features_prep) > selection_threshold]\n",
    "print('')\n",
    "print(f'selected_featres=\\n{selected_features}')"
   ]
  },
  {
   "cell_type": "code",
   "execution_count": 750,
   "id": "0bbc278b",
   "metadata": {},
   "outputs": [
    {
     "name": "stdout",
     "output_type": "stream",
     "text": [
      "['num_lotarea', 'num_overallqual', 'num_overallcond', 'num_yearbuilt', 'num_yearremodadd', 'num_masvnrarea', 'num_bsmtfinsf1', 'num_bsmtunfsf', 'num_totalbsmtsf', 'num_1stflrsf', 'num_2ndflrsf', 'num_grlivarea', 'num_bsmtfullbath', 'num_fullbath', 'num_halfbath', 'num_bedroomabvgr', 'num_kitchenabvgr', 'num_totrmsabvgrd', 'num_fireplaces', 'num_garageyrblt', 'num_garagecars', 'num_garagearea', 'num_wooddecksf', 'num_openporchsf', 'num_enclosedporch', 'num_3ssnporch', 'num_screenporch', 'num_poolarea', 'num_lotfrontage', 'txt_alley_Grvl', 'txt_alley_NA', 'txt_landslope_Gtl', 'txt_landslope_Sev', 'txt_centralair_N', 'txt_centralair_Y', 'txt_paveddrive_N', 'txt_paveddrive_P', 'txt_paveddrive_Y', 'num_saleprice', 'txt_mssubclass', 'txt_mszoning', 'txt_lotshape', 'txt_landcontour', 'txt_lotconfig', 'txt_neighborhood', 'txt_condition1', 'txt_condition2', 'txt_bldgtype', 'txt_housestyle', 'txt_roofstyle', 'txt_roofmatl', 'txt_exterior1st', 'txt_exterior2nd', 'txt_masvnrtype', 'txt_exterqual', 'txt_extercond', 'txt_foundation', 'txt_bsmtqual', 'txt_bsmtcond', 'txt_bsmtexposure', 'txt_bsmtfintype1', 'txt_bsmtfintype2', 'txt_heating', 'txt_heatingqc', 'txt_electrical', 'txt_kitchenqual', 'txt_functional', 'txt_fireplacequ', 'txt_garagetype', 'txt_garagefinish', 'txt_garagequal', 'txt_garagecond', 'txt_poolqc', 'txt_fence', 'txt_miscfeature', 'txt_saletype', 'txt_salecondition', 'new_qualities', 'new_condition', 'new_square', 'new_counts', 'new_types', 'new_interiorexterior', 'new_neighbour', 'new_facilities', 'new_shapes', 'new_time']\n"
     ]
    }
   ],
   "source": [
    "selected_feature_names = selected_features.index.to_list()\n",
    "print(selected_feature_names)\n",
    "df_train=df_train[selected_feature_names]"
   ]
  },
  {
   "cell_type": "markdown",
   "id": "5ab4593e",
   "metadata": {},
   "source": [
    "### remove features with high correlation betwen features (>0.8)"
   ]
  },
  {
   "cell_type": "code",
   "execution_count": 751,
   "id": "36a6b776",
   "metadata": {},
   "outputs": [
    {
     "name": "stdout",
     "output_type": "stream",
     "text": [
      "(1168, 87)\n",
      "will remove txt_centralair_Y\n",
      "will remove num_totalbsmtsf\n",
      "will remove num_garageyrblt\n",
      "will remove num_lotarea\n",
      "will remove txt_electrical\n",
      "will remove txt_saletype\n",
      "will remove txt_exterior2nd\n",
      "will remove txt_garagecond\n",
      "will remove txt_garagequal\n",
      "will remove num_garagearea\n",
      "will remove txt_exterqual\n",
      "will remove txt_paveddrive_N\n",
      "will remove num_fireplaces\n",
      "will remove new_interiorexterior\n",
      "will remove txt_kitchenqual\n",
      "will remove num_1stflrsf\n",
      "will remove num_totrmsabvgrd\n",
      "will remove txt_bsmtqual\n",
      "will remove txt_neighborhood\n",
      "will remove num_overallqual\n"
     ]
    }
   ],
   "source": [
    "print(df_train.shape)\n",
    "target_column = 'num_saleprice' \n",
    "df_train, removed_features = remove_highly_correlated_features(df_train, target_column, threshold=0.8)"
   ]
  },
  {
   "cell_type": "markdown",
   "id": "ebc33e90",
   "metadata": {},
   "source": [
    "### remove features with high VIF Score > 5"
   ]
  },
  {
   "cell_type": "markdown",
   "id": "44745f22",
   "metadata": {},
   "source": [
    "-- I disabled automatic VIF since it making model worse, it removing some important features"
   ]
  },
  {
   "cell_type": "code",
   "execution_count": 752,
   "id": "e0bc1e04",
   "metadata": {},
   "outputs": [],
   "source": [
    "# df_train, removed_features, VIF_result = calculate_vif_v2(df_train,'num_saleprice', 7.5)\n",
    "# print(removed_features)\n",
    "# print(VIF_result)"
   ]
  },
  {
   "cell_type": "code",
   "execution_count": 753,
   "id": "3bd7c065",
   "metadata": {},
   "outputs": [],
   "source": [
    "# print(removed_features)"
   ]
  },
  {
   "cell_type": "code",
   "execution_count": 754,
   "id": "925d0921",
   "metadata": {},
   "outputs": [],
   "source": [
    "# print(VIF_result)"
   ]
  },
  {
   "cell_type": "code",
   "execution_count": 755,
   "id": "2791b3da",
   "metadata": {},
   "outputs": [
    {
     "data": {
      "text/plain": [
       "(1168, 67)"
      ]
     },
     "execution_count": 755,
     "metadata": {},
     "output_type": "execute_result"
    }
   ],
   "source": [
    "df_train.shape"
   ]
  },
  {
   "cell_type": "code",
   "execution_count": 756,
   "id": "fa9050df",
   "metadata": {},
   "outputs": [
    {
     "data": {
      "text/plain": [
       "Index(['num_overallcond', 'num_yearbuilt', 'num_yearremodadd',\n",
       "       'num_masvnrarea', 'num_bsmtfinsf1', 'num_bsmtunfsf', 'num_2ndflrsf',\n",
       "       'num_grlivarea', 'num_bsmtfullbath', 'num_fullbath', 'num_halfbath',\n",
       "       'num_bedroomabvgr', 'num_kitchenabvgr', 'num_garagecars',\n",
       "       'num_wooddecksf', 'num_openporchsf', 'num_enclosedporch',\n",
       "       'num_3ssnporch', 'num_screenporch', 'num_poolarea', 'num_lotfrontage',\n",
       "       'txt_alley_Grvl', 'txt_alley_NA', 'txt_landslope_Gtl',\n",
       "       'txt_landslope_Sev', 'txt_centralair_N', 'txt_paveddrive_P',\n",
       "       'txt_paveddrive_Y', 'num_saleprice', 'txt_mssubclass', 'txt_mszoning',\n",
       "       'txt_lotshape', 'txt_landcontour', 'txt_lotconfig', 'txt_condition1',\n",
       "       'txt_condition2', 'txt_bldgtype', 'txt_housestyle', 'txt_roofstyle',\n",
       "       'txt_roofmatl', 'txt_exterior1st', 'txt_masvnrtype', 'txt_extercond',\n",
       "       'txt_foundation', 'txt_bsmtcond', 'txt_bsmtexposure',\n",
       "       'txt_bsmtfintype1', 'txt_bsmtfintype2', 'txt_heating', 'txt_heatingqc',\n",
       "       'txt_functional', 'txt_fireplacequ', 'txt_garagetype',\n",
       "       'txt_garagefinish', 'txt_poolqc', 'txt_fence', 'txt_miscfeature',\n",
       "       'txt_salecondition', 'new_qualities', 'new_condition', 'new_square',\n",
       "       'new_counts', 'new_types', 'new_neighbour', 'new_facilities',\n",
       "       'new_shapes', 'new_time'],\n",
       "      dtype='object')"
      ]
     },
     "execution_count": 756,
     "metadata": {},
     "output_type": "execute_result"
    }
   ],
   "source": [
    "df_train.columns"
   ]
  },
  {
   "cell_type": "code",
   "execution_count": 757,
   "id": "cd43e2a1",
   "metadata": {},
   "outputs": [
    {
     "name": "stdout",
     "output_type": "stream",
     "text": [
      "df_train = (1168, 67)\n",
      "df_test = (292, 67)\n"
     ]
    }
   ],
   "source": [
    "df_train.columns\n",
    "df_test=df_test[df_train.columns]\n",
    "\n",
    "print(f'df_train = {df_train.shape}')\n",
    "print(f'df_test = {df_test.shape}')\n",
    "\n",
    "X_train = df_train.drop(columns=['num_saleprice'])\n",
    "y_train = df_train['num_saleprice']\n",
    "X_test = df_test.drop(columns=['num_saleprice'])\n",
    "y_test = df_test['num_saleprice']"
   ]
  },
  {
   "cell_type": "markdown",
   "id": "8f0d6fe4",
   "metadata": {},
   "source": [
    "## Modelling without Tuning"
   ]
  },
  {
   "cell_type": "markdown",
   "id": "98f49edd",
   "metadata": {},
   "source": [
    "### LinearRegression"
   ]
  },
  {
   "cell_type": "markdown",
   "id": "f2abb37c",
   "metadata": {},
   "source": [
    "#### scaling"
   ]
  },
  {
   "cell_type": "code",
   "execution_count": 758,
   "id": "97b836c7",
   "metadata": {},
   "outputs": [
    {
     "name": "stdout",
     "output_type": "stream",
     "text": [
      "Model saved to ./output/2025-06-11_Wed_1602_46_scaler.pkl\n"
     ]
    }
   ],
   "source": [
    "scaler = StandardScaler()\n",
    "X_train_scaled = scaler.fit_transform(X_train) \n",
    "X_test_scaled = scaler.transform(X_test)\n",
    "\n",
    "X_train_scaled_df = pd.DataFrame(X_train_scaled, columns=X_train.columns)  # Add column names\n",
    "X_test_scaled_df = pd.DataFrame(X_test_scaled, columns=X_test.columns)  # Add column names\n",
    "\n",
    "df_train_scaled = pd.concat([X_train_scaled_df, y_train.reset_index(drop=True)], axis=1)\n",
    "df_test_scaled = pd.concat([X_test_scaled_df, y_test.reset_index(drop=True)], axis=1)\n",
    "\n",
    "sekarang = f'./output/{get_now_string()}'\n",
    "scaler_name = 'scaler'\n",
    "\n",
    "scaler_file_name = f'{sekarang}_{scaler_name}.pkl'\n",
    "df_train_filename= f'{sekarang}_df_train_scaled.csv'\n",
    "df_test_filename= f'{sekarang}_df_test_scaled.csv'\n",
    "\n",
    "save_model(scaler, scaler_file_name)\n",
    "df_train_scaled.to_csv(df_train_filename)\n",
    "df_test_scaled.to_csv(df_test_filename)\n",
    "\n",
    "\n",
    "X_train_scaled = df_train_scaled.drop(columns=['num_saleprice'])\n",
    "y_train_scaled = df_train_scaled['num_saleprice']\n",
    "X_test_scaled = df_test_scaled.drop(columns=['num_saleprice'])\n",
    "y_test_scaled = df_test_scaled['num_saleprice']"
   ]
  },
  {
   "cell_type": "code",
   "execution_count": 759,
   "id": "57b1367d",
   "metadata": {},
   "outputs": [],
   "source": [
    "#### Linear Regression modeling"
   ]
  },
  {
   "cell_type": "code",
   "execution_count": 760,
   "id": "4a3831eb",
   "metadata": {},
   "outputs": [
    {
     "name": "stdout",
     "output_type": "stream",
     "text": [
      "Model saved to ./output/2025-06-11_Wed_1602_46_feauterEng_model_linear_regression.pkl\n",
      "                                Model          RMSE           MAE       MAPE  \\\n",
      "0                                   -      0.000000      0.000000   0.000000   \n",
      "1    baseline_model_linear_regression  32170.161993  20080.659064  11.820330   \n",
      "2        baseline_model_random_Forest  28636.283593  17416.832671  10.520635   \n",
      "3                  baseline_model_XGB  29502.500001  16806.905982  10.269786   \n",
      "4  feauterEng_model_linear_regression  32811.140792  21068.336528  12.847550   \n",
      "\n",
      "         R2  \n",
      "0  0.000000  \n",
      "1  0.865075  \n",
      "2  0.893090  \n",
      "3  0.886524  \n",
      "4  0.859645  \n"
     ]
    }
   ],
   "source": [
    "model = LinearRegression()\n",
    "model.fit(X_train_scaled, y_train_scaled)\n",
    "y_pred = model.predict(X_test_scaled)\n",
    "\n",
    "\n",
    "rmse = np.sqrt(mean_squared_error(y_test_scaled, y_pred))\n",
    "mae = mean_absolute_error(y_test_scaled, y_pred)\n",
    "r2 = r2_score(y_test_scaled, y_pred)\n",
    "mape = calculate_mape(y_test_scaled,y_pred)\n",
    "\n",
    "sekarang = f'./output/{get_now_string()}'\n",
    "model_name = 'feauterEng_model_linear_regression'\n",
    "model_file_name = f'{sekarang}_{model_name}.pkl'\n",
    "df_train_filename= f'{sekarang}_{model_name}_df_train.csv'\n",
    "df_test_filename= f'{sekarang}_{model_name}_df_test.csv'\n",
    "\n",
    "save_model(model, model_file_name)\n",
    "df_train.to_csv(df_train_filename)\n",
    "df_test.to_csv(df_test_filename)\n",
    "\n",
    "\n",
    "resultnya = pd.DataFrame([{\n",
    "    \"Model\": model_name,\n",
    "    \"RMSE\": rmse,\n",
    "    \"MAE\": mae,\n",
    "    \"MAPE\": mape,\n",
    "    \"R2\": r2,\n",
    "    \"Model File\": model_file_name,\n",
    "    \"df_train\": df_train_filename,\n",
    "    \"df_test\": df_test_filename,\n",
    "    \"Scaler File\":''\n",
    "}])\n",
    "\n",
    "results_df = pd.concat([results_df, resultnya], ignore_index=True)\n",
    "\n",
    "print(results_df[['Model','RMSE','MAE','MAPE','R2']])"
   ]
  },
  {
   "cell_type": "markdown",
   "id": "cebad957",
   "metadata": {},
   "source": [
    "### RandomForestRegressor"
   ]
  },
  {
   "cell_type": "code",
   "execution_count": 761,
   "id": "41c52474",
   "metadata": {},
   "outputs": [
    {
     "name": "stdout",
     "output_type": "stream",
     "text": [
      "Model saved to ./output/2025-06-11_Wed_1602_53_feauterEng_model_random_Forest.pkl\n",
      "                                Model          RMSE           MAE       MAPE  \\\n",
      "0                                   -      0.000000      0.000000   0.000000   \n",
      "1    baseline_model_linear_regression  32170.161993  20080.659064  11.820330   \n",
      "2        baseline_model_random_Forest  28636.283593  17416.832671  10.520635   \n",
      "3                  baseline_model_XGB  29502.500001  16806.905982  10.269786   \n",
      "4  feauterEng_model_linear_regression  32811.140792  21068.336528  12.847550   \n",
      "5      feauterEng_model_random_Forest  28428.911961  17292.903733  10.992030   \n",
      "\n",
      "         R2  \n",
      "0  0.000000  \n",
      "1  0.865075  \n",
      "2  0.893090  \n",
      "3  0.886524  \n",
      "4  0.859645  \n",
      "5  0.894633  \n"
     ]
    }
   ],
   "source": [
    "model = RandomForestRegressor(random_state=42)\n",
    "model.fit(X_train, y_train)\n",
    "y_pred = model.predict(X_test)\n",
    "\n",
    "\n",
    "rmse = np.sqrt(mean_squared_error(y_test, y_pred))\n",
    "mae = mean_absolute_error(y_test, y_pred)\n",
    "r2 = r2_score(y_test, y_pred)\n",
    "mape = calculate_mape(y_test,y_pred)\n",
    "\n",
    "sekarang = f'./output/{get_now_string()}'\n",
    "model_name = 'feauterEng_model_random_Forest'\n",
    "model_file_name = f'{sekarang}_{model_name}.pkl'\n",
    "df_train_filename= f'{sekarang}_{model_name}_df_train.csv'\n",
    "df_test_filename= f'{sekarang}_{model_name}_df_test.csv'\n",
    "\n",
    "save_model(model, model_file_name)\n",
    "df_train.to_csv(df_train_filename)\n",
    "df_test.to_csv(df_test_filename)\n",
    "\n",
    "\n",
    "resultnya = pd.DataFrame([{\n",
    "    \"Model\": model_name,\n",
    "    \"RMSE\": rmse,\n",
    "    \"MAE\": mae,\n",
    "    \"MAPE\": mape,\n",
    "    \"R2\": r2,\n",
    "    \"Model File\": model_file_name,\n",
    "    \"df_train\": df_train_filename,\n",
    "    \"df_test\": df_test_filename,\n",
    "    \"Scaler File\":''\n",
    "}])\n",
    "\n",
    "results_df = pd.concat([results_df, resultnya], ignore_index=True)\n",
    "\n",
    "print(results_df[['Model','RMSE','MAE','MAPE','R2']])"
   ]
  },
  {
   "cell_type": "markdown",
   "id": "3d7ee8ce",
   "metadata": {},
   "source": [
    "### XGBRegressor"
   ]
  },
  {
   "cell_type": "code",
   "execution_count": 762,
   "id": "3f237ed3",
   "metadata": {},
   "outputs": [
    {
     "name": "stdout",
     "output_type": "stream",
     "text": [
      "Model saved to ./output/2025-06-11_Wed_1602_54_feauterEng_model_XGB.pkl\n",
      "                                Model          RMSE           MAE       MAPE  \\\n",
      "0                                   -      0.000000      0.000000   0.000000   \n",
      "1    baseline_model_linear_regression  32170.161993  20080.659064  11.820330   \n",
      "2        baseline_model_random_Forest  28636.283593  17416.832671  10.520635   \n",
      "3                  baseline_model_XGB  29502.500001  16806.905982  10.269786   \n",
      "4  feauterEng_model_linear_regression  32811.140792  21068.336528  12.847550   \n",
      "5      feauterEng_model_random_Forest  28428.911961  17292.903733  10.992030   \n",
      "6                feauterEng_model_XGB  35132.400028  19010.372324  11.127679   \n",
      "\n",
      "         R2  \n",
      "0  0.000000  \n",
      "1  0.865075  \n",
      "2  0.893090  \n",
      "3  0.886524  \n",
      "4  0.859645  \n",
      "5  0.894633  \n",
      "6  0.839083  \n"
     ]
    }
   ],
   "source": [
    "model = XGBRegressor(random_state=42)\n",
    "model.fit(X_train, y_train)\n",
    "y_pred = model.predict(X_test)\n",
    "\n",
    "\n",
    "rmse = np.sqrt(mean_squared_error(y_test, y_pred))\n",
    "mae = mean_absolute_error(y_test, y_pred)\n",
    "r2 = r2_score(y_test, y_pred)\n",
    "mape = calculate_mape(y_test,y_pred)\n",
    "\n",
    "sekarang = f'./output/{get_now_string()}'\n",
    "model_name = 'feauterEng_model_XGB'\n",
    "model_file_name = f'{sekarang}_{model_name}.pkl'\n",
    "df_train_filename= f'{sekarang}_{model_name}_df_train.csv'\n",
    "df_test_filename= f'{sekarang}_{model_name}_df_test.csv'\n",
    "\n",
    "save_model(model, model_file_name)\n",
    "df_train.to_csv(df_train_filename)\n",
    "df_test.to_csv(df_test_filename)\n",
    "\n",
    "\n",
    "resultnya = pd.DataFrame([{\n",
    "    \"Model\": model_name,\n",
    "    \"RMSE\": rmse,\n",
    "    \"MAE\": mae,\n",
    "    \"MAPE\": mape,\n",
    "    \"R2\": r2,\n",
    "    \"Model File\": model_file_name,\n",
    "    \"df_train\": df_train_filename,\n",
    "    \"df_test\": df_test_filename,\n",
    "    \"Scaler File\":''\n",
    "}])\n",
    "\n",
    "results_df = pd.concat([results_df, resultnya], ignore_index=True)\n",
    "\n",
    "print(results_df[['Model','RMSE','MAE','MAPE','R2']])"
   ]
  },
  {
   "cell_type": "code",
   "execution_count": 763,
   "id": "ad4312ea",
   "metadata": {},
   "outputs": [
    {
     "data": {
      "application/vnd.microsoft.datawrangler.viewer.v0+json": {
       "columns": [
        {
         "name": "index",
         "rawType": "int64",
         "type": "integer"
        },
        {
         "name": "Model",
         "rawType": "object",
         "type": "string"
        },
        {
         "name": "RMSE",
         "rawType": "float64",
         "type": "float"
        },
        {
         "name": "MAE",
         "rawType": "float64",
         "type": "float"
        },
        {
         "name": "MAPE",
         "rawType": "float64",
         "type": "float"
        },
        {
         "name": "R2",
         "rawType": "float64",
         "type": "float"
        },
        {
         "name": "Model File",
         "rawType": "object",
         "type": "string"
        },
        {
         "name": "df_train",
         "rawType": "object",
         "type": "string"
        },
        {
         "name": "df_test",
         "rawType": "object",
         "type": "string"
        },
        {
         "name": "Scaler File",
         "rawType": "object",
         "type": "string"
        }
       ],
       "ref": "4717252c-0bb2-470e-94c7-7c6907debfca",
       "rows": [
        [
         "0",
         "-",
         "0.0",
         "0.0",
         "0.0",
         "0.0",
         "",
         "",
         "",
         ""
        ],
        [
         "1",
         "baseline_model_linear_regression",
         "32170.16199264107",
         "20080.65906364246",
         "11.820329982934373",
         "0.86507492710505",
         "./output/2025-06-11_Wed_1602_34_baseline_model_linear_regression.pkl",
         "./output/2025-06-11_Wed_1602_34_baseline_model_linear_regression_df_train.csv",
         "./output/2025-06-11_Wed_1602_34_baseline_model_linear_regression_df_test.csv",
         ""
        ],
        [
         "2",
         "baseline_model_random_Forest",
         "28636.283592974698",
         "17416.83267123287",
         "10.520634941837901",
         "0.893089717977197",
         "./output/2025-06-11_Wed_1602_43_baseline_model_random_Forest.pkl",
         "./output/2025-06-11_Wed_1602_43_baseline_model_random_Forest_df_train.csv",
         "./output/2025-06-11_Wed_1602_43_baseline_model_random_Forest_df_test.csv",
         ""
        ],
        [
         "3",
         "baseline_model_XGB",
         "29502.50000135622",
         "16806.90598244863",
         "10.26978639957796",
         "0.8865240561067067",
         "./output/2025-06-11_Wed_1602_44_baseline_model_XGB.pkl",
         "./output/2025-06-11_Wed_1602_44_baseline_model_XGB_df_train.csv",
         "./output/2025-06-11_Wed_1602_44_baseline_model_XGB_df_test.csv",
         ""
        ],
        [
         "4",
         "feauterEng_model_linear_regression",
         "32811.140791704776",
         "21068.336528171305",
         "12.847550251115214",
         "0.8596446968520945",
         "./output/2025-06-11_Wed_1602_46_feauterEng_model_linear_regression.pkl",
         "./output/2025-06-11_Wed_1602_46_feauterEng_model_linear_regression_df_train.csv",
         "./output/2025-06-11_Wed_1602_46_feauterEng_model_linear_regression_df_test.csv",
         ""
        ],
        [
         "5",
         "feauterEng_model_random_Forest",
         "28428.91196131549",
         "17292.90373287671",
         "10.992029606489169",
         "0.8946325079959523",
         "./output/2025-06-11_Wed_1602_53_feauterEng_model_random_Forest.pkl",
         "./output/2025-06-11_Wed_1602_53_feauterEng_model_random_Forest_df_train.csv",
         "./output/2025-06-11_Wed_1602_53_feauterEng_model_random_Forest_df_test.csv",
         ""
        ],
        [
         "6",
         "feauterEng_model_XGB",
         "35132.40002770671",
         "19010.372324486303",
         "11.127679146282079",
         "0.8390830457053735",
         "./output/2025-06-11_Wed_1602_54_feauterEng_model_XGB.pkl",
         "./output/2025-06-11_Wed_1602_54_feauterEng_model_XGB_df_train.csv",
         "./output/2025-06-11_Wed_1602_54_feauterEng_model_XGB_df_test.csv",
         ""
        ]
       ],
       "shape": {
        "columns": 9,
        "rows": 7
       }
      },
      "text/html": [
       "<div>\n",
       "<style scoped>\n",
       "    .dataframe tbody tr th:only-of-type {\n",
       "        vertical-align: middle;\n",
       "    }\n",
       "\n",
       "    .dataframe tbody tr th {\n",
       "        vertical-align: top;\n",
       "    }\n",
       "\n",
       "    .dataframe thead th {\n",
       "        text-align: right;\n",
       "    }\n",
       "</style>\n",
       "<table border=\"1\" class=\"dataframe\">\n",
       "  <thead>\n",
       "    <tr style=\"text-align: right;\">\n",
       "      <th></th>\n",
       "      <th>Model</th>\n",
       "      <th>RMSE</th>\n",
       "      <th>MAE</th>\n",
       "      <th>MAPE</th>\n",
       "      <th>R2</th>\n",
       "      <th>Model File</th>\n",
       "      <th>df_train</th>\n",
       "      <th>df_test</th>\n",
       "      <th>Scaler File</th>\n",
       "    </tr>\n",
       "  </thead>\n",
       "  <tbody>\n",
       "    <tr>\n",
       "      <th>0</th>\n",
       "      <td>-</td>\n",
       "      <td>0.000000</td>\n",
       "      <td>0.000000</td>\n",
       "      <td>0.000000</td>\n",
       "      <td>0.000000</td>\n",
       "      <td></td>\n",
       "      <td></td>\n",
       "      <td></td>\n",
       "      <td></td>\n",
       "    </tr>\n",
       "    <tr>\n",
       "      <th>1</th>\n",
       "      <td>baseline_model_linear_regression</td>\n",
       "      <td>32170.161993</td>\n",
       "      <td>20080.659064</td>\n",
       "      <td>11.820330</td>\n",
       "      <td>0.865075</td>\n",
       "      <td>./output/2025-06-11_Wed_1602_34_baseline_model...</td>\n",
       "      <td>./output/2025-06-11_Wed_1602_34_baseline_model...</td>\n",
       "      <td>./output/2025-06-11_Wed_1602_34_baseline_model...</td>\n",
       "      <td></td>\n",
       "    </tr>\n",
       "    <tr>\n",
       "      <th>2</th>\n",
       "      <td>baseline_model_random_Forest</td>\n",
       "      <td>28636.283593</td>\n",
       "      <td>17416.832671</td>\n",
       "      <td>10.520635</td>\n",
       "      <td>0.893090</td>\n",
       "      <td>./output/2025-06-11_Wed_1602_43_baseline_model...</td>\n",
       "      <td>./output/2025-06-11_Wed_1602_43_baseline_model...</td>\n",
       "      <td>./output/2025-06-11_Wed_1602_43_baseline_model...</td>\n",
       "      <td></td>\n",
       "    </tr>\n",
       "    <tr>\n",
       "      <th>3</th>\n",
       "      <td>baseline_model_XGB</td>\n",
       "      <td>29502.500001</td>\n",
       "      <td>16806.905982</td>\n",
       "      <td>10.269786</td>\n",
       "      <td>0.886524</td>\n",
       "      <td>./output/2025-06-11_Wed_1602_44_baseline_model...</td>\n",
       "      <td>./output/2025-06-11_Wed_1602_44_baseline_model...</td>\n",
       "      <td>./output/2025-06-11_Wed_1602_44_baseline_model...</td>\n",
       "      <td></td>\n",
       "    </tr>\n",
       "    <tr>\n",
       "      <th>4</th>\n",
       "      <td>feauterEng_model_linear_regression</td>\n",
       "      <td>32811.140792</td>\n",
       "      <td>21068.336528</td>\n",
       "      <td>12.847550</td>\n",
       "      <td>0.859645</td>\n",
       "      <td>./output/2025-06-11_Wed_1602_46_feauterEng_mod...</td>\n",
       "      <td>./output/2025-06-11_Wed_1602_46_feauterEng_mod...</td>\n",
       "      <td>./output/2025-06-11_Wed_1602_46_feauterEng_mod...</td>\n",
       "      <td></td>\n",
       "    </tr>\n",
       "    <tr>\n",
       "      <th>5</th>\n",
       "      <td>feauterEng_model_random_Forest</td>\n",
       "      <td>28428.911961</td>\n",
       "      <td>17292.903733</td>\n",
       "      <td>10.992030</td>\n",
       "      <td>0.894633</td>\n",
       "      <td>./output/2025-06-11_Wed_1602_53_feauterEng_mod...</td>\n",
       "      <td>./output/2025-06-11_Wed_1602_53_feauterEng_mod...</td>\n",
       "      <td>./output/2025-06-11_Wed_1602_53_feauterEng_mod...</td>\n",
       "      <td></td>\n",
       "    </tr>\n",
       "    <tr>\n",
       "      <th>6</th>\n",
       "      <td>feauterEng_model_XGB</td>\n",
       "      <td>35132.400028</td>\n",
       "      <td>19010.372324</td>\n",
       "      <td>11.127679</td>\n",
       "      <td>0.839083</td>\n",
       "      <td>./output/2025-06-11_Wed_1602_54_feauterEng_mod...</td>\n",
       "      <td>./output/2025-06-11_Wed_1602_54_feauterEng_mod...</td>\n",
       "      <td>./output/2025-06-11_Wed_1602_54_feauterEng_mod...</td>\n",
       "      <td></td>\n",
       "    </tr>\n",
       "  </tbody>\n",
       "</table>\n",
       "</div>"
      ],
      "text/plain": [
       "                                Model          RMSE           MAE       MAPE  \\\n",
       "0                                   -      0.000000      0.000000   0.000000   \n",
       "1    baseline_model_linear_regression  32170.161993  20080.659064  11.820330   \n",
       "2        baseline_model_random_Forest  28636.283593  17416.832671  10.520635   \n",
       "3                  baseline_model_XGB  29502.500001  16806.905982  10.269786   \n",
       "4  feauterEng_model_linear_regression  32811.140792  21068.336528  12.847550   \n",
       "5      feauterEng_model_random_Forest  28428.911961  17292.903733  10.992030   \n",
       "6                feauterEng_model_XGB  35132.400028  19010.372324  11.127679   \n",
       "\n",
       "         R2                                         Model File  \\\n",
       "0  0.000000                                                      \n",
       "1  0.865075  ./output/2025-06-11_Wed_1602_34_baseline_model...   \n",
       "2  0.893090  ./output/2025-06-11_Wed_1602_43_baseline_model...   \n",
       "3  0.886524  ./output/2025-06-11_Wed_1602_44_baseline_model...   \n",
       "4  0.859645  ./output/2025-06-11_Wed_1602_46_feauterEng_mod...   \n",
       "5  0.894633  ./output/2025-06-11_Wed_1602_53_feauterEng_mod...   \n",
       "6  0.839083  ./output/2025-06-11_Wed_1602_54_feauterEng_mod...   \n",
       "\n",
       "                                            df_train  \\\n",
       "0                                                      \n",
       "1  ./output/2025-06-11_Wed_1602_34_baseline_model...   \n",
       "2  ./output/2025-06-11_Wed_1602_43_baseline_model...   \n",
       "3  ./output/2025-06-11_Wed_1602_44_baseline_model...   \n",
       "4  ./output/2025-06-11_Wed_1602_46_feauterEng_mod...   \n",
       "5  ./output/2025-06-11_Wed_1602_53_feauterEng_mod...   \n",
       "6  ./output/2025-06-11_Wed_1602_54_feauterEng_mod...   \n",
       "\n",
       "                                             df_test Scaler File  \n",
       "0                                                                 \n",
       "1  ./output/2025-06-11_Wed_1602_34_baseline_model...              \n",
       "2  ./output/2025-06-11_Wed_1602_43_baseline_model...              \n",
       "3  ./output/2025-06-11_Wed_1602_44_baseline_model...              \n",
       "4  ./output/2025-06-11_Wed_1602_46_feauterEng_mod...              \n",
       "5  ./output/2025-06-11_Wed_1602_53_feauterEng_mod...              \n",
       "6  ./output/2025-06-11_Wed_1602_54_feauterEng_mod...              "
      ]
     },
     "execution_count": 763,
     "metadata": {},
     "output_type": "execute_result"
    }
   ],
   "source": [
    "results_df"
   ]
  },
  {
   "cell_type": "markdown",
   "id": "4b88e1b8",
   "metadata": {},
   "source": [
    "## Tuning"
   ]
  },
  {
   "cell_type": "markdown",
   "id": "9241b30e",
   "metadata": {},
   "source": [
    "### Tuning RandomSearch Random Forrest"
   ]
  },
  {
   "cell_type": "code",
   "execution_count": 764,
   "metadata": {},
   "outputs": [
    {
     "name": "stdout",
     "output_type": "stream",
     "text": [
      "Fitting 5 folds for each of 100 candidates, totalling 500 fits\n",
      "Model saved to ./output/2025-06-11_Wed_1633_47_tuned_RndSrch_model_RF.pkl\n",
      "                                Model          RMSE           MAE       MAPE  \\\n",
      "0                                   -      0.000000      0.000000   0.000000   \n",
      "1    baseline_model_linear_regression  32170.161993  20080.659064  11.820330   \n",
      "2        baseline_model_random_Forest  28636.283593  17416.832671  10.520635   \n",
      "3                  baseline_model_XGB  29502.500001  16806.905982  10.269786   \n",
      "4  feauterEng_model_linear_regression  32811.140792  21068.336528  12.847550   \n",
      "5      feauterEng_model_random_Forest  28428.911961  17292.903733  10.992030   \n",
      "6                feauterEng_model_XGB  35132.400028  19010.372324  11.127679   \n",
      "7              tuned_RndSrch_model_RF  29297.120138  17325.634801  11.033650   \n",
      "\n",
      "         R2  \n",
      "0  0.000000  \n",
      "1  0.865075  \n",
      "2  0.893090  \n",
      "3  0.886524  \n",
      "4  0.859645  \n",
      "5  0.894633  \n",
      "6  0.839083  \n",
      "7  0.888098  \n"
     ]
    }
   ],
   "source": [
    "from sklearn.ensemble import RandomForestRegressor\n",
    "from sklearn.metrics import make_scorer, mean_squared_error, mean_absolute_error, r2_score\n",
    "from sklearn.model_selection import RandomizedSearchCV\n",
    "from scipy.stats import randint, uniform\n",
    "import numpy as np\n",
    "import pandas as pd\n",
    "\n",
    "# --- Custom RMSE scorer ---\n",
    "def rmse(y_true, y_pred):\n",
    "    return np.sqrt(np.mean((y_true - y_pred) ** 2))\n",
    "\n",
    "rmse_scorer = make_scorer(rmse, greater_is_better=False)\n",
    "\n",
    "# --- Random Forest hyperparameter space ---\n",
    "param_dist = {\n",
    "    'n_estimators': randint(100, 500),\n",
    "    'max_depth': randint(5, 30),\n",
    "    'min_samples_split': randint(2, 10),\n",
    "    'min_samples_leaf': randint(1, 2),\n",
    "    'max_features': [None, 'sqrt', 'log2'],\n",
    "    'bootstrap': [True, False]\n",
    "}\n",
    "\n",
    "# --- Initialize model ---\n",
    "rf = RandomForestRegressor(random_state=42, n_jobs=-1)\n",
    "\n",
    "# --- RandomizedSearchCV ---\n",
    "random_search = RandomizedSearchCV(\n",
    "    estimator=rf,\n",
    "    param_distributions=param_dist,\n",
    "    n_iter=100,\n",
    "    scoring=rmse_scorer,\n",
    "    cv=5,\n",
    "    verbose=1,\n",
    "    random_state=42\n",
    ")\n",
    "\n",
    "# --- Fit the model ---\n",
    "random_search.fit(X_train, y_train)\n",
    "\n",
    "# --- Best model, parameters, and CV score ---\n",
    "best_model = random_search.best_estimator_\n",
    "best_params = random_search.best_params_\n",
    "best_score = -random_search.best_score_  # Convert from negative RMSE\n",
    "\n",
    "# --- Predict ---\n",
    "y_pred = best_model.predict(X_test)\n",
    "\n",
    "# --- Metrics ---\n",
    "rmse_score = np.sqrt(mean_squared_error(y_test, y_pred))\n",
    "mae = mean_absolute_error(y_test, y_pred)\n",
    "r2 = r2_score(y_test, y_pred)\n",
    "mape = calculate_mape(y_test, y_pred)\n",
    "\n",
    "# --- Save outputs ---\n",
    "sekarang = f'./output/{get_now_string()}'\n",
    "model_name = 'tuned_RndSrch_model_RF'\n",
    "model_file_name = f'{sekarang}_{model_name}.pkl'\n",
    "df_train_filename = f'{sekarang}_{model_name}_df_train.csv'\n",
    "df_test_filename = f'{sekarang}_{model_name}_df_test.csv'\n",
    "\n",
    "save_model(best_model, model_file_name)\n",
    "df_train.to_csv(df_train_filename, index=False)\n",
    "df_test.to_csv(df_test_filename, index=False)\n",
    "\n",
    "# --- Log results ---\n",
    "resultnya = pd.DataFrame([{\n",
    "    \"Model\": model_name,\n",
    "    \"RMSE\": rmse_score,\n",
    "    \"MAE\": mae,\n",
    "    \"MAPE\": mape,\n",
    "    \"R2\": r2,\n",
    "    \"Model File\": model_file_name,\n",
    "    \"df_train\": df_train_filename,\n",
    "    \"df_test\": df_test_filename,\n",
    "    \"Scaler File\": ''\n",
    "}])\n",
    "\n",
    "results_df = pd.concat([results_df, resultnya], ignore_index=True)\n",
    "\n",
    "# Show result summary\n",
    "print(results_df[['Model', 'RMSE', 'MAE', 'MAPE', 'R2']])\n"
   ]
  },
  {
   "cell_type": "code",
   "execution_count": 765,
   "id": "6e517ad0",
   "metadata": {},
   "outputs": [
    {
     "data": {
      "text/html": [
       "<style>#sk-container-id-2 {color: black;}#sk-container-id-2 pre{padding: 0;}#sk-container-id-2 div.sk-toggleable {background-color: white;}#sk-container-id-2 label.sk-toggleable__label {cursor: pointer;display: block;width: 100%;margin-bottom: 0;padding: 0.3em;box-sizing: border-box;text-align: center;}#sk-container-id-2 label.sk-toggleable__label-arrow:before {content: \"▸\";float: left;margin-right: 0.25em;color: #696969;}#sk-container-id-2 label.sk-toggleable__label-arrow:hover:before {color: black;}#sk-container-id-2 div.sk-estimator:hover label.sk-toggleable__label-arrow:before {color: black;}#sk-container-id-2 div.sk-toggleable__content {max-height: 0;max-width: 0;overflow: hidden;text-align: left;background-color: #f0f8ff;}#sk-container-id-2 div.sk-toggleable__content pre {margin: 0.2em;color: black;border-radius: 0.25em;background-color: #f0f8ff;}#sk-container-id-2 input.sk-toggleable__control:checked~div.sk-toggleable__content {max-height: 200px;max-width: 100%;overflow: auto;}#sk-container-id-2 input.sk-toggleable__control:checked~label.sk-toggleable__label-arrow:before {content: \"▾\";}#sk-container-id-2 div.sk-estimator input.sk-toggleable__control:checked~label.sk-toggleable__label {background-color: #d4ebff;}#sk-container-id-2 div.sk-label input.sk-toggleable__control:checked~label.sk-toggleable__label {background-color: #d4ebff;}#sk-container-id-2 input.sk-hidden--visually {border: 0;clip: rect(1px 1px 1px 1px);clip: rect(1px, 1px, 1px, 1px);height: 1px;margin: -1px;overflow: hidden;padding: 0;position: absolute;width: 1px;}#sk-container-id-2 div.sk-estimator {font-family: monospace;background-color: #f0f8ff;border: 1px dotted black;border-radius: 0.25em;box-sizing: border-box;margin-bottom: 0.5em;}#sk-container-id-2 div.sk-estimator:hover {background-color: #d4ebff;}#sk-container-id-2 div.sk-parallel-item::after {content: \"\";width: 100%;border-bottom: 1px solid gray;flex-grow: 1;}#sk-container-id-2 div.sk-label:hover label.sk-toggleable__label {background-color: #d4ebff;}#sk-container-id-2 div.sk-serial::before {content: \"\";position: absolute;border-left: 1px solid gray;box-sizing: border-box;top: 0;bottom: 0;left: 50%;z-index: 0;}#sk-container-id-2 div.sk-serial {display: flex;flex-direction: column;align-items: center;background-color: white;padding-right: 0.2em;padding-left: 0.2em;position: relative;}#sk-container-id-2 div.sk-item {position: relative;z-index: 1;}#sk-container-id-2 div.sk-parallel {display: flex;align-items: stretch;justify-content: center;background-color: white;position: relative;}#sk-container-id-2 div.sk-item::before, #sk-container-id-2 div.sk-parallel-item::before {content: \"\";position: absolute;border-left: 1px solid gray;box-sizing: border-box;top: 0;bottom: 0;left: 50%;z-index: -1;}#sk-container-id-2 div.sk-parallel-item {display: flex;flex-direction: column;z-index: 1;position: relative;background-color: white;}#sk-container-id-2 div.sk-parallel-item:first-child::after {align-self: flex-end;width: 50%;}#sk-container-id-2 div.sk-parallel-item:last-child::after {align-self: flex-start;width: 50%;}#sk-container-id-2 div.sk-parallel-item:only-child::after {width: 0;}#sk-container-id-2 div.sk-dashed-wrapped {border: 1px dashed gray;margin: 0 0.4em 0.5em 0.4em;box-sizing: border-box;padding-bottom: 0.4em;background-color: white;}#sk-container-id-2 div.sk-label label {font-family: monospace;font-weight: bold;display: inline-block;line-height: 1.2em;}#sk-container-id-2 div.sk-label-container {text-align: center;}#sk-container-id-2 div.sk-container {/* jupyter's `normalize.less` sets `[hidden] { display: none; }` but bootstrap.min.css set `[hidden] { display: none !important; }` so we also need the `!important` here to be able to override the default hidden behavior on the sphinx rendered scikit-learn.org. See: https://github.com/scikit-learn/scikit-learn/issues/21755 */display: inline-block !important;position: relative;}#sk-container-id-2 div.sk-text-repr-fallback {display: none;}</style><div id=\"sk-container-id-2\" class=\"sk-top-container\"><div class=\"sk-text-repr-fallback\"><pre>RandomForestRegressor(bootstrap=False, max_depth=11, max_features=&#x27;sqrt&#x27;,\n",
       "                      min_samples_split=4, n_estimators=212, n_jobs=-1,\n",
       "                      random_state=42)</pre><b>In a Jupyter environment, please rerun this cell to show the HTML representation or trust the notebook. <br />On GitHub, the HTML representation is unable to render, please try loading this page with nbviewer.org.</b></div><div class=\"sk-container\" hidden><div class=\"sk-item\"><div class=\"sk-estimator sk-toggleable\"><input class=\"sk-toggleable__control sk-hidden--visually\" id=\"sk-estimator-id-2\" type=\"checkbox\" checked><label for=\"sk-estimator-id-2\" class=\"sk-toggleable__label sk-toggleable__label-arrow\">RandomForestRegressor</label><div class=\"sk-toggleable__content\"><pre>RandomForestRegressor(bootstrap=False, max_depth=11, max_features=&#x27;sqrt&#x27;,\n",
       "                      min_samples_split=4, n_estimators=212, n_jobs=-1,\n",
       "                      random_state=42)</pre></div></div></div></div></div>"
      ],
      "text/plain": [
       "RandomForestRegressor(bootstrap=False, max_depth=11, max_features='sqrt',\n",
       "                      min_samples_split=4, n_estimators=212, n_jobs=-1,\n",
       "                      random_state=42)"
      ]
     },
     "execution_count": 765,
     "metadata": {},
     "output_type": "execute_result"
    }
   ],
   "source": [
    "best_model"
   ]
  },
  {
   "cell_type": "code",
   "execution_count": 766,
   "id": "7caab833",
   "metadata": {},
   "outputs": [
    {
     "data": {
      "text/plain": [
       "{'bootstrap': False,\n",
       " 'max_depth': 11,\n",
       " 'max_features': 'sqrt',\n",
       " 'min_samples_leaf': 1,\n",
       " 'min_samples_split': 4,\n",
       " 'n_estimators': 212}"
      ]
     },
     "execution_count": 766,
     "metadata": {},
     "output_type": "execute_result"
    }
   ],
   "source": [
    "best_params"
   ]
  },
  {
   "cell_type": "code",
   "execution_count": null,
   "id": "e63278bc",
   "metadata": {},
   "outputs": [],
   "source": [
    "best_params_rf = best_params"
   ]
  },
  {
   "cell_type": "code",
   "execution_count": 767,
   "id": "8d776df3",
   "metadata": {},
   "outputs": [
    {
     "data": {
      "text/plain": [
       "28814.25132531041"
      ]
     },
     "execution_count": 767,
     "metadata": {},
     "output_type": "execute_result"
    }
   ],
   "source": [
    "best_score"
   ]
  },
  {
   "cell_type": "code",
   "execution_count": 768,
   "id": "c727ebac",
   "metadata": {},
   "outputs": [
    {
     "data": {
      "application/vnd.microsoft.datawrangler.viewer.v0+json": {
       "columns": [
        {
         "name": "index",
         "rawType": "int64",
         "type": "integer"
        },
        {
         "name": "Model",
         "rawType": "object",
         "type": "string"
        },
        {
         "name": "RMSE",
         "rawType": "float64",
         "type": "float"
        },
        {
         "name": "MAE",
         "rawType": "float64",
         "type": "float"
        },
        {
         "name": "MAPE",
         "rawType": "float64",
         "type": "float"
        },
        {
         "name": "R2",
         "rawType": "float64",
         "type": "float"
        },
        {
         "name": "Model File",
         "rawType": "object",
         "type": "string"
        },
        {
         "name": "df_train",
         "rawType": "object",
         "type": "string"
        },
        {
         "name": "df_test",
         "rawType": "object",
         "type": "string"
        },
        {
         "name": "Scaler File",
         "rawType": "object",
         "type": "string"
        }
       ],
       "ref": "eddacf59-b015-4eb3-aef8-69298570c647",
       "rows": [
        [
         "0",
         "-",
         "0.0",
         "0.0",
         "0.0",
         "0.0",
         "",
         "",
         "",
         ""
        ],
        [
         "1",
         "baseline_model_linear_regression",
         "32170.16199264107",
         "20080.65906364246",
         "11.820329982934373",
         "0.86507492710505",
         "./output/2025-06-11_Wed_1602_34_baseline_model_linear_regression.pkl",
         "./output/2025-06-11_Wed_1602_34_baseline_model_linear_regression_df_train.csv",
         "./output/2025-06-11_Wed_1602_34_baseline_model_linear_regression_df_test.csv",
         ""
        ],
        [
         "2",
         "baseline_model_random_Forest",
         "28636.283592974698",
         "17416.83267123287",
         "10.520634941837901",
         "0.893089717977197",
         "./output/2025-06-11_Wed_1602_43_baseline_model_random_Forest.pkl",
         "./output/2025-06-11_Wed_1602_43_baseline_model_random_Forest_df_train.csv",
         "./output/2025-06-11_Wed_1602_43_baseline_model_random_Forest_df_test.csv",
         ""
        ],
        [
         "3",
         "baseline_model_XGB",
         "29502.50000135622",
         "16806.90598244863",
         "10.26978639957796",
         "0.8865240561067067",
         "./output/2025-06-11_Wed_1602_44_baseline_model_XGB.pkl",
         "./output/2025-06-11_Wed_1602_44_baseline_model_XGB_df_train.csv",
         "./output/2025-06-11_Wed_1602_44_baseline_model_XGB_df_test.csv",
         ""
        ],
        [
         "4",
         "feauterEng_model_linear_regression",
         "32811.140791704776",
         "21068.336528171305",
         "12.847550251115214",
         "0.8596446968520945",
         "./output/2025-06-11_Wed_1602_46_feauterEng_model_linear_regression.pkl",
         "./output/2025-06-11_Wed_1602_46_feauterEng_model_linear_regression_df_train.csv",
         "./output/2025-06-11_Wed_1602_46_feauterEng_model_linear_regression_df_test.csv",
         ""
        ],
        [
         "5",
         "feauterEng_model_random_Forest",
         "28428.91196131549",
         "17292.90373287671",
         "10.992029606489169",
         "0.8946325079959523",
         "./output/2025-06-11_Wed_1602_53_feauterEng_model_random_Forest.pkl",
         "./output/2025-06-11_Wed_1602_53_feauterEng_model_random_Forest_df_train.csv",
         "./output/2025-06-11_Wed_1602_53_feauterEng_model_random_Forest_df_test.csv",
         ""
        ],
        [
         "6",
         "feauterEng_model_XGB",
         "35132.40002770671",
         "19010.372324486303",
         "11.127679146282079",
         "0.8390830457053735",
         "./output/2025-06-11_Wed_1602_54_feauterEng_model_XGB.pkl",
         "./output/2025-06-11_Wed_1602_54_feauterEng_model_XGB_df_train.csv",
         "./output/2025-06-11_Wed_1602_54_feauterEng_model_XGB_df_test.csv",
         ""
        ],
        [
         "7",
         "tuned_RndSrch_model_RF",
         "29297.12013770445",
         "17325.634800697808",
         "11.033650412003404",
         "0.8880984686728399",
         "./output/2025-06-11_Wed_1633_47_tuned_RndSrch_model_RF.pkl",
         "./output/2025-06-11_Wed_1633_47_tuned_RndSrch_model_RF_df_train.csv",
         "./output/2025-06-11_Wed_1633_47_tuned_RndSrch_model_RF_df_test.csv",
         ""
        ]
       ],
       "shape": {
        "columns": 9,
        "rows": 8
       }
      },
      "text/html": [
       "<div>\n",
       "<style scoped>\n",
       "    .dataframe tbody tr th:only-of-type {\n",
       "        vertical-align: middle;\n",
       "    }\n",
       "\n",
       "    .dataframe tbody tr th {\n",
       "        vertical-align: top;\n",
       "    }\n",
       "\n",
       "    .dataframe thead th {\n",
       "        text-align: right;\n",
       "    }\n",
       "</style>\n",
       "<table border=\"1\" class=\"dataframe\">\n",
       "  <thead>\n",
       "    <tr style=\"text-align: right;\">\n",
       "      <th></th>\n",
       "      <th>Model</th>\n",
       "      <th>RMSE</th>\n",
       "      <th>MAE</th>\n",
       "      <th>MAPE</th>\n",
       "      <th>R2</th>\n",
       "      <th>Model File</th>\n",
       "      <th>df_train</th>\n",
       "      <th>df_test</th>\n",
       "      <th>Scaler File</th>\n",
       "    </tr>\n",
       "  </thead>\n",
       "  <tbody>\n",
       "    <tr>\n",
       "      <th>0</th>\n",
       "      <td>-</td>\n",
       "      <td>0.000000</td>\n",
       "      <td>0.000000</td>\n",
       "      <td>0.000000</td>\n",
       "      <td>0.000000</td>\n",
       "      <td></td>\n",
       "      <td></td>\n",
       "      <td></td>\n",
       "      <td></td>\n",
       "    </tr>\n",
       "    <tr>\n",
       "      <th>1</th>\n",
       "      <td>baseline_model_linear_regression</td>\n",
       "      <td>32170.161993</td>\n",
       "      <td>20080.659064</td>\n",
       "      <td>11.820330</td>\n",
       "      <td>0.865075</td>\n",
       "      <td>./output/2025-06-11_Wed_1602_34_baseline_model...</td>\n",
       "      <td>./output/2025-06-11_Wed_1602_34_baseline_model...</td>\n",
       "      <td>./output/2025-06-11_Wed_1602_34_baseline_model...</td>\n",
       "      <td></td>\n",
       "    </tr>\n",
       "    <tr>\n",
       "      <th>2</th>\n",
       "      <td>baseline_model_random_Forest</td>\n",
       "      <td>28636.283593</td>\n",
       "      <td>17416.832671</td>\n",
       "      <td>10.520635</td>\n",
       "      <td>0.893090</td>\n",
       "      <td>./output/2025-06-11_Wed_1602_43_baseline_model...</td>\n",
       "      <td>./output/2025-06-11_Wed_1602_43_baseline_model...</td>\n",
       "      <td>./output/2025-06-11_Wed_1602_43_baseline_model...</td>\n",
       "      <td></td>\n",
       "    </tr>\n",
       "    <tr>\n",
       "      <th>3</th>\n",
       "      <td>baseline_model_XGB</td>\n",
       "      <td>29502.500001</td>\n",
       "      <td>16806.905982</td>\n",
       "      <td>10.269786</td>\n",
       "      <td>0.886524</td>\n",
       "      <td>./output/2025-06-11_Wed_1602_44_baseline_model...</td>\n",
       "      <td>./output/2025-06-11_Wed_1602_44_baseline_model...</td>\n",
       "      <td>./output/2025-06-11_Wed_1602_44_baseline_model...</td>\n",
       "      <td></td>\n",
       "    </tr>\n",
       "    <tr>\n",
       "      <th>4</th>\n",
       "      <td>feauterEng_model_linear_regression</td>\n",
       "      <td>32811.140792</td>\n",
       "      <td>21068.336528</td>\n",
       "      <td>12.847550</td>\n",
       "      <td>0.859645</td>\n",
       "      <td>./output/2025-06-11_Wed_1602_46_feauterEng_mod...</td>\n",
       "      <td>./output/2025-06-11_Wed_1602_46_feauterEng_mod...</td>\n",
       "      <td>./output/2025-06-11_Wed_1602_46_feauterEng_mod...</td>\n",
       "      <td></td>\n",
       "    </tr>\n",
       "    <tr>\n",
       "      <th>5</th>\n",
       "      <td>feauterEng_model_random_Forest</td>\n",
       "      <td>28428.911961</td>\n",
       "      <td>17292.903733</td>\n",
       "      <td>10.992030</td>\n",
       "      <td>0.894633</td>\n",
       "      <td>./output/2025-06-11_Wed_1602_53_feauterEng_mod...</td>\n",
       "      <td>./output/2025-06-11_Wed_1602_53_feauterEng_mod...</td>\n",
       "      <td>./output/2025-06-11_Wed_1602_53_feauterEng_mod...</td>\n",
       "      <td></td>\n",
       "    </tr>\n",
       "    <tr>\n",
       "      <th>6</th>\n",
       "      <td>feauterEng_model_XGB</td>\n",
       "      <td>35132.400028</td>\n",
       "      <td>19010.372324</td>\n",
       "      <td>11.127679</td>\n",
       "      <td>0.839083</td>\n",
       "      <td>./output/2025-06-11_Wed_1602_54_feauterEng_mod...</td>\n",
       "      <td>./output/2025-06-11_Wed_1602_54_feauterEng_mod...</td>\n",
       "      <td>./output/2025-06-11_Wed_1602_54_feauterEng_mod...</td>\n",
       "      <td></td>\n",
       "    </tr>\n",
       "    <tr>\n",
       "      <th>7</th>\n",
       "      <td>tuned_RndSrch_model_RF</td>\n",
       "      <td>29297.120138</td>\n",
       "      <td>17325.634801</td>\n",
       "      <td>11.033650</td>\n",
       "      <td>0.888098</td>\n",
       "      <td>./output/2025-06-11_Wed_1633_47_tuned_RndSrch_...</td>\n",
       "      <td>./output/2025-06-11_Wed_1633_47_tuned_RndSrch_...</td>\n",
       "      <td>./output/2025-06-11_Wed_1633_47_tuned_RndSrch_...</td>\n",
       "      <td></td>\n",
       "    </tr>\n",
       "  </tbody>\n",
       "</table>\n",
       "</div>"
      ],
      "text/plain": [
       "                                Model          RMSE           MAE       MAPE  \\\n",
       "0                                   -      0.000000      0.000000   0.000000   \n",
       "1    baseline_model_linear_regression  32170.161993  20080.659064  11.820330   \n",
       "2        baseline_model_random_Forest  28636.283593  17416.832671  10.520635   \n",
       "3                  baseline_model_XGB  29502.500001  16806.905982  10.269786   \n",
       "4  feauterEng_model_linear_regression  32811.140792  21068.336528  12.847550   \n",
       "5      feauterEng_model_random_Forest  28428.911961  17292.903733  10.992030   \n",
       "6                feauterEng_model_XGB  35132.400028  19010.372324  11.127679   \n",
       "7              tuned_RndSrch_model_RF  29297.120138  17325.634801  11.033650   \n",
       "\n",
       "         R2                                         Model File  \\\n",
       "0  0.000000                                                      \n",
       "1  0.865075  ./output/2025-06-11_Wed_1602_34_baseline_model...   \n",
       "2  0.893090  ./output/2025-06-11_Wed_1602_43_baseline_model...   \n",
       "3  0.886524  ./output/2025-06-11_Wed_1602_44_baseline_model...   \n",
       "4  0.859645  ./output/2025-06-11_Wed_1602_46_feauterEng_mod...   \n",
       "5  0.894633  ./output/2025-06-11_Wed_1602_53_feauterEng_mod...   \n",
       "6  0.839083  ./output/2025-06-11_Wed_1602_54_feauterEng_mod...   \n",
       "7  0.888098  ./output/2025-06-11_Wed_1633_47_tuned_RndSrch_...   \n",
       "\n",
       "                                            df_train  \\\n",
       "0                                                      \n",
       "1  ./output/2025-06-11_Wed_1602_34_baseline_model...   \n",
       "2  ./output/2025-06-11_Wed_1602_43_baseline_model...   \n",
       "3  ./output/2025-06-11_Wed_1602_44_baseline_model...   \n",
       "4  ./output/2025-06-11_Wed_1602_46_feauterEng_mod...   \n",
       "5  ./output/2025-06-11_Wed_1602_53_feauterEng_mod...   \n",
       "6  ./output/2025-06-11_Wed_1602_54_feauterEng_mod...   \n",
       "7  ./output/2025-06-11_Wed_1633_47_tuned_RndSrch_...   \n",
       "\n",
       "                                             df_test Scaler File  \n",
       "0                                                                 \n",
       "1  ./output/2025-06-11_Wed_1602_34_baseline_model...              \n",
       "2  ./output/2025-06-11_Wed_1602_43_baseline_model...              \n",
       "3  ./output/2025-06-11_Wed_1602_44_baseline_model...              \n",
       "4  ./output/2025-06-11_Wed_1602_46_feauterEng_mod...              \n",
       "5  ./output/2025-06-11_Wed_1602_53_feauterEng_mod...              \n",
       "6  ./output/2025-06-11_Wed_1602_54_feauterEng_mod...              \n",
       "7  ./output/2025-06-11_Wed_1633_47_tuned_RndSrch_...              "
      ]
     },
     "execution_count": 768,
     "metadata": {},
     "output_type": "execute_result"
    }
   ],
   "source": [
    "results_df"
   ]
  },
  {
   "cell_type": "markdown",
   "id": "e361717e",
   "metadata": {},
   "source": [
    "### Tuning RandomSearch XGB"
   ]
  },
  {
   "cell_type": "code",
   "execution_count": 769,
   "id": "e04b6049",
   "metadata": {},
   "outputs": [
    {
     "name": "stdout",
     "output_type": "stream",
     "text": [
      "Fitting 5 folds for each of 100 candidates, totalling 500 fits\n",
      "Model saved to ./output/2025-06-11_Wed_1645_49_tuned_RndSrch_model_XGB.pkl\n"
     ]
    }
   ],
   "source": [
    "# Custom RMSE scorer\n",
    "def rmse(y_test, y_pred):\n",
    "    return np.sqrt(np.mean((y_test - y_pred) ** 2))\n",
    "\n",
    "rmse_scorer = make_scorer(rmse, greater_is_better=False)\n",
    "\n",
    "# Define the parameter distribution\n",
    "param_dist = {\n",
    "    'n_estimators': randint(200, 500),\n",
    "    'max_depth': randint(4, 7),\n",
    "    'learning_rate': uniform(0.01, 0.2),\n",
    "    'subsample': uniform(0.6, 0.4),  # between 0.6 and 1.0\n",
    "    'colsample_bytree': uniform(0.6, 0.4),\n",
    "    'gamma': uniform(0, 0.3),\n",
    "    'reg_alpha': uniform(0, 0.1),\n",
    "    'reg_lambda': uniform(0.5, 1.5),\n",
    "}\n",
    "\n",
    "# Initialize model\n",
    "xgb = XGBRegressor(random_state=42, n_jobs=-1, verbosity=0)\n",
    "\n",
    "# Randomized Search CV\n",
    "random_search = RandomizedSearchCV(\n",
    "    estimator=xgb,\n",
    "    param_distributions=param_dist,\n",
    "    n_iter=100,\n",
    "    scoring=rmse_scorer,\n",
    "    cv=5,\n",
    "    verbose=1,\n",
    "    random_state=42\n",
    ")\n",
    "\n",
    "# Fit the model\n",
    "random_search.fit(X_train, y_train)\n",
    "\n",
    "# Get best model, params, and score\n",
    "best_model = random_search.best_estimator_\n",
    "best_params = random_search.best_params_\n",
    "best_score = -random_search.best_score_  # convert back from negative RMSE\n",
    "(best_model, best_params, best_score)\n",
    "\n",
    "y_pred = best_model.predict(X_test)\n",
    "\n",
    "\n",
    "rmse = np.sqrt(mean_squared_error(y_test, y_pred))\n",
    "mae = mean_absolute_error(y_test, y_pred)\n",
    "r2 = r2_score(y_test, y_pred)\n",
    "mape = calculate_mape(y_test,y_pred)\n",
    "\n",
    "sekarang = f'./output/{get_now_string()}'\n",
    "model_name = 'tuned_RndSrch_model_XGB'\n",
    "model_file_name = f'{sekarang}_{model_name}.pkl'\n",
    "df_train_filename= f'{sekarang}_{model_name}_df_train.csv'\n",
    "df_test_filename= f'{sekarang}_{model_name}_df_test.csv'\n",
    "\n",
    "save_model(best_model, model_file_name)\n",
    "df_train.to_csv(df_train_filename)\n",
    "df_test.to_csv(df_test_filename)\n",
    "\n",
    "\n",
    "\n",
    "resultnya = pd.DataFrame([{\n",
    "    \"Model\": model_name,\n",
    "    \"RMSE\": rmse,\n",
    "    \"MAE\": mae,\n",
    "    \"MAPE\": mape,\n",
    "    \"R2\": r2,\n",
    "    \"Model File\": model_file_name,\n",
    "    \"df_train\": df_train_filename,\n",
    "    \"df_test\": df_test_filename,\n",
    "    \"Scaler File\":''\n",
    "}])\n",
    "\n",
    "results_df = pd.concat([results_df, resultnya], ignore_index=True)\n",
    "\n",
    "# print(results_df[['Model','RMSE','MAE','MAPE','R2']])\n"
   ]
  },
  {
   "cell_type": "code",
   "execution_count": 770,
   "id": "c55e75c7",
   "metadata": {},
   "outputs": [
    {
     "data": {
      "text/html": [
       "<style>#sk-container-id-3 {color: black;}#sk-container-id-3 pre{padding: 0;}#sk-container-id-3 div.sk-toggleable {background-color: white;}#sk-container-id-3 label.sk-toggleable__label {cursor: pointer;display: block;width: 100%;margin-bottom: 0;padding: 0.3em;box-sizing: border-box;text-align: center;}#sk-container-id-3 label.sk-toggleable__label-arrow:before {content: \"▸\";float: left;margin-right: 0.25em;color: #696969;}#sk-container-id-3 label.sk-toggleable__label-arrow:hover:before {color: black;}#sk-container-id-3 div.sk-estimator:hover label.sk-toggleable__label-arrow:before {color: black;}#sk-container-id-3 div.sk-toggleable__content {max-height: 0;max-width: 0;overflow: hidden;text-align: left;background-color: #f0f8ff;}#sk-container-id-3 div.sk-toggleable__content pre {margin: 0.2em;color: black;border-radius: 0.25em;background-color: #f0f8ff;}#sk-container-id-3 input.sk-toggleable__control:checked~div.sk-toggleable__content {max-height: 200px;max-width: 100%;overflow: auto;}#sk-container-id-3 input.sk-toggleable__control:checked~label.sk-toggleable__label-arrow:before {content: \"▾\";}#sk-container-id-3 div.sk-estimator input.sk-toggleable__control:checked~label.sk-toggleable__label {background-color: #d4ebff;}#sk-container-id-3 div.sk-label input.sk-toggleable__control:checked~label.sk-toggleable__label {background-color: #d4ebff;}#sk-container-id-3 input.sk-hidden--visually {border: 0;clip: rect(1px 1px 1px 1px);clip: rect(1px, 1px, 1px, 1px);height: 1px;margin: -1px;overflow: hidden;padding: 0;position: absolute;width: 1px;}#sk-container-id-3 div.sk-estimator {font-family: monospace;background-color: #f0f8ff;border: 1px dotted black;border-radius: 0.25em;box-sizing: border-box;margin-bottom: 0.5em;}#sk-container-id-3 div.sk-estimator:hover {background-color: #d4ebff;}#sk-container-id-3 div.sk-parallel-item::after {content: \"\";width: 100%;border-bottom: 1px solid gray;flex-grow: 1;}#sk-container-id-3 div.sk-label:hover label.sk-toggleable__label {background-color: #d4ebff;}#sk-container-id-3 div.sk-serial::before {content: \"\";position: absolute;border-left: 1px solid gray;box-sizing: border-box;top: 0;bottom: 0;left: 50%;z-index: 0;}#sk-container-id-3 div.sk-serial {display: flex;flex-direction: column;align-items: center;background-color: white;padding-right: 0.2em;padding-left: 0.2em;position: relative;}#sk-container-id-3 div.sk-item {position: relative;z-index: 1;}#sk-container-id-3 div.sk-parallel {display: flex;align-items: stretch;justify-content: center;background-color: white;position: relative;}#sk-container-id-3 div.sk-item::before, #sk-container-id-3 div.sk-parallel-item::before {content: \"\";position: absolute;border-left: 1px solid gray;box-sizing: border-box;top: 0;bottom: 0;left: 50%;z-index: -1;}#sk-container-id-3 div.sk-parallel-item {display: flex;flex-direction: column;z-index: 1;position: relative;background-color: white;}#sk-container-id-3 div.sk-parallel-item:first-child::after {align-self: flex-end;width: 50%;}#sk-container-id-3 div.sk-parallel-item:last-child::after {align-self: flex-start;width: 50%;}#sk-container-id-3 div.sk-parallel-item:only-child::after {width: 0;}#sk-container-id-3 div.sk-dashed-wrapped {border: 1px dashed gray;margin: 0 0.4em 0.5em 0.4em;box-sizing: border-box;padding-bottom: 0.4em;background-color: white;}#sk-container-id-3 div.sk-label label {font-family: monospace;font-weight: bold;display: inline-block;line-height: 1.2em;}#sk-container-id-3 div.sk-label-container {text-align: center;}#sk-container-id-3 div.sk-container {/* jupyter's `normalize.less` sets `[hidden] { display: none; }` but bootstrap.min.css set `[hidden] { display: none !important; }` so we also need the `!important` here to be able to override the default hidden behavior on the sphinx rendered scikit-learn.org. See: https://github.com/scikit-learn/scikit-learn/issues/21755 */display: inline-block !important;position: relative;}#sk-container-id-3 div.sk-text-repr-fallback {display: none;}</style><div id=\"sk-container-id-3\" class=\"sk-top-container\"><div class=\"sk-text-repr-fallback\"><pre>XGBRegressor(base_score=0.5, booster=&#x27;gbtree&#x27;, callbacks=None,\n",
       "             colsample_bylevel=1, colsample_bynode=1,\n",
       "             colsample_bytree=0.6183445065618531, early_stopping_rounds=None,\n",
       "             enable_categorical=False, eval_metric=None,\n",
       "             gamma=0.18624170532662737, gpu_id=-1, grow_policy=&#x27;depthwise&#x27;,\n",
       "             importance_type=None, interaction_constraints=&#x27;&#x27;,\n",
       "             learning_rate=0.07948268164508285, max_bin=256,\n",
       "             max_cat_to_onehot=4, max_delta_step=0, max_depth=5, max_leaves=0,\n",
       "             min_child_weight=1, missing=nan, monotone_constraints=&#x27;()&#x27;,\n",
       "             n_estimators=434, n_jobs=-1, num_parallel_tree=1, predictor=&#x27;auto&#x27;,\n",
       "             random_state=42, reg_alpha=0.057964993447173846,\n",
       "             reg_lambda=1.0123448156848176, ...)</pre><b>In a Jupyter environment, please rerun this cell to show the HTML representation or trust the notebook. <br />On GitHub, the HTML representation is unable to render, please try loading this page with nbviewer.org.</b></div><div class=\"sk-container\" hidden><div class=\"sk-item\"><div class=\"sk-estimator sk-toggleable\"><input class=\"sk-toggleable__control sk-hidden--visually\" id=\"sk-estimator-id-3\" type=\"checkbox\" checked><label for=\"sk-estimator-id-3\" class=\"sk-toggleable__label sk-toggleable__label-arrow\">XGBRegressor</label><div class=\"sk-toggleable__content\"><pre>XGBRegressor(base_score=0.5, booster=&#x27;gbtree&#x27;, callbacks=None,\n",
       "             colsample_bylevel=1, colsample_bynode=1,\n",
       "             colsample_bytree=0.6183445065618531, early_stopping_rounds=None,\n",
       "             enable_categorical=False, eval_metric=None,\n",
       "             gamma=0.18624170532662737, gpu_id=-1, grow_policy=&#x27;depthwise&#x27;,\n",
       "             importance_type=None, interaction_constraints=&#x27;&#x27;,\n",
       "             learning_rate=0.07948268164508285, max_bin=256,\n",
       "             max_cat_to_onehot=4, max_delta_step=0, max_depth=5, max_leaves=0,\n",
       "             min_child_weight=1, missing=nan, monotone_constraints=&#x27;()&#x27;,\n",
       "             n_estimators=434, n_jobs=-1, num_parallel_tree=1, predictor=&#x27;auto&#x27;,\n",
       "             random_state=42, reg_alpha=0.057964993447173846,\n",
       "             reg_lambda=1.0123448156848176, ...)</pre></div></div></div></div></div>"
      ],
      "text/plain": [
       "XGBRegressor(base_score=0.5, booster='gbtree', callbacks=None,\n",
       "             colsample_bylevel=1, colsample_bynode=1,\n",
       "             colsample_bytree=0.6183445065618531, early_stopping_rounds=None,\n",
       "             enable_categorical=False, eval_metric=None,\n",
       "             gamma=0.18624170532662737, gpu_id=-1, grow_policy='depthwise',\n",
       "             importance_type=None, interaction_constraints='',\n",
       "             learning_rate=0.07948268164508285, max_bin=256,\n",
       "             max_cat_to_onehot=4, max_delta_step=0, max_depth=5, max_leaves=0,\n",
       "             min_child_weight=1, missing=nan, monotone_constraints='()',\n",
       "             n_estimators=434, n_jobs=-1, num_parallel_tree=1, predictor='auto',\n",
       "             random_state=42, reg_alpha=0.057964993447173846,\n",
       "             reg_lambda=1.0123448156848176, ...)"
      ]
     },
     "execution_count": 770,
     "metadata": {},
     "output_type": "execute_result"
    }
   ],
   "source": [
    "best_model"
   ]
  },
  {
   "cell_type": "code",
   "execution_count": 771,
   "id": "537686c4",
   "metadata": {},
   "outputs": [
    {
     "data": {
      "text/plain": [
       "{'colsample_bytree': 0.6183445065618531,\n",
       " 'gamma': 0.18624170532662737,\n",
       " 'learning_rate': 0.07948268164508285,\n",
       " 'max_depth': 5,\n",
       " 'n_estimators': 434,\n",
       " 'reg_alpha': 0.057964993447173846,\n",
       " 'reg_lambda': 1.0123448156848176,\n",
       " 'subsample': 0.8149053666856281}"
      ]
     },
     "execution_count": 771,
     "metadata": {},
     "output_type": "execute_result"
    }
   ],
   "source": [
    "best_params"
   ]
  },
  {
   "cell_type": "code",
   "execution_count": null,
   "id": "284d7d65",
   "metadata": {},
   "outputs": [],
   "source": [
    "best_params_xgb = best_params"
   ]
  },
  {
   "cell_type": "code",
   "execution_count": 772,
   "id": "021eba91",
   "metadata": {},
   "outputs": [
    {
     "data": {
      "text/plain": [
       "27376.215215004126"
      ]
     },
     "execution_count": 772,
     "metadata": {},
     "output_type": "execute_result"
    }
   ],
   "source": [
    "best_score"
   ]
  },
  {
   "cell_type": "code",
   "execution_count": 773,
   "id": "4d457f49",
   "metadata": {},
   "outputs": [
    {
     "data": {
      "application/vnd.microsoft.datawrangler.viewer.v0+json": {
       "columns": [
        {
         "name": "index",
         "rawType": "int64",
         "type": "integer"
        },
        {
         "name": "Model",
         "rawType": "object",
         "type": "string"
        },
        {
         "name": "RMSE",
         "rawType": "float64",
         "type": "float"
        },
        {
         "name": "MAE",
         "rawType": "float64",
         "type": "float"
        },
        {
         "name": "MAPE",
         "rawType": "float64",
         "type": "float"
        },
        {
         "name": "R2",
         "rawType": "float64",
         "type": "float"
        },
        {
         "name": "Model File",
         "rawType": "object",
         "type": "string"
        },
        {
         "name": "df_train",
         "rawType": "object",
         "type": "string"
        },
        {
         "name": "df_test",
         "rawType": "object",
         "type": "string"
        },
        {
         "name": "Scaler File",
         "rawType": "object",
         "type": "string"
        }
       ],
       "ref": "d7c843ce-b499-46cb-9f1c-71857699236b",
       "rows": [
        [
         "0",
         "-",
         "0.0",
         "0.0",
         "0.0",
         "0.0",
         "",
         "",
         "",
         ""
        ],
        [
         "1",
         "baseline_model_linear_regression",
         "32170.16199264107",
         "20080.65906364246",
         "11.820329982934373",
         "0.86507492710505",
         "./output/2025-06-11_Wed_1602_34_baseline_model_linear_regression.pkl",
         "./output/2025-06-11_Wed_1602_34_baseline_model_linear_regression_df_train.csv",
         "./output/2025-06-11_Wed_1602_34_baseline_model_linear_regression_df_test.csv",
         ""
        ],
        [
         "2",
         "baseline_model_random_Forest",
         "28636.283592974698",
         "17416.83267123287",
         "10.520634941837901",
         "0.893089717977197",
         "./output/2025-06-11_Wed_1602_43_baseline_model_random_Forest.pkl",
         "./output/2025-06-11_Wed_1602_43_baseline_model_random_Forest_df_train.csv",
         "./output/2025-06-11_Wed_1602_43_baseline_model_random_Forest_df_test.csv",
         ""
        ],
        [
         "3",
         "baseline_model_XGB",
         "29502.50000135622",
         "16806.90598244863",
         "10.26978639957796",
         "0.8865240561067067",
         "./output/2025-06-11_Wed_1602_44_baseline_model_XGB.pkl",
         "./output/2025-06-11_Wed_1602_44_baseline_model_XGB_df_train.csv",
         "./output/2025-06-11_Wed_1602_44_baseline_model_XGB_df_test.csv",
         ""
        ],
        [
         "4",
         "feauterEng_model_linear_regression",
         "32811.140791704776",
         "21068.336528171305",
         "12.847550251115214",
         "0.8596446968520945",
         "./output/2025-06-11_Wed_1602_46_feauterEng_model_linear_regression.pkl",
         "./output/2025-06-11_Wed_1602_46_feauterEng_model_linear_regression_df_train.csv",
         "./output/2025-06-11_Wed_1602_46_feauterEng_model_linear_regression_df_test.csv",
         ""
        ],
        [
         "5",
         "feauterEng_model_random_Forest",
         "28428.91196131549",
         "17292.90373287671",
         "10.992029606489169",
         "0.8946325079959523",
         "./output/2025-06-11_Wed_1602_53_feauterEng_model_random_Forest.pkl",
         "./output/2025-06-11_Wed_1602_53_feauterEng_model_random_Forest_df_train.csv",
         "./output/2025-06-11_Wed_1602_53_feauterEng_model_random_Forest_df_test.csv",
         ""
        ],
        [
         "6",
         "feauterEng_model_XGB",
         "35132.40002770671",
         "19010.372324486303",
         "11.127679146282079",
         "0.8390830457053735",
         "./output/2025-06-11_Wed_1602_54_feauterEng_model_XGB.pkl",
         "./output/2025-06-11_Wed_1602_54_feauterEng_model_XGB_df_train.csv",
         "./output/2025-06-11_Wed_1602_54_feauterEng_model_XGB_df_test.csv",
         ""
        ],
        [
         "7",
         "tuned_RndSrch_model_RF",
         "29297.12013770445",
         "17325.634800697808",
         "11.033650412003404",
         "0.8880984686728399",
         "./output/2025-06-11_Wed_1633_47_tuned_RndSrch_model_RF.pkl",
         "./output/2025-06-11_Wed_1633_47_tuned_RndSrch_model_RF_df_train.csv",
         "./output/2025-06-11_Wed_1633_47_tuned_RndSrch_model_RF_df_test.csv",
         ""
        ],
        [
         "8",
         "tuned_RndSrch_model_XGB",
         "27488.023228184025",
         "16400.908979023974",
         "10.032254402261863",
         "0.9014916184027228",
         "./output/2025-06-11_Wed_1645_49_tuned_RndSrch_model_XGB.pkl",
         "./output/2025-06-11_Wed_1645_49_tuned_RndSrch_model_XGB_df_train.csv",
         "./output/2025-06-11_Wed_1645_49_tuned_RndSrch_model_XGB_df_test.csv",
         ""
        ]
       ],
       "shape": {
        "columns": 9,
        "rows": 9
       }
      },
      "text/html": [
       "<div>\n",
       "<style scoped>\n",
       "    .dataframe tbody tr th:only-of-type {\n",
       "        vertical-align: middle;\n",
       "    }\n",
       "\n",
       "    .dataframe tbody tr th {\n",
       "        vertical-align: top;\n",
       "    }\n",
       "\n",
       "    .dataframe thead th {\n",
       "        text-align: right;\n",
       "    }\n",
       "</style>\n",
       "<table border=\"1\" class=\"dataframe\">\n",
       "  <thead>\n",
       "    <tr style=\"text-align: right;\">\n",
       "      <th></th>\n",
       "      <th>Model</th>\n",
       "      <th>RMSE</th>\n",
       "      <th>MAE</th>\n",
       "      <th>MAPE</th>\n",
       "      <th>R2</th>\n",
       "      <th>Model File</th>\n",
       "      <th>df_train</th>\n",
       "      <th>df_test</th>\n",
       "      <th>Scaler File</th>\n",
       "    </tr>\n",
       "  </thead>\n",
       "  <tbody>\n",
       "    <tr>\n",
       "      <th>0</th>\n",
       "      <td>-</td>\n",
       "      <td>0.000000</td>\n",
       "      <td>0.000000</td>\n",
       "      <td>0.000000</td>\n",
       "      <td>0.000000</td>\n",
       "      <td></td>\n",
       "      <td></td>\n",
       "      <td></td>\n",
       "      <td></td>\n",
       "    </tr>\n",
       "    <tr>\n",
       "      <th>1</th>\n",
       "      <td>baseline_model_linear_regression</td>\n",
       "      <td>32170.161993</td>\n",
       "      <td>20080.659064</td>\n",
       "      <td>11.820330</td>\n",
       "      <td>0.865075</td>\n",
       "      <td>./output/2025-06-11_Wed_1602_34_baseline_model...</td>\n",
       "      <td>./output/2025-06-11_Wed_1602_34_baseline_model...</td>\n",
       "      <td>./output/2025-06-11_Wed_1602_34_baseline_model...</td>\n",
       "      <td></td>\n",
       "    </tr>\n",
       "    <tr>\n",
       "      <th>2</th>\n",
       "      <td>baseline_model_random_Forest</td>\n",
       "      <td>28636.283593</td>\n",
       "      <td>17416.832671</td>\n",
       "      <td>10.520635</td>\n",
       "      <td>0.893090</td>\n",
       "      <td>./output/2025-06-11_Wed_1602_43_baseline_model...</td>\n",
       "      <td>./output/2025-06-11_Wed_1602_43_baseline_model...</td>\n",
       "      <td>./output/2025-06-11_Wed_1602_43_baseline_model...</td>\n",
       "      <td></td>\n",
       "    </tr>\n",
       "    <tr>\n",
       "      <th>3</th>\n",
       "      <td>baseline_model_XGB</td>\n",
       "      <td>29502.500001</td>\n",
       "      <td>16806.905982</td>\n",
       "      <td>10.269786</td>\n",
       "      <td>0.886524</td>\n",
       "      <td>./output/2025-06-11_Wed_1602_44_baseline_model...</td>\n",
       "      <td>./output/2025-06-11_Wed_1602_44_baseline_model...</td>\n",
       "      <td>./output/2025-06-11_Wed_1602_44_baseline_model...</td>\n",
       "      <td></td>\n",
       "    </tr>\n",
       "    <tr>\n",
       "      <th>4</th>\n",
       "      <td>feauterEng_model_linear_regression</td>\n",
       "      <td>32811.140792</td>\n",
       "      <td>21068.336528</td>\n",
       "      <td>12.847550</td>\n",
       "      <td>0.859645</td>\n",
       "      <td>./output/2025-06-11_Wed_1602_46_feauterEng_mod...</td>\n",
       "      <td>./output/2025-06-11_Wed_1602_46_feauterEng_mod...</td>\n",
       "      <td>./output/2025-06-11_Wed_1602_46_feauterEng_mod...</td>\n",
       "      <td></td>\n",
       "    </tr>\n",
       "    <tr>\n",
       "      <th>5</th>\n",
       "      <td>feauterEng_model_random_Forest</td>\n",
       "      <td>28428.911961</td>\n",
       "      <td>17292.903733</td>\n",
       "      <td>10.992030</td>\n",
       "      <td>0.894633</td>\n",
       "      <td>./output/2025-06-11_Wed_1602_53_feauterEng_mod...</td>\n",
       "      <td>./output/2025-06-11_Wed_1602_53_feauterEng_mod...</td>\n",
       "      <td>./output/2025-06-11_Wed_1602_53_feauterEng_mod...</td>\n",
       "      <td></td>\n",
       "    </tr>\n",
       "    <tr>\n",
       "      <th>6</th>\n",
       "      <td>feauterEng_model_XGB</td>\n",
       "      <td>35132.400028</td>\n",
       "      <td>19010.372324</td>\n",
       "      <td>11.127679</td>\n",
       "      <td>0.839083</td>\n",
       "      <td>./output/2025-06-11_Wed_1602_54_feauterEng_mod...</td>\n",
       "      <td>./output/2025-06-11_Wed_1602_54_feauterEng_mod...</td>\n",
       "      <td>./output/2025-06-11_Wed_1602_54_feauterEng_mod...</td>\n",
       "      <td></td>\n",
       "    </tr>\n",
       "    <tr>\n",
       "      <th>7</th>\n",
       "      <td>tuned_RndSrch_model_RF</td>\n",
       "      <td>29297.120138</td>\n",
       "      <td>17325.634801</td>\n",
       "      <td>11.033650</td>\n",
       "      <td>0.888098</td>\n",
       "      <td>./output/2025-06-11_Wed_1633_47_tuned_RndSrch_...</td>\n",
       "      <td>./output/2025-06-11_Wed_1633_47_tuned_RndSrch_...</td>\n",
       "      <td>./output/2025-06-11_Wed_1633_47_tuned_RndSrch_...</td>\n",
       "      <td></td>\n",
       "    </tr>\n",
       "    <tr>\n",
       "      <th>8</th>\n",
       "      <td>tuned_RndSrch_model_XGB</td>\n",
       "      <td>27488.023228</td>\n",
       "      <td>16400.908979</td>\n",
       "      <td>10.032254</td>\n",
       "      <td>0.901492</td>\n",
       "      <td>./output/2025-06-11_Wed_1645_49_tuned_RndSrch_...</td>\n",
       "      <td>./output/2025-06-11_Wed_1645_49_tuned_RndSrch_...</td>\n",
       "      <td>./output/2025-06-11_Wed_1645_49_tuned_RndSrch_...</td>\n",
       "      <td></td>\n",
       "    </tr>\n",
       "  </tbody>\n",
       "</table>\n",
       "</div>"
      ],
      "text/plain": [
       "                                Model          RMSE           MAE       MAPE  \\\n",
       "0                                   -      0.000000      0.000000   0.000000   \n",
       "1    baseline_model_linear_regression  32170.161993  20080.659064  11.820330   \n",
       "2        baseline_model_random_Forest  28636.283593  17416.832671  10.520635   \n",
       "3                  baseline_model_XGB  29502.500001  16806.905982  10.269786   \n",
       "4  feauterEng_model_linear_regression  32811.140792  21068.336528  12.847550   \n",
       "5      feauterEng_model_random_Forest  28428.911961  17292.903733  10.992030   \n",
       "6                feauterEng_model_XGB  35132.400028  19010.372324  11.127679   \n",
       "7              tuned_RndSrch_model_RF  29297.120138  17325.634801  11.033650   \n",
       "8             tuned_RndSrch_model_XGB  27488.023228  16400.908979  10.032254   \n",
       "\n",
       "         R2                                         Model File  \\\n",
       "0  0.000000                                                      \n",
       "1  0.865075  ./output/2025-06-11_Wed_1602_34_baseline_model...   \n",
       "2  0.893090  ./output/2025-06-11_Wed_1602_43_baseline_model...   \n",
       "3  0.886524  ./output/2025-06-11_Wed_1602_44_baseline_model...   \n",
       "4  0.859645  ./output/2025-06-11_Wed_1602_46_feauterEng_mod...   \n",
       "5  0.894633  ./output/2025-06-11_Wed_1602_53_feauterEng_mod...   \n",
       "6  0.839083  ./output/2025-06-11_Wed_1602_54_feauterEng_mod...   \n",
       "7  0.888098  ./output/2025-06-11_Wed_1633_47_tuned_RndSrch_...   \n",
       "8  0.901492  ./output/2025-06-11_Wed_1645_49_tuned_RndSrch_...   \n",
       "\n",
       "                                            df_train  \\\n",
       "0                                                      \n",
       "1  ./output/2025-06-11_Wed_1602_34_baseline_model...   \n",
       "2  ./output/2025-06-11_Wed_1602_43_baseline_model...   \n",
       "3  ./output/2025-06-11_Wed_1602_44_baseline_model...   \n",
       "4  ./output/2025-06-11_Wed_1602_46_feauterEng_mod...   \n",
       "5  ./output/2025-06-11_Wed_1602_53_feauterEng_mod...   \n",
       "6  ./output/2025-06-11_Wed_1602_54_feauterEng_mod...   \n",
       "7  ./output/2025-06-11_Wed_1633_47_tuned_RndSrch_...   \n",
       "8  ./output/2025-06-11_Wed_1645_49_tuned_RndSrch_...   \n",
       "\n",
       "                                             df_test Scaler File  \n",
       "0                                                                 \n",
       "1  ./output/2025-06-11_Wed_1602_34_baseline_model...              \n",
       "2  ./output/2025-06-11_Wed_1602_43_baseline_model...              \n",
       "3  ./output/2025-06-11_Wed_1602_44_baseline_model...              \n",
       "4  ./output/2025-06-11_Wed_1602_46_feauterEng_mod...              \n",
       "5  ./output/2025-06-11_Wed_1602_53_feauterEng_mod...              \n",
       "6  ./output/2025-06-11_Wed_1602_54_feauterEng_mod...              \n",
       "7  ./output/2025-06-11_Wed_1633_47_tuned_RndSrch_...              \n",
       "8  ./output/2025-06-11_Wed_1645_49_tuned_RndSrch_...              "
      ]
     },
     "execution_count": 773,
     "metadata": {},
     "output_type": "execute_result"
    }
   ],
   "source": [
    "results_df"
   ]
  },
  {
   "cell_type": "code",
   "execution_count": 774,
   "id": "1b1bdeee",
   "metadata": {},
   "outputs": [
    {
     "name": "stdout",
     "output_type": "stream",
     "text": [
      "                                Model        RMSE         MAE    MAPE     R2\n",
      "8             tuned_RndSrch_model_XGB 27,488.0232 16,400.9090 10.0323 0.9015\n",
      "5      feauterEng_model_random_Forest 28,428.9120 17,292.9037 10.9920 0.8946\n",
      "2        baseline_model_random_Forest 28,636.2836 17,416.8327 10.5206 0.8931\n",
      "7              tuned_RndSrch_model_RF 29,297.1201 17,325.6348 11.0337 0.8881\n",
      "3                  baseline_model_XGB 29,502.5000 16,806.9060 10.2698 0.8865\n",
      "1    baseline_model_linear_regression 32,170.1620 20,080.6591 11.8203 0.8651\n",
      "4  feauterEng_model_linear_regression 32,811.1408 21,068.3365 12.8476 0.8596\n",
      "6                feauterEng_model_XGB 35,132.4000 19,010.3723 11.1277 0.8391\n",
      "0                                   -      0.0000      0.0000  0.0000 0.0000\n"
     ]
    }
   ],
   "source": [
    "with pd.option_context('display.float_format', '{:,.4f}'.format):\n",
    "    print(results_df[['Model','RMSE', 'MAE','MAPE', 'R2']].sort_values(by=['R2'], ascending=[False]))"
   ]
  },
  {
   "cell_type": "code",
   "execution_count": null,
   "id": "709e5c87",
   "metadata": {},
   "outputs": [],
   "source": []
  },
  {
   "cell_type": "code",
   "execution_count": null,
   "id": "8a282638",
   "metadata": {},
   "outputs": [],
   "source": []
  },
  {
   "cell_type": "code",
   "execution_count": null,
   "id": "5a8c26ee",
   "metadata": {},
   "outputs": [],
   "source": []
  },
  {
   "cell_type": "markdown",
   "id": "039dcef3",
   "metadata": {},
   "source": [
    "## Ensemble 2 Models"
   ]
  },
  {
   "cell_type": "code",
   "execution_count": 780,
   "id": "8e5fb59e",
   "metadata": {},
   "outputs": [
    {
     "name": "stdout",
     "output_type": "stream",
     "text": [
      "Model saved to ./output/2025-06-11_Wed_1652_54_ensembel_tuned_rf_xgb.pkl\n"
     ]
    }
   ],
   "source": [
    "from sklearn.pipeline import Pipeline\n",
    "from sklearn.preprocessing import StandardScaler\n",
    "from sklearn.ensemble import StackingRegressor\n",
    "from sklearn.linear_model import LinearRegression\n",
    "from sklearn.ensemble import RandomForestRegressor\n",
    "from xgboost import XGBRegressor\n",
    "\n",
    "# Random Forest needs scaling\n",
    "rf_pipeline = Pipeline([\n",
    "    ('rf', RandomForestRegressor(random_state=42)) \n",
    "])\n",
    "\n",
    "# XGB doesn't need scaling\n",
    "xgb_pipeline = Pipeline([\n",
    "    ('xgb', XGBRegressor(random_state=42,\n",
    "        **{'colsample_bytree': 0.6183445065618531,\n",
    "        'gamma': 0.18624170532662737,\n",
    "        'learning_rate': 0.07948268164508285,\n",
    "        'max_depth': 5,\n",
    "        'n_estimators': 434,\n",
    "        'reg_alpha': 0.057964993447173846,\n",
    "        'reg_lambda': 1.0123448156848176,\n",
    "        'subsample': 0.8149053666856281})) \n",
    "])\n",
    "\n",
    "# Combine them in a stacking model\n",
    "stack = StackingRegressor(\n",
    "    estimators=[\n",
    "        ('rf_model', rf_pipeline),\n",
    "        ('xgb_model', xgb_pipeline)\n",
    "    ],\n",
    "    final_estimator=LinearRegression(),  # meta-model\n",
    "    passthrough=False,\n",
    "    n_jobs=-1\n",
    ")\n",
    "\n",
    "# Fit on training data\n",
    "stack.fit(X_train, y_train)\n",
    "\n",
    "# Predict on test data\n",
    "y_pred_stack = stack.predict(X_test)\n",
    "\n",
    "\n",
    "rmse = np.sqrt(mean_squared_error(y_test, y_pred_stack))\n",
    "mae = mean_absolute_error(y_test, y_pred_stack)\n",
    "r2 = r2_score(y_test, y_pred_stack)\n",
    "mape = calculate_mape(y_test,y_pred_stack)\n",
    "\n",
    "sekarang = f'./output/{get_now_string()}'\n",
    "model_name = 'ensembel_tuned_rf_xgb'\n",
    "model_file_name = f'{sekarang}_{model_name}.pkl'\n",
    "df_train_filename= f'{sekarang}_{model_name}_df_train.csv'\n",
    "df_test_filename= f'{sekarang}_{model_name}_df_test.csv'\n",
    "\n",
    "save_model(stack, model_file_name)\n",
    "df_train.to_csv(df_train_filename)\n",
    "df_test.to_csv(df_test_filename)\n",
    "\n",
    "\n",
    "\n",
    "resultnya = pd.DataFrame([{\n",
    "    \"Model\": model_name,\n",
    "    \"RMSE\": rmse,\n",
    "    \"MAE\": mae,\n",
    "    \"MAPE\": mape,\n",
    "    \"R2\": r2,\n",
    "    \"Model File\": model_file_name,\n",
    "    \"df_train\": df_train_filename,\n",
    "    \"df_test\": df_test_filename,\n",
    "    \"Scaler File\":''\n",
    "}])\n",
    "\n",
    "results_df = pd.concat([results_df, resultnya], ignore_index=True)\n",
    "\n",
    "# print(results_df[['Model','RMSE','MAE','MAPE','R2']])\n"
   ]
  },
  {
   "cell_type": "code",
   "execution_count": 781,
   "id": "bf1566f0",
   "metadata": {},
   "outputs": [
    {
     "data": {
      "application/vnd.microsoft.datawrangler.viewer.v0+json": {
       "columns": [
        {
         "name": "index",
         "rawType": "int64",
         "type": "integer"
        },
        {
         "name": "Model",
         "rawType": "object",
         "type": "string"
        },
        {
         "name": "RMSE",
         "rawType": "float64",
         "type": "float"
        },
        {
         "name": "MAE",
         "rawType": "float64",
         "type": "float"
        },
        {
         "name": "MAPE",
         "rawType": "float64",
         "type": "float"
        },
        {
         "name": "R2",
         "rawType": "float64",
         "type": "float"
        },
        {
         "name": "Model File",
         "rawType": "object",
         "type": "string"
        },
        {
         "name": "df_train",
         "rawType": "object",
         "type": "string"
        },
        {
         "name": "df_test",
         "rawType": "object",
         "type": "string"
        },
        {
         "name": "Scaler File",
         "rawType": "object",
         "type": "string"
        }
       ],
       "ref": "bb569423-58b6-462c-8f20-55bc392c199f",
       "rows": [
        [
         "0",
         "-",
         "0.0",
         "0.0",
         "0.0",
         "0.0",
         "",
         "",
         "",
         ""
        ],
        [
         "1",
         "baseline_model_linear_regression",
         "32170.16199264107",
         "20080.65906364246",
         "11.820329982934373",
         "0.86507492710505",
         "./output/2025-06-11_Wed_1602_34_baseline_model_linear_regression.pkl",
         "./output/2025-06-11_Wed_1602_34_baseline_model_linear_regression_df_train.csv",
         "./output/2025-06-11_Wed_1602_34_baseline_model_linear_regression_df_test.csv",
         ""
        ],
        [
         "2",
         "baseline_model_random_Forest",
         "28636.283592974698",
         "17416.83267123287",
         "10.520634941837901",
         "0.893089717977197",
         "./output/2025-06-11_Wed_1602_43_baseline_model_random_Forest.pkl",
         "./output/2025-06-11_Wed_1602_43_baseline_model_random_Forest_df_train.csv",
         "./output/2025-06-11_Wed_1602_43_baseline_model_random_Forest_df_test.csv",
         ""
        ],
        [
         "3",
         "baseline_model_XGB",
         "29502.50000135622",
         "16806.90598244863",
         "10.26978639957796",
         "0.8865240561067067",
         "./output/2025-06-11_Wed_1602_44_baseline_model_XGB.pkl",
         "./output/2025-06-11_Wed_1602_44_baseline_model_XGB_df_train.csv",
         "./output/2025-06-11_Wed_1602_44_baseline_model_XGB_df_test.csv",
         ""
        ],
        [
         "4",
         "feauterEng_model_linear_regression",
         "32811.140791704776",
         "21068.336528171305",
         "12.847550251115214",
         "0.8596446968520945",
         "./output/2025-06-11_Wed_1602_46_feauterEng_model_linear_regression.pkl",
         "./output/2025-06-11_Wed_1602_46_feauterEng_model_linear_regression_df_train.csv",
         "./output/2025-06-11_Wed_1602_46_feauterEng_model_linear_regression_df_test.csv",
         ""
        ],
        [
         "5",
         "feauterEng_model_random_Forest",
         "28428.91196131549",
         "17292.90373287671",
         "10.992029606489169",
         "0.8946325079959523",
         "./output/2025-06-11_Wed_1602_53_feauterEng_model_random_Forest.pkl",
         "./output/2025-06-11_Wed_1602_53_feauterEng_model_random_Forest_df_train.csv",
         "./output/2025-06-11_Wed_1602_53_feauterEng_model_random_Forest_df_test.csv",
         ""
        ],
        [
         "6",
         "feauterEng_model_XGB",
         "35132.40002770671",
         "19010.372324486303",
         "11.127679146282079",
         "0.8390830457053735",
         "./output/2025-06-11_Wed_1602_54_feauterEng_model_XGB.pkl",
         "./output/2025-06-11_Wed_1602_54_feauterEng_model_XGB_df_train.csv",
         "./output/2025-06-11_Wed_1602_54_feauterEng_model_XGB_df_test.csv",
         ""
        ],
        [
         "7",
         "tuned_RndSrch_model_RF",
         "29297.12013770445",
         "17325.634800697808",
         "11.033650412003404",
         "0.8880984686728399",
         "./output/2025-06-11_Wed_1633_47_tuned_RndSrch_model_RF.pkl",
         "./output/2025-06-11_Wed_1633_47_tuned_RndSrch_model_RF_df_train.csv",
         "./output/2025-06-11_Wed_1633_47_tuned_RndSrch_model_RF_df_test.csv",
         ""
        ],
        [
         "8",
         "tuned_RndSrch_model_XGB",
         "27488.023228184025",
         "16400.908979023974",
         "10.032254402261863",
         "0.9014916184027228",
         "./output/2025-06-11_Wed_1645_49_tuned_RndSrch_model_XGB.pkl",
         "./output/2025-06-11_Wed_1645_49_tuned_RndSrch_model_XGB_df_train.csv",
         "./output/2025-06-11_Wed_1645_49_tuned_RndSrch_model_XGB_df_test.csv",
         ""
        ],
        [
         "9",
         "ensembel_tuned_rf_xgb",
         "26859.034153386612",
         "16223.437039430846",
         "9.95255142826083",
         "0.9059482352945006",
         "./output/2025-06-11_Wed_1652_54_ensembel_tuned_rf_xgb.pkl",
         "./output/2025-06-11_Wed_1652_54_ensembel_tuned_rf_xgb_df_train.csv",
         "./output/2025-06-11_Wed_1652_54_ensembel_tuned_rf_xgb_df_test.csv",
         ""
        ]
       ],
       "shape": {
        "columns": 9,
        "rows": 10
       }
      },
      "text/html": [
       "<div>\n",
       "<style scoped>\n",
       "    .dataframe tbody tr th:only-of-type {\n",
       "        vertical-align: middle;\n",
       "    }\n",
       "\n",
       "    .dataframe tbody tr th {\n",
       "        vertical-align: top;\n",
       "    }\n",
       "\n",
       "    .dataframe thead th {\n",
       "        text-align: right;\n",
       "    }\n",
       "</style>\n",
       "<table border=\"1\" class=\"dataframe\">\n",
       "  <thead>\n",
       "    <tr style=\"text-align: right;\">\n",
       "      <th></th>\n",
       "      <th>Model</th>\n",
       "      <th>RMSE</th>\n",
       "      <th>MAE</th>\n",
       "      <th>MAPE</th>\n",
       "      <th>R2</th>\n",
       "      <th>Model File</th>\n",
       "      <th>df_train</th>\n",
       "      <th>df_test</th>\n",
       "      <th>Scaler File</th>\n",
       "    </tr>\n",
       "  </thead>\n",
       "  <tbody>\n",
       "    <tr>\n",
       "      <th>0</th>\n",
       "      <td>-</td>\n",
       "      <td>0.000000</td>\n",
       "      <td>0.000000</td>\n",
       "      <td>0.000000</td>\n",
       "      <td>0.000000</td>\n",
       "      <td></td>\n",
       "      <td></td>\n",
       "      <td></td>\n",
       "      <td></td>\n",
       "    </tr>\n",
       "    <tr>\n",
       "      <th>1</th>\n",
       "      <td>baseline_model_linear_regression</td>\n",
       "      <td>32170.161993</td>\n",
       "      <td>20080.659064</td>\n",
       "      <td>11.820330</td>\n",
       "      <td>0.865075</td>\n",
       "      <td>./output/2025-06-11_Wed_1602_34_baseline_model...</td>\n",
       "      <td>./output/2025-06-11_Wed_1602_34_baseline_model...</td>\n",
       "      <td>./output/2025-06-11_Wed_1602_34_baseline_model...</td>\n",
       "      <td></td>\n",
       "    </tr>\n",
       "    <tr>\n",
       "      <th>2</th>\n",
       "      <td>baseline_model_random_Forest</td>\n",
       "      <td>28636.283593</td>\n",
       "      <td>17416.832671</td>\n",
       "      <td>10.520635</td>\n",
       "      <td>0.893090</td>\n",
       "      <td>./output/2025-06-11_Wed_1602_43_baseline_model...</td>\n",
       "      <td>./output/2025-06-11_Wed_1602_43_baseline_model...</td>\n",
       "      <td>./output/2025-06-11_Wed_1602_43_baseline_model...</td>\n",
       "      <td></td>\n",
       "    </tr>\n",
       "    <tr>\n",
       "      <th>3</th>\n",
       "      <td>baseline_model_XGB</td>\n",
       "      <td>29502.500001</td>\n",
       "      <td>16806.905982</td>\n",
       "      <td>10.269786</td>\n",
       "      <td>0.886524</td>\n",
       "      <td>./output/2025-06-11_Wed_1602_44_baseline_model...</td>\n",
       "      <td>./output/2025-06-11_Wed_1602_44_baseline_model...</td>\n",
       "      <td>./output/2025-06-11_Wed_1602_44_baseline_model...</td>\n",
       "      <td></td>\n",
       "    </tr>\n",
       "    <tr>\n",
       "      <th>4</th>\n",
       "      <td>feauterEng_model_linear_regression</td>\n",
       "      <td>32811.140792</td>\n",
       "      <td>21068.336528</td>\n",
       "      <td>12.847550</td>\n",
       "      <td>0.859645</td>\n",
       "      <td>./output/2025-06-11_Wed_1602_46_feauterEng_mod...</td>\n",
       "      <td>./output/2025-06-11_Wed_1602_46_feauterEng_mod...</td>\n",
       "      <td>./output/2025-06-11_Wed_1602_46_feauterEng_mod...</td>\n",
       "      <td></td>\n",
       "    </tr>\n",
       "    <tr>\n",
       "      <th>5</th>\n",
       "      <td>feauterEng_model_random_Forest</td>\n",
       "      <td>28428.911961</td>\n",
       "      <td>17292.903733</td>\n",
       "      <td>10.992030</td>\n",
       "      <td>0.894633</td>\n",
       "      <td>./output/2025-06-11_Wed_1602_53_feauterEng_mod...</td>\n",
       "      <td>./output/2025-06-11_Wed_1602_53_feauterEng_mod...</td>\n",
       "      <td>./output/2025-06-11_Wed_1602_53_feauterEng_mod...</td>\n",
       "      <td></td>\n",
       "    </tr>\n",
       "    <tr>\n",
       "      <th>6</th>\n",
       "      <td>feauterEng_model_XGB</td>\n",
       "      <td>35132.400028</td>\n",
       "      <td>19010.372324</td>\n",
       "      <td>11.127679</td>\n",
       "      <td>0.839083</td>\n",
       "      <td>./output/2025-06-11_Wed_1602_54_feauterEng_mod...</td>\n",
       "      <td>./output/2025-06-11_Wed_1602_54_feauterEng_mod...</td>\n",
       "      <td>./output/2025-06-11_Wed_1602_54_feauterEng_mod...</td>\n",
       "      <td></td>\n",
       "    </tr>\n",
       "    <tr>\n",
       "      <th>7</th>\n",
       "      <td>tuned_RndSrch_model_RF</td>\n",
       "      <td>29297.120138</td>\n",
       "      <td>17325.634801</td>\n",
       "      <td>11.033650</td>\n",
       "      <td>0.888098</td>\n",
       "      <td>./output/2025-06-11_Wed_1633_47_tuned_RndSrch_...</td>\n",
       "      <td>./output/2025-06-11_Wed_1633_47_tuned_RndSrch_...</td>\n",
       "      <td>./output/2025-06-11_Wed_1633_47_tuned_RndSrch_...</td>\n",
       "      <td></td>\n",
       "    </tr>\n",
       "    <tr>\n",
       "      <th>8</th>\n",
       "      <td>tuned_RndSrch_model_XGB</td>\n",
       "      <td>27488.023228</td>\n",
       "      <td>16400.908979</td>\n",
       "      <td>10.032254</td>\n",
       "      <td>0.901492</td>\n",
       "      <td>./output/2025-06-11_Wed_1645_49_tuned_RndSrch_...</td>\n",
       "      <td>./output/2025-06-11_Wed_1645_49_tuned_RndSrch_...</td>\n",
       "      <td>./output/2025-06-11_Wed_1645_49_tuned_RndSrch_...</td>\n",
       "      <td></td>\n",
       "    </tr>\n",
       "    <tr>\n",
       "      <th>9</th>\n",
       "      <td>ensembel_tuned_rf_xgb</td>\n",
       "      <td>26859.034153</td>\n",
       "      <td>16223.437039</td>\n",
       "      <td>9.952551</td>\n",
       "      <td>0.905948</td>\n",
       "      <td>./output/2025-06-11_Wed_1652_54_ensembel_tuned...</td>\n",
       "      <td>./output/2025-06-11_Wed_1652_54_ensembel_tuned...</td>\n",
       "      <td>./output/2025-06-11_Wed_1652_54_ensembel_tuned...</td>\n",
       "      <td></td>\n",
       "    </tr>\n",
       "  </tbody>\n",
       "</table>\n",
       "</div>"
      ],
      "text/plain": [
       "                                Model          RMSE           MAE       MAPE  \\\n",
       "0                                   -      0.000000      0.000000   0.000000   \n",
       "1    baseline_model_linear_regression  32170.161993  20080.659064  11.820330   \n",
       "2        baseline_model_random_Forest  28636.283593  17416.832671  10.520635   \n",
       "3                  baseline_model_XGB  29502.500001  16806.905982  10.269786   \n",
       "4  feauterEng_model_linear_regression  32811.140792  21068.336528  12.847550   \n",
       "5      feauterEng_model_random_Forest  28428.911961  17292.903733  10.992030   \n",
       "6                feauterEng_model_XGB  35132.400028  19010.372324  11.127679   \n",
       "7              tuned_RndSrch_model_RF  29297.120138  17325.634801  11.033650   \n",
       "8             tuned_RndSrch_model_XGB  27488.023228  16400.908979  10.032254   \n",
       "9               ensembel_tuned_rf_xgb  26859.034153  16223.437039   9.952551   \n",
       "\n",
       "         R2                                         Model File  \\\n",
       "0  0.000000                                                      \n",
       "1  0.865075  ./output/2025-06-11_Wed_1602_34_baseline_model...   \n",
       "2  0.893090  ./output/2025-06-11_Wed_1602_43_baseline_model...   \n",
       "3  0.886524  ./output/2025-06-11_Wed_1602_44_baseline_model...   \n",
       "4  0.859645  ./output/2025-06-11_Wed_1602_46_feauterEng_mod...   \n",
       "5  0.894633  ./output/2025-06-11_Wed_1602_53_feauterEng_mod...   \n",
       "6  0.839083  ./output/2025-06-11_Wed_1602_54_feauterEng_mod...   \n",
       "7  0.888098  ./output/2025-06-11_Wed_1633_47_tuned_RndSrch_...   \n",
       "8  0.901492  ./output/2025-06-11_Wed_1645_49_tuned_RndSrch_...   \n",
       "9  0.905948  ./output/2025-06-11_Wed_1652_54_ensembel_tuned...   \n",
       "\n",
       "                                            df_train  \\\n",
       "0                                                      \n",
       "1  ./output/2025-06-11_Wed_1602_34_baseline_model...   \n",
       "2  ./output/2025-06-11_Wed_1602_43_baseline_model...   \n",
       "3  ./output/2025-06-11_Wed_1602_44_baseline_model...   \n",
       "4  ./output/2025-06-11_Wed_1602_46_feauterEng_mod...   \n",
       "5  ./output/2025-06-11_Wed_1602_53_feauterEng_mod...   \n",
       "6  ./output/2025-06-11_Wed_1602_54_feauterEng_mod...   \n",
       "7  ./output/2025-06-11_Wed_1633_47_tuned_RndSrch_...   \n",
       "8  ./output/2025-06-11_Wed_1645_49_tuned_RndSrch_...   \n",
       "9  ./output/2025-06-11_Wed_1652_54_ensembel_tuned...   \n",
       "\n",
       "                                             df_test Scaler File  \n",
       "0                                                                 \n",
       "1  ./output/2025-06-11_Wed_1602_34_baseline_model...              \n",
       "2  ./output/2025-06-11_Wed_1602_43_baseline_model...              \n",
       "3  ./output/2025-06-11_Wed_1602_44_baseline_model...              \n",
       "4  ./output/2025-06-11_Wed_1602_46_feauterEng_mod...              \n",
       "5  ./output/2025-06-11_Wed_1602_53_feauterEng_mod...              \n",
       "6  ./output/2025-06-11_Wed_1602_54_feauterEng_mod...              \n",
       "7  ./output/2025-06-11_Wed_1633_47_tuned_RndSrch_...              \n",
       "8  ./output/2025-06-11_Wed_1645_49_tuned_RndSrch_...              \n",
       "9  ./output/2025-06-11_Wed_1652_54_ensembel_tuned...              "
      ]
     },
     "execution_count": 781,
     "metadata": {},
     "output_type": "execute_result"
    }
   ],
   "source": [
    "results_df"
   ]
  },
  {
   "cell_type": "code",
   "execution_count": 782,
   "id": "80f2a54d",
   "metadata": {},
   "outputs": [
    {
     "data": {
      "application/vnd.microsoft.datawrangler.viewer.v0+json": {
       "columns": [
        {
         "name": "index",
         "rawType": "int64",
         "type": "integer"
        },
        {
         "name": "Model",
         "rawType": "object",
         "type": "string"
        },
        {
         "name": "RMSE",
         "rawType": "float64",
         "type": "float"
        },
        {
         "name": "MAE",
         "rawType": "float64",
         "type": "float"
        },
        {
         "name": "MAPE",
         "rawType": "float64",
         "type": "float"
        },
        {
         "name": "R2",
         "rawType": "float64",
         "type": "float"
        },
        {
         "name": "Model File",
         "rawType": "object",
         "type": "string"
        },
        {
         "name": "df_train",
         "rawType": "object",
         "type": "string"
        },
        {
         "name": "df_test",
         "rawType": "object",
         "type": "string"
        },
        {
         "name": "Scaler File",
         "rawType": "object",
         "type": "string"
        }
       ],
       "ref": "dab00d2c-7a08-4caa-96ae-4ed792534b17",
       "rows": [
        [
         "0",
         "-",
         "0.0",
         "0.0",
         "0.0",
         "0.0",
         "",
         "",
         "",
         ""
        ],
        [
         "1",
         "baseline_model_linear_regression",
         "32170.162",
         "20080.6591",
         "11.8203",
         "0.8651",
         "./output/2025-06-11_Wed_1602_34_baseline_model_linear_regression.pkl",
         "./output/2025-06-11_Wed_1602_34_baseline_model_linear_regression_df_train.csv",
         "./output/2025-06-11_Wed_1602_34_baseline_model_linear_regression_df_test.csv",
         ""
        ],
        [
         "2",
         "baseline_model_random_Forest",
         "28636.2836",
         "17416.8327",
         "10.5206",
         "0.8931",
         "./output/2025-06-11_Wed_1602_43_baseline_model_random_Forest.pkl",
         "./output/2025-06-11_Wed_1602_43_baseline_model_random_Forest_df_train.csv",
         "./output/2025-06-11_Wed_1602_43_baseline_model_random_Forest_df_test.csv",
         ""
        ],
        [
         "3",
         "baseline_model_XGB",
         "29502.5",
         "16806.906",
         "10.2698",
         "0.8865",
         "./output/2025-06-11_Wed_1602_44_baseline_model_XGB.pkl",
         "./output/2025-06-11_Wed_1602_44_baseline_model_XGB_df_train.csv",
         "./output/2025-06-11_Wed_1602_44_baseline_model_XGB_df_test.csv",
         ""
        ],
        [
         "4",
         "feauterEng_model_linear_regression",
         "32811.1408",
         "21068.3365",
         "12.8476",
         "0.8596",
         "./output/2025-06-11_Wed_1602_46_feauterEng_model_linear_regression.pkl",
         "./output/2025-06-11_Wed_1602_46_feauterEng_model_linear_regression_df_train.csv",
         "./output/2025-06-11_Wed_1602_46_feauterEng_model_linear_regression_df_test.csv",
         ""
        ],
        [
         "5",
         "feauterEng_model_random_Forest",
         "28428.912",
         "17292.9037",
         "10.992",
         "0.8946",
         "./output/2025-06-11_Wed_1602_53_feauterEng_model_random_Forest.pkl",
         "./output/2025-06-11_Wed_1602_53_feauterEng_model_random_Forest_df_train.csv",
         "./output/2025-06-11_Wed_1602_53_feauterEng_model_random_Forest_df_test.csv",
         ""
        ],
        [
         "6",
         "feauterEng_model_XGB",
         "35132.4",
         "19010.3723",
         "11.1277",
         "0.8391",
         "./output/2025-06-11_Wed_1602_54_feauterEng_model_XGB.pkl",
         "./output/2025-06-11_Wed_1602_54_feauterEng_model_XGB_df_train.csv",
         "./output/2025-06-11_Wed_1602_54_feauterEng_model_XGB_df_test.csv",
         ""
        ],
        [
         "7",
         "tuned_RndSrch_model_RF",
         "29297.1201",
         "17325.6348",
         "11.0337",
         "0.8881",
         "./output/2025-06-11_Wed_1633_47_tuned_RndSrch_model_RF.pkl",
         "./output/2025-06-11_Wed_1633_47_tuned_RndSrch_model_RF_df_train.csv",
         "./output/2025-06-11_Wed_1633_47_tuned_RndSrch_model_RF_df_test.csv",
         ""
        ],
        [
         "8",
         "tuned_RndSrch_model_XGB",
         "27488.0232",
         "16400.909",
         "10.0323",
         "0.9015",
         "./output/2025-06-11_Wed_1645_49_tuned_RndSrch_model_XGB.pkl",
         "./output/2025-06-11_Wed_1645_49_tuned_RndSrch_model_XGB_df_train.csv",
         "./output/2025-06-11_Wed_1645_49_tuned_RndSrch_model_XGB_df_test.csv",
         ""
        ],
        [
         "9",
         "ensembel_tuned_rf_xgb",
         "26859.0342",
         "16223.437",
         "9.9526",
         "0.9059",
         "./output/2025-06-11_Wed_1652_54_ensembel_tuned_rf_xgb.pkl",
         "./output/2025-06-11_Wed_1652_54_ensembel_tuned_rf_xgb_df_train.csv",
         "./output/2025-06-11_Wed_1652_54_ensembel_tuned_rf_xgb_df_test.csv",
         ""
        ]
       ],
       "shape": {
        "columns": 9,
        "rows": 10
       }
      },
      "text/html": [
       "<div>\n",
       "<style scoped>\n",
       "    .dataframe tbody tr th:only-of-type {\n",
       "        vertical-align: middle;\n",
       "    }\n",
       "\n",
       "    .dataframe tbody tr th {\n",
       "        vertical-align: top;\n",
       "    }\n",
       "\n",
       "    .dataframe thead th {\n",
       "        text-align: right;\n",
       "    }\n",
       "</style>\n",
       "<table border=\"1\" class=\"dataframe\">\n",
       "  <thead>\n",
       "    <tr style=\"text-align: right;\">\n",
       "      <th></th>\n",
       "      <th>Model</th>\n",
       "      <th>RMSE</th>\n",
       "      <th>MAE</th>\n",
       "      <th>MAPE</th>\n",
       "      <th>R2</th>\n",
       "      <th>Model File</th>\n",
       "      <th>df_train</th>\n",
       "      <th>df_test</th>\n",
       "      <th>Scaler File</th>\n",
       "    </tr>\n",
       "  </thead>\n",
       "  <tbody>\n",
       "    <tr>\n",
       "      <th>0</th>\n",
       "      <td>-</td>\n",
       "      <td>0.0000</td>\n",
       "      <td>0.0000</td>\n",
       "      <td>0.0000</td>\n",
       "      <td>0.0000</td>\n",
       "      <td></td>\n",
       "      <td></td>\n",
       "      <td></td>\n",
       "      <td></td>\n",
       "    </tr>\n",
       "    <tr>\n",
       "      <th>1</th>\n",
       "      <td>baseline_model_linear_regression</td>\n",
       "      <td>32170.1620</td>\n",
       "      <td>20080.6591</td>\n",
       "      <td>11.8203</td>\n",
       "      <td>0.8651</td>\n",
       "      <td>./output/2025-06-11_Wed_1602_34_baseline_model...</td>\n",
       "      <td>./output/2025-06-11_Wed_1602_34_baseline_model...</td>\n",
       "      <td>./output/2025-06-11_Wed_1602_34_baseline_model...</td>\n",
       "      <td></td>\n",
       "    </tr>\n",
       "    <tr>\n",
       "      <th>2</th>\n",
       "      <td>baseline_model_random_Forest</td>\n",
       "      <td>28636.2836</td>\n",
       "      <td>17416.8327</td>\n",
       "      <td>10.5206</td>\n",
       "      <td>0.8931</td>\n",
       "      <td>./output/2025-06-11_Wed_1602_43_baseline_model...</td>\n",
       "      <td>./output/2025-06-11_Wed_1602_43_baseline_model...</td>\n",
       "      <td>./output/2025-06-11_Wed_1602_43_baseline_model...</td>\n",
       "      <td></td>\n",
       "    </tr>\n",
       "    <tr>\n",
       "      <th>3</th>\n",
       "      <td>baseline_model_XGB</td>\n",
       "      <td>29502.5000</td>\n",
       "      <td>16806.9060</td>\n",
       "      <td>10.2698</td>\n",
       "      <td>0.8865</td>\n",
       "      <td>./output/2025-06-11_Wed_1602_44_baseline_model...</td>\n",
       "      <td>./output/2025-06-11_Wed_1602_44_baseline_model...</td>\n",
       "      <td>./output/2025-06-11_Wed_1602_44_baseline_model...</td>\n",
       "      <td></td>\n",
       "    </tr>\n",
       "    <tr>\n",
       "      <th>4</th>\n",
       "      <td>feauterEng_model_linear_regression</td>\n",
       "      <td>32811.1408</td>\n",
       "      <td>21068.3365</td>\n",
       "      <td>12.8476</td>\n",
       "      <td>0.8596</td>\n",
       "      <td>./output/2025-06-11_Wed_1602_46_feauterEng_mod...</td>\n",
       "      <td>./output/2025-06-11_Wed_1602_46_feauterEng_mod...</td>\n",
       "      <td>./output/2025-06-11_Wed_1602_46_feauterEng_mod...</td>\n",
       "      <td></td>\n",
       "    </tr>\n",
       "    <tr>\n",
       "      <th>5</th>\n",
       "      <td>feauterEng_model_random_Forest</td>\n",
       "      <td>28428.9120</td>\n",
       "      <td>17292.9037</td>\n",
       "      <td>10.9920</td>\n",
       "      <td>0.8946</td>\n",
       "      <td>./output/2025-06-11_Wed_1602_53_feauterEng_mod...</td>\n",
       "      <td>./output/2025-06-11_Wed_1602_53_feauterEng_mod...</td>\n",
       "      <td>./output/2025-06-11_Wed_1602_53_feauterEng_mod...</td>\n",
       "      <td></td>\n",
       "    </tr>\n",
       "    <tr>\n",
       "      <th>6</th>\n",
       "      <td>feauterEng_model_XGB</td>\n",
       "      <td>35132.4000</td>\n",
       "      <td>19010.3723</td>\n",
       "      <td>11.1277</td>\n",
       "      <td>0.8391</td>\n",
       "      <td>./output/2025-06-11_Wed_1602_54_feauterEng_mod...</td>\n",
       "      <td>./output/2025-06-11_Wed_1602_54_feauterEng_mod...</td>\n",
       "      <td>./output/2025-06-11_Wed_1602_54_feauterEng_mod...</td>\n",
       "      <td></td>\n",
       "    </tr>\n",
       "    <tr>\n",
       "      <th>7</th>\n",
       "      <td>tuned_RndSrch_model_RF</td>\n",
       "      <td>29297.1201</td>\n",
       "      <td>17325.6348</td>\n",
       "      <td>11.0337</td>\n",
       "      <td>0.8881</td>\n",
       "      <td>./output/2025-06-11_Wed_1633_47_tuned_RndSrch_...</td>\n",
       "      <td>./output/2025-06-11_Wed_1633_47_tuned_RndSrch_...</td>\n",
       "      <td>./output/2025-06-11_Wed_1633_47_tuned_RndSrch_...</td>\n",
       "      <td></td>\n",
       "    </tr>\n",
       "    <tr>\n",
       "      <th>8</th>\n",
       "      <td>tuned_RndSrch_model_XGB</td>\n",
       "      <td>27488.0232</td>\n",
       "      <td>16400.9090</td>\n",
       "      <td>10.0323</td>\n",
       "      <td>0.9015</td>\n",
       "      <td>./output/2025-06-11_Wed_1645_49_tuned_RndSrch_...</td>\n",
       "      <td>./output/2025-06-11_Wed_1645_49_tuned_RndSrch_...</td>\n",
       "      <td>./output/2025-06-11_Wed_1645_49_tuned_RndSrch_...</td>\n",
       "      <td></td>\n",
       "    </tr>\n",
       "    <tr>\n",
       "      <th>9</th>\n",
       "      <td>ensembel_tuned_rf_xgb</td>\n",
       "      <td>26859.0342</td>\n",
       "      <td>16223.4370</td>\n",
       "      <td>9.9526</td>\n",
       "      <td>0.9059</td>\n",
       "      <td>./output/2025-06-11_Wed_1652_54_ensembel_tuned...</td>\n",
       "      <td>./output/2025-06-11_Wed_1652_54_ensembel_tuned...</td>\n",
       "      <td>./output/2025-06-11_Wed_1652_54_ensembel_tuned...</td>\n",
       "      <td></td>\n",
       "    </tr>\n",
       "  </tbody>\n",
       "</table>\n",
       "</div>"
      ],
      "text/plain": [
       "                                Model        RMSE         MAE     MAPE  \\\n",
       "0                                   -      0.0000      0.0000   0.0000   \n",
       "1    baseline_model_linear_regression  32170.1620  20080.6591  11.8203   \n",
       "2        baseline_model_random_Forest  28636.2836  17416.8327  10.5206   \n",
       "3                  baseline_model_XGB  29502.5000  16806.9060  10.2698   \n",
       "4  feauterEng_model_linear_regression  32811.1408  21068.3365  12.8476   \n",
       "5      feauterEng_model_random_Forest  28428.9120  17292.9037  10.9920   \n",
       "6                feauterEng_model_XGB  35132.4000  19010.3723  11.1277   \n",
       "7              tuned_RndSrch_model_RF  29297.1201  17325.6348  11.0337   \n",
       "8             tuned_RndSrch_model_XGB  27488.0232  16400.9090  10.0323   \n",
       "9               ensembel_tuned_rf_xgb  26859.0342  16223.4370   9.9526   \n",
       "\n",
       "       R2                                         Model File  \\\n",
       "0  0.0000                                                      \n",
       "1  0.8651  ./output/2025-06-11_Wed_1602_34_baseline_model...   \n",
       "2  0.8931  ./output/2025-06-11_Wed_1602_43_baseline_model...   \n",
       "3  0.8865  ./output/2025-06-11_Wed_1602_44_baseline_model...   \n",
       "4  0.8596  ./output/2025-06-11_Wed_1602_46_feauterEng_mod...   \n",
       "5  0.8946  ./output/2025-06-11_Wed_1602_53_feauterEng_mod...   \n",
       "6  0.8391  ./output/2025-06-11_Wed_1602_54_feauterEng_mod...   \n",
       "7  0.8881  ./output/2025-06-11_Wed_1633_47_tuned_RndSrch_...   \n",
       "8  0.9015  ./output/2025-06-11_Wed_1645_49_tuned_RndSrch_...   \n",
       "9  0.9059  ./output/2025-06-11_Wed_1652_54_ensembel_tuned...   \n",
       "\n",
       "                                            df_train  \\\n",
       "0                                                      \n",
       "1  ./output/2025-06-11_Wed_1602_34_baseline_model...   \n",
       "2  ./output/2025-06-11_Wed_1602_43_baseline_model...   \n",
       "3  ./output/2025-06-11_Wed_1602_44_baseline_model...   \n",
       "4  ./output/2025-06-11_Wed_1602_46_feauterEng_mod...   \n",
       "5  ./output/2025-06-11_Wed_1602_53_feauterEng_mod...   \n",
       "6  ./output/2025-06-11_Wed_1602_54_feauterEng_mod...   \n",
       "7  ./output/2025-06-11_Wed_1633_47_tuned_RndSrch_...   \n",
       "8  ./output/2025-06-11_Wed_1645_49_tuned_RndSrch_...   \n",
       "9  ./output/2025-06-11_Wed_1652_54_ensembel_tuned...   \n",
       "\n",
       "                                             df_test Scaler File  \n",
       "0                                                                 \n",
       "1  ./output/2025-06-11_Wed_1602_34_baseline_model...              \n",
       "2  ./output/2025-06-11_Wed_1602_43_baseline_model...              \n",
       "3  ./output/2025-06-11_Wed_1602_44_baseline_model...              \n",
       "4  ./output/2025-06-11_Wed_1602_46_feauterEng_mod...              \n",
       "5  ./output/2025-06-11_Wed_1602_53_feauterEng_mod...              \n",
       "6  ./output/2025-06-11_Wed_1602_54_feauterEng_mod...              \n",
       "7  ./output/2025-06-11_Wed_1633_47_tuned_RndSrch_...              \n",
       "8  ./output/2025-06-11_Wed_1645_49_tuned_RndSrch_...              \n",
       "9  ./output/2025-06-11_Wed_1652_54_ensembel_tuned...              "
      ]
     },
     "execution_count": 782,
     "metadata": {},
     "output_type": "execute_result"
    }
   ],
   "source": [
    "results_df_rounded = results_df.copy()\n",
    "results_df_rounded[['RMSE', 'MAE', 'MAPE', 'R2']] = results_df_rounded[['RMSE', 'MAE', 'MAPE', 'R2']].round(4)\n",
    "results_df_rounded"
   ]
  },
  {
   "cell_type": "code",
   "execution_count": 783,
   "id": "4a98821d",
   "metadata": {},
   "outputs": [
    {
     "name": "stdout",
     "output_type": "stream",
     "text": [
      "                                Model        RMSE         MAE    MAPE     R2\n",
      "9               ensembel_tuned_rf_xgb 26,859.0342 16,223.4370  9.9526 0.9059\n",
      "8             tuned_RndSrch_model_XGB 27,488.0232 16,400.9090 10.0323 0.9015\n",
      "5      feauterEng_model_random_Forest 28,428.9120 17,292.9037 10.9920 0.8946\n",
      "2        baseline_model_random_Forest 28,636.2836 17,416.8327 10.5206 0.8931\n",
      "7              tuned_RndSrch_model_RF 29,297.1201 17,325.6348 11.0337 0.8881\n",
      "3                  baseline_model_XGB 29,502.5000 16,806.9060 10.2698 0.8865\n",
      "1    baseline_model_linear_regression 32,170.1620 20,080.6591 11.8203 0.8651\n",
      "4  feauterEng_model_linear_regression 32,811.1408 21,068.3365 12.8476 0.8596\n",
      "6                feauterEng_model_XGB 35,132.4000 19,010.3723 11.1277 0.8391\n",
      "0                                   -      0.0000      0.0000  0.0000 0.0000\n"
     ]
    }
   ],
   "source": [
    "with pd.option_context('display.float_format', '{:,.4f}'.format):\n",
    "    print(results_df[['Model','RMSE', 'MAE','MAPE', 'R2']].sort_values(by=['R2'], ascending=[False]))"
   ]
  }
 ],
 "metadata": {
  "kernelspec": {
   "display_name": "Python (datly)",
   "language": "python",
   "name": "datly"
  },
  "language_info": {
   "codemirror_mode": {
    "name": "ipython",
    "version": 3
   },
   "file_extension": ".py",
   "mimetype": "text/x-python",
   "name": "python",
   "nbconvert_exporter": "python",
   "pygments_lexer": "ipython3",
   "version": "3.8.20"
  }
 },
 "nbformat": 4,
 "nbformat_minor": 5
}
